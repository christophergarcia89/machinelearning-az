{
  "nbformat": 4,
  "nbformat_minor": 0,
  "metadata": {
    "colab": {
      "name": "Apuntes Python.ipynb",
      "provenance": [],
      "authorship_tag": "ABX9TyNpq6pQb/H4eQmmR1e5Wd4L",
      "include_colab_link": true
    },
    "kernelspec": {
      "name": "python3",
      "display_name": "Python 3"
    },
    "language_info": {
      "name": "python"
    }
  },
  "cells": [
    {
      "cell_type": "markdown",
      "metadata": {
        "id": "view-in-github",
        "colab_type": "text"
      },
      "source": [
        "<a href=\"https://colab.research.google.com/github/christophergarcia89/machinelearning-az/blob/master/Apuntes_Python.ipynb\" target=\"_parent\"><img src=\"https://colab.research.google.com/assets/colab-badge.svg\" alt=\"Open In Colab\"/></a>"
      ]
    },
    {
      "cell_type": "markdown",
      "metadata": {
        "id": "Ih9glB7MQ86u"
      },
      "source": [
        "### El método `.format()`\n",
        "\n",
        "Existe otra forma de concatenar strings y variables de cualquier tipo dentro de un `print()` y es gracias al método `.format()`. Lo que hay que hacer es indicar con llaves, `{}`, donde queremos situar el resultado de las variables y luego, dentro de los paréntesis del método `.format()`, indicar las variables en su respectivo orden"
      ]
    },
    {
      "cell_type": "code",
      "metadata": {
        "id": "JXsuEE6mQ5-2",
        "colab": {
          "base_uri": "https://localhost:8080/"
        },
        "outputId": "e5359a9d-3741-44a9-fecb-188657baf212"
      },
      "source": [
        "nombre = \"Ricardo\"\n",
        "numero_gatos = 3\n",
        "print(\"Mi abuelo se llama {} y tiene {} gatos\".format(nombre, numero_gatos))"
      ],
      "execution_count": null,
      "outputs": [
        {
          "output_type": "stream",
          "text": [
            "Mi abuelo se llama Ricardo y tiene 3 gatos\n"
          ],
          "name": "stdout"
        }
      ]
    },
    {
      "cell_type": "markdown",
      "metadata": {
        "id": "WoD3EBWYS4ts"
      },
      "source": [
        "## Substrings\n",
        "\n",
        "Para acceder a un caracter de una variable string usamos la sintaxis de `[]`"
      ]
    },
    {
      "cell_type": "markdown",
      "metadata": {
        "id": "hLzZPNdt0Gha"
      },
      "source": [
        "Si precedemos el índice por un `-`, entonces empezamos desde el final"
      ]
    },
    {
      "cell_type": "markdown",
      "metadata": {
        "id": "TUyZcCC10cw7"
      },
      "source": [
        "Si queremos acceder a varios caracteres seguidos, podemos utilizar la función `:`"
      ]
    },
    {
      "cell_type": "code",
      "metadata": {
        "id": "_RoR2o970Phv",
        "colab": {
          "base_uri": "https://localhost:8080/",
          "height": 35
        },
        "outputId": "8d940521-08b3-4ef1-a836-1765cb62af82"
      },
      "source": [
        "s[4:7] # Del quinto al séptimo"
      ],
      "execution_count": null,
      "outputs": [
        {
          "output_type": "execute_result",
          "data": {
            "application/vnd.google.colaboratory.intrinsic+json": {
              "type": "string"
            },
            "text/plain": [
              "'fan'"
            ]
          },
          "metadata": {
            "tags": []
          },
          "execution_count": 28
        }
      ]
    },
    {
      "cell_type": "code",
      "metadata": {
        "id": "AxGN5YDN0hUI",
        "colab": {
          "base_uri": "https://localhost:8080/",
          "height": 35
        },
        "outputId": "571a1899-278d-4517-9670-b9e83945af24"
      },
      "source": [
        "s[:7] # Del primero al séptimo"
      ],
      "execution_count": null,
      "outputs": [
        {
          "output_type": "execute_result",
          "data": {
            "application/vnd.google.colaboratory.intrinsic+json": {
              "type": "string"
            },
            "text/plain": [
              "'Soy fan'"
            ]
          },
          "metadata": {
            "tags": []
          },
          "execution_count": 29
        }
      ]
    },
    {
      "cell_type": "code",
      "metadata": {
        "id": "teaoOQ6-0wTL",
        "colab": {
          "base_uri": "https://localhost:8080/",
          "height": 37
        },
        "outputId": "332b665a-62ad-4dc4-998e-c1ac7b99b922"
      },
      "source": [
        "s[8:] # Del noveno al final"
      ],
      "execution_count": null,
      "outputs": [
        {
          "output_type": "execute_result",
          "data": {
            "application/vnd.google.colaboratory.intrinsic+json": {
              "type": "string"
            },
            "text/plain": [
              "'e los videojuegos'"
            ]
          },
          "metadata": {
            "tags": []
          },
          "execution_count": 10
        }
      ]
    },
    {
      "cell_type": "markdown",
      "metadata": {
        "id": "0rlXs9bj1ODn"
      },
      "source": [
        "Si precedemos por `-` al índice de la izquierda de `:` y no ponemos ninguno a su derecha, lo que hacemos es obtener los últimos elementos"
      ]
    },
    {
      "cell_type": "code",
      "metadata": {
        "id": "cyF8_JVM07ju",
        "colab": {
          "base_uri": "https://localhost:8080/",
          "height": 35
        },
        "outputId": "591dea98-195d-4399-b773-8f6ccbfc7ee9"
      },
      "source": [
        "s[-10:] # Diez últimos elementos"
      ],
      "execution_count": null,
      "outputs": [
        {
          "output_type": "execute_result",
          "data": {
            "application/vnd.google.colaboratory.intrinsic+json": {
              "type": "string"
            },
            "text/plain": [
              "'ideojuegos'"
            ]
          },
          "metadata": {
            "tags": []
          },
          "execution_count": 30
        }
      ]
    },
    {
      "cell_type": "markdown",
      "metadata": {
        "id": "f6j9wom51fMl"
      },
      "source": [
        "Si al contrario, precedemos por `-` al índice de la derecha, sin poner ningún índice a la izquierda de `:`, obtendremos todos los elementos salvo el número de elementos indicados por el índice (recordemos que si precedíamos por `-`, los índices empezaban desde el final)."
      ]
    },
    {
      "cell_type": "code",
      "metadata": {
        "id": "WVoZjls11Wj2",
        "colab": {
          "base_uri": "https://localhost:8080/",
          "height": 35
        },
        "outputId": "8f1d50b6-aef2-4518-d131-5b517b055922"
      },
      "source": [
        "s[:-10]"
      ],
      "execution_count": null,
      "outputs": [
        {
          "output_type": "execute_result",
          "data": {
            "application/vnd.google.colaboratory.intrinsic+json": {
              "type": "string"
            },
            "text/plain": [
              "'Soy fan de los v'"
            ]
          },
          "metadata": {
            "tags": []
          },
          "execution_count": 31
        }
      ]
    },
    {
      "cell_type": "markdown",
      "metadata": {
        "id": "9repvcnlb0H_"
      },
      "source": [
        "### El método `.format()`\n",
        "\n",
        "Existe otra forma de concatenar strings y variables de cualquier tipo dentro de un `print()` y es gracias al método `.format()`. Lo que hay que hacer es indicar con llaves, `{}`, donde queremos situar el resultado de las variables y luego, dentro de los paréntesis del método `.format()`, indicar las variables en su respectivo orden"
      ]
    },
    {
      "cell_type": "code",
      "metadata": {
        "colab": {
          "base_uri": "https://localhost:8080/"
        },
        "id": "oGEZwFaqb0IA",
        "outputId": "e5359a9d-3741-44a9-fecb-188657baf212"
      },
      "source": [
        "nombre = \"Ricardo\"\n",
        "numero_gatos = 3\n",
        "print(\"Mi abuelo se llama {} y tiene {} gatos\".format(nombre, numero_gatos))"
      ],
      "execution_count": null,
      "outputs": [
        {
          "output_type": "stream",
          "text": [
            "Mi abuelo se llama Ricardo y tiene 3 gatos\n"
          ],
          "name": "stdout"
        }
      ]
    },
    {
      "cell_type": "markdown",
      "metadata": {
        "id": "NN-xsR2Ab0IA"
      },
      "source": [
        "## Substrings\n",
        "\n",
        "Para acceder a un caracter de una variable string usamos la sintaxis de `[]`"
      ]
    },
    {
      "cell_type": "markdown",
      "metadata": {
        "id": "5ZtBECqfb0IB"
      },
      "source": [
        "Si precedemos el índice por un `-`, entonces empezamos desde el final"
      ]
    },
    {
      "cell_type": "markdown",
      "metadata": {
        "id": "187HDIzib0IC"
      },
      "source": [
        "Si queremos acceder a varios caracteres seguidos, podemos utilizar la función `:`"
      ]
    },
    {
      "cell_type": "code",
      "metadata": {
        "colab": {
          "base_uri": "https://localhost:8080/",
          "height": 35
        },
        "id": "5_Sg1DWNb0IC",
        "outputId": "8d940521-08b3-4ef1-a836-1765cb62af82"
      },
      "source": [
        "s[4:7] # Del quinto al séptimo"
      ],
      "execution_count": null,
      "outputs": [
        {
          "output_type": "execute_result",
          "data": {
            "application/vnd.google.colaboratory.intrinsic+json": {
              "type": "string"
            },
            "text/plain": [
              "'fan'"
            ]
          },
          "metadata": {
            "tags": []
          },
          "execution_count": 28
        }
      ]
    },
    {
      "cell_type": "code",
      "metadata": {
        "colab": {
          "base_uri": "https://localhost:8080/",
          "height": 35
        },
        "id": "XZLopgnub0ID",
        "outputId": "571a1899-278d-4517-9670-b9e83945af24"
      },
      "source": [
        "s[:7] # Del primero al séptimo"
      ],
      "execution_count": null,
      "outputs": [
        {
          "output_type": "execute_result",
          "data": {
            "application/vnd.google.colaboratory.intrinsic+json": {
              "type": "string"
            },
            "text/plain": [
              "'Soy fan'"
            ]
          },
          "metadata": {
            "tags": []
          },
          "execution_count": 29
        }
      ]
    },
    {
      "cell_type": "code",
      "metadata": {
        "colab": {
          "base_uri": "https://localhost:8080/",
          "height": 37
        },
        "id": "4vbprX6tb0IE",
        "outputId": "332b665a-62ad-4dc4-998e-c1ac7b99b922"
      },
      "source": [
        "s[8:] # Del noveno al final"
      ],
      "execution_count": null,
      "outputs": [
        {
          "output_type": "execute_result",
          "data": {
            "application/vnd.google.colaboratory.intrinsic+json": {
              "type": "string"
            },
            "text/plain": [
              "'e los videojuegos'"
            ]
          },
          "metadata": {
            "tags": []
          },
          "execution_count": 10
        }
      ]
    },
    {
      "cell_type": "markdown",
      "metadata": {
        "id": "WEtjXHI8b0IE"
      },
      "source": [
        "Si precedemos por `-` al índice de la izquierda de `:` y no ponemos ninguno a su derecha, lo que hacemos es obtener los últimos elementos"
      ]
    },
    {
      "cell_type": "code",
      "metadata": {
        "colab": {
          "base_uri": "https://localhost:8080/",
          "height": 35
        },
        "id": "AuYBGPezb0IE",
        "outputId": "591dea98-195d-4399-b773-8f6ccbfc7ee9"
      },
      "source": [
        "s[-10:] # Diez últimos elementos"
      ],
      "execution_count": null,
      "outputs": [
        {
          "output_type": "execute_result",
          "data": {
            "application/vnd.google.colaboratory.intrinsic+json": {
              "type": "string"
            },
            "text/plain": [
              "'ideojuegos'"
            ]
          },
          "metadata": {
            "tags": []
          },
          "execution_count": 30
        }
      ]
    },
    {
      "cell_type": "markdown",
      "metadata": {
        "id": "Kear8Gs-b0IG"
      },
      "source": [
        "Si al contrario, precedemos por `-` al índice de la derecha, sin poner ningún índice a la izquierda de `:`, obtendremos todos los elementos salvo el número de elementos indicados por el índice (recordemos que si precedíamos por `-`, los índices empezaban desde el final)."
      ]
    },
    {
      "cell_type": "code",
      "metadata": {
        "colab": {
          "base_uri": "https://localhost:8080/",
          "height": 35
        },
        "id": "Vv4WwS6Zb0IH",
        "outputId": "8f1d50b6-aef2-4518-d131-5b517b055922"
      },
      "source": [
        "s[:-10]"
      ],
      "execution_count": null,
      "outputs": [
        {
          "output_type": "execute_result",
          "data": {
            "application/vnd.google.colaboratory.intrinsic+json": {
              "type": "string"
            },
            "text/plain": [
              "'Soy fan de los v'"
            ]
          },
          "metadata": {
            "tags": []
          },
          "execution_count": 31
        }
      ]
    },
    {
      "cell_type": "markdown",
      "metadata": {
        "id": "gxSJQG3K3mTr"
      },
      "source": [
        "El método `.split()` rompe el string en el caracter que le indiquemos y elimina dicho caracter."
      ]
    },
    {
      "cell_type": "code",
      "metadata": {
        "id": "DOgE3iLB3w5a",
        "colab": {
          "base_uri": "https://localhost:8080/"
        },
        "outputId": "64a5abaa-b9df-4a7d-916e-c344af69a40f"
      },
      "source": [
        "s.split(\" \") # Rompemos por los espacios"
      ],
      "execution_count": null,
      "outputs": [
        {
          "output_type": "execute_result",
          "data": {
            "text/plain": [
              "['El', 'elefante', 'tiene', 'las', 'orejas', 'muy', 'grandes']"
            ]
          },
          "metadata": {
            "tags": []
          },
          "execution_count": 41
        }
      ]
    },
    {
      "cell_type": "markdown",
      "metadata": {
        "id": "jnkzw3ud3zWr"
      },
      "source": [
        "El método `.strip()` elimina los espacios sobrantes a principio y final del string."
      ]
    },
    {
      "cell_type": "code",
      "metadata": {
        "id": "174KMod83z6f",
        "colab": {
          "base_uri": "https://localhost:8080/",
          "height": 35
        },
        "outputId": "b097b563-1eee-48f9-e217-1b47645a4ddb"
      },
      "source": [
        "s = \"       El elefante tiene las orejas muy grandes        \"\n",
        "s.strip()"
      ],
      "execution_count": null,
      "outputs": [
        {
          "output_type": "execute_result",
          "data": {
            "application/vnd.google.colaboratory.intrinsic+json": {
              "type": "string"
            },
            "text/plain": [
              "'El elefante tiene las orejas muy grandes'"
            ]
          },
          "metadata": {
            "tags": []
          },
          "execution_count": 43
        }
      ]
    },
    {
      "cell_type": "markdown",
      "metadata": {
        "id": "jH8Zr1mK40lM"
      },
      "source": [
        "## Otras funciones a tener en cuenta\n",
        "\n",
        "La función `len()` nos devuelve el número de caracteres del string."
      ]
    },
    {
      "cell_type": "code",
      "metadata": {
        "id": "z50sileY4g1z",
        "colab": {
          "base_uri": "https://localhost:8080/"
        },
        "outputId": "c08ee6d2-b9a1-4b3c-c200-9279eb4e70cf"
      },
      "source": [
        "s = \"Tengo hambre\"\n",
        "len(s)"
      ],
      "execution_count": null,
      "outputs": [
        {
          "output_type": "execute_result",
          "data": {
            "text/plain": [
              "12"
            ]
          },
          "metadata": {
            "tags": []
          },
          "execution_count": 56
        }
      ]
    },
    {
      "cell_type": "markdown",
      "metadata": {
        "id": "8ORueZaL4gbA"
      },
      "source": [
        "La función `input()` sirve para que el usuario introduzca un string por consola:"
      ]
    },
    {
      "cell_type": "code",
      "metadata": {
        "id": "Gx6GXzVx57u5",
        "colab": {
          "base_uri": "https://localhost:8080/"
        },
        "outputId": "d4aaf52a-f7b6-4561-eaf3-1a345c33fa6f"
      },
      "source": [
        "print(\"Introduce tu nombre: \")\n",
        "name = input(\"Nombre: \")"
      ],
      "execution_count": null,
      "outputs": [
        {
          "output_type": "stream",
          "text": [
            "Introduce tu nombre: \n",
            "Nombre: Juan Gabriel Gomila\n"
          ],
          "name": "stdout"
        }
      ]
    },
    {
      "cell_type": "code",
      "metadata": {
        "id": "gXoEV0_o6Axu",
        "colab": {
          "base_uri": "https://localhost:8080/"
        },
        "outputId": "1cc7f5d2-ed82-4de0-b68e-8e5c7464370c"
      },
      "source": [
        "print(\"Introduce tu edad: \")\n",
        "age = int(input(\"Edad: \"))"
      ],
      "execution_count": null,
      "outputs": [
        {
          "output_type": "stream",
          "text": [
            "Introduce tu edad: \n",
            "Edad: 32\n"
          ],
          "name": "stdout"
        }
      ]
    },
    {
      "cell_type": "code",
      "metadata": {
        "id": "ianS3k6G6L5p",
        "colab": {
          "base_uri": "https://localhost:8080/"
        },
        "outputId": "9b0ff897-0479-43f1-8dec-8b8888c108a1"
      },
      "source": [
        "print(\"Introduce tu altura: \")\n",
        "height = float(input(\"Altura (en m): \"))"
      ],
      "execution_count": null,
      "outputs": [
        {
          "output_type": "stream",
          "text": [
            "Introduce tu altura: \n",
            "Altura (en m): 1.66\n"
          ],
          "name": "stdout"
        }
      ]
    },
    {
      "cell_type": "code",
      "metadata": {
        "id": "qUCy1G-v6Owg",
        "colab": {
          "base_uri": "https://localhost:8080/"
        },
        "outputId": "1e066d95-d679-4776-b3b0-fea58e10c025"
      },
      "source": [
        "print(\"La edad de {} es {} y mide {}m\".format(name, age, height))"
      ],
      "execution_count": null,
      "outputs": [
        {
          "output_type": "stream",
          "text": [
            "La edad de Juan Gabriel Gomila es 32 y mide 1.66m\n"
          ],
          "name": "stdout"
        }
      ]
    }
  ]
}