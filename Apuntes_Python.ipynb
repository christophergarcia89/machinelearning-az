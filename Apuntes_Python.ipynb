{
  "nbformat": 4,
  "nbformat_minor": 0,
  "metadata": {
    "colab": {
      "name": "Apuntes Python.ipynb",
      "provenance": [],
      "authorship_tag": "ABX9TyMyhq0HF9rdgNUlTr0sB8Zn",
      "include_colab_link": true
    },
    "kernelspec": {
      "name": "python3",
      "display_name": "Python 3"
    },
    "language_info": {
      "name": "python"
    }
  },
  "cells": [
    {
      "cell_type": "markdown",
      "metadata": {
        "id": "view-in-github",
        "colab_type": "text"
      },
      "source": [
        "<a href=\"https://colab.research.google.com/github/christophergarcia89/machinelearning-az/blob/master/Apuntes_Python.ipynb\" target=\"_parent\"><img src=\"https://colab.research.google.com/assets/colab-badge.svg\" alt=\"Open In Colab\"/></a>"
      ]
    },
    {
      "cell_type": "markdown",
      "metadata": {
        "id": "Ih9glB7MQ86u"
      },
      "source": [
        "### El método `.format()`\n",
        "\n",
        "Existe otra forma de concatenar strings y variables de cualquier tipo dentro de un `print()` y es gracias al método `.format()`. Lo que hay que hacer es indicar con llaves, `{}`, donde queremos situar el resultado de las variables y luego, dentro de los paréntesis del método `.format()`, indicar las variables en su respectivo orden"
      ]
    },
    {
      "cell_type": "code",
      "metadata": {
        "id": "JXsuEE6mQ5-2",
        "colab": {
          "base_uri": "https://localhost:8080/"
        },
        "outputId": "e5359a9d-3741-44a9-fecb-188657baf212"
      },
      "source": [
        "nombre = \"Ricardo\"\n",
        "numero_gatos = 3\n",
        "print(\"Mi abuelo se llama {} y tiene {} gatos\".format(nombre, numero_gatos))"
      ],
      "execution_count": null,
      "outputs": [
        {
          "output_type": "stream",
          "text": [
            "Mi abuelo se llama Ricardo y tiene 3 gatos\n"
          ],
          "name": "stdout"
        }
      ]
    },
    {
      "cell_type": "markdown",
      "metadata": {
        "id": "WoD3EBWYS4ts"
      },
      "source": [
        "## Substrings\n",
        "\n",
        "Para acceder a un caracter de una variable string usamos la sintaxis de `[]`"
      ]
    },
    {
      "cell_type": "markdown",
      "metadata": {
        "id": "hLzZPNdt0Gha"
      },
      "source": [
        "Si precedemos el índice por un `-`, entonces empezamos desde el final"
      ]
    },
    {
      "cell_type": "markdown",
      "metadata": {
        "id": "TUyZcCC10cw7"
      },
      "source": [
        "Si queremos acceder a varios caracteres seguidos, podemos utilizar la función `:`"
      ]
    },
    {
      "cell_type": "code",
      "metadata": {
        "id": "_RoR2o970Phv",
        "colab": {
          "base_uri": "https://localhost:8080/",
          "height": 35
        },
        "outputId": "8d940521-08b3-4ef1-a836-1765cb62af82"
      },
      "source": [
        "s[4:7] # Del quinto al séptimo"
      ],
      "execution_count": null,
      "outputs": [
        {
          "output_type": "execute_result",
          "data": {
            "application/vnd.google.colaboratory.intrinsic+json": {
              "type": "string"
            },
            "text/plain": [
              "'fan'"
            ]
          },
          "metadata": {
            "tags": []
          },
          "execution_count": 28
        }
      ]
    },
    {
      "cell_type": "code",
      "metadata": {
        "id": "AxGN5YDN0hUI",
        "colab": {
          "base_uri": "https://localhost:8080/",
          "height": 35
        },
        "outputId": "571a1899-278d-4517-9670-b9e83945af24"
      },
      "source": [
        "s[:7] # Del primero al séptimo"
      ],
      "execution_count": null,
      "outputs": [
        {
          "output_type": "execute_result",
          "data": {
            "application/vnd.google.colaboratory.intrinsic+json": {
              "type": "string"
            },
            "text/plain": [
              "'Soy fan'"
            ]
          },
          "metadata": {
            "tags": []
          },
          "execution_count": 29
        }
      ]
    },
    {
      "cell_type": "code",
      "metadata": {
        "id": "teaoOQ6-0wTL",
        "colab": {
          "base_uri": "https://localhost:8080/",
          "height": 37
        },
        "outputId": "332b665a-62ad-4dc4-998e-c1ac7b99b922"
      },
      "source": [
        "s[8:] # Del noveno al final"
      ],
      "execution_count": null,
      "outputs": [
        {
          "output_type": "execute_result",
          "data": {
            "application/vnd.google.colaboratory.intrinsic+json": {
              "type": "string"
            },
            "text/plain": [
              "'e los videojuegos'"
            ]
          },
          "metadata": {
            "tags": []
          },
          "execution_count": 10
        }
      ]
    },
    {
      "cell_type": "markdown",
      "metadata": {
        "id": "0rlXs9bj1ODn"
      },
      "source": [
        "Si precedemos por `-` al índice de la izquierda de `:` y no ponemos ninguno a su derecha, lo que hacemos es obtener los últimos elementos"
      ]
    },
    {
      "cell_type": "code",
      "metadata": {
        "id": "cyF8_JVM07ju",
        "colab": {
          "base_uri": "https://localhost:8080/",
          "height": 35
        },
        "outputId": "591dea98-195d-4399-b773-8f6ccbfc7ee9"
      },
      "source": [
        "s[-10:] # Diez últimos elementos"
      ],
      "execution_count": null,
      "outputs": [
        {
          "output_type": "execute_result",
          "data": {
            "application/vnd.google.colaboratory.intrinsic+json": {
              "type": "string"
            },
            "text/plain": [
              "'ideojuegos'"
            ]
          },
          "metadata": {
            "tags": []
          },
          "execution_count": 30
        }
      ]
    },
    {
      "cell_type": "markdown",
      "metadata": {
        "id": "f6j9wom51fMl"
      },
      "source": [
        "Si al contrario, precedemos por `-` al índice de la derecha, sin poner ningún índice a la izquierda de `:`, obtendremos todos los elementos salvo el número de elementos indicados por el índice (recordemos que si precedíamos por `-`, los índices empezaban desde el final)."
      ]
    },
    {
      "cell_type": "code",
      "metadata": {
        "id": "WVoZjls11Wj2",
        "colab": {
          "base_uri": "https://localhost:8080/",
          "height": 35
        },
        "outputId": "8f1d50b6-aef2-4518-d131-5b517b055922"
      },
      "source": [
        "s[:-10]"
      ],
      "execution_count": null,
      "outputs": [
        {
          "output_type": "execute_result",
          "data": {
            "application/vnd.google.colaboratory.intrinsic+json": {
              "type": "string"
            },
            "text/plain": [
              "'Soy fan de los v'"
            ]
          },
          "metadata": {
            "tags": []
          },
          "execution_count": 31
        }
      ]
    },
    {
      "cell_type": "markdown",
      "metadata": {
        "id": "9repvcnlb0H_"
      },
      "source": [
        "### El método `.format()`\n",
        "\n",
        "Existe otra forma de concatenar strings y variables de cualquier tipo dentro de un `print()` y es gracias al método `.format()`. Lo que hay que hacer es indicar con llaves, `{}`, donde queremos situar el resultado de las variables y luego, dentro de los paréntesis del método `.format()`, indicar las variables en su respectivo orden"
      ]
    },
    {
      "cell_type": "code",
      "metadata": {
        "colab": {
          "base_uri": "https://localhost:8080/"
        },
        "id": "oGEZwFaqb0IA",
        "outputId": "e5359a9d-3741-44a9-fecb-188657baf212"
      },
      "source": [
        "nombre = \"Ricardo\"\n",
        "numero_gatos = 3\n",
        "print(\"Mi abuelo se llama {} y tiene {} gatos\".format(nombre, numero_gatos))"
      ],
      "execution_count": null,
      "outputs": [
        {
          "output_type": "stream",
          "text": [
            "Mi abuelo se llama Ricardo y tiene 3 gatos\n"
          ],
          "name": "stdout"
        }
      ]
    },
    {
      "cell_type": "markdown",
      "metadata": {
        "id": "NN-xsR2Ab0IA"
      },
      "source": [
        "## Substrings\n",
        "\n",
        "Para acceder a un caracter de una variable string usamos la sintaxis de `[]`"
      ]
    },
    {
      "cell_type": "markdown",
      "metadata": {
        "id": "5ZtBECqfb0IB"
      },
      "source": [
        "Si precedemos el índice por un `-`, entonces empezamos desde el final"
      ]
    },
    {
      "cell_type": "markdown",
      "metadata": {
        "id": "187HDIzib0IC"
      },
      "source": [
        "Si queremos acceder a varios caracteres seguidos, podemos utilizar la función `:`"
      ]
    },
    {
      "cell_type": "code",
      "metadata": {
        "colab": {
          "base_uri": "https://localhost:8080/",
          "height": 35
        },
        "id": "5_Sg1DWNb0IC",
        "outputId": "8d940521-08b3-4ef1-a836-1765cb62af82"
      },
      "source": [
        "s[4:7] # Del quinto al séptimo"
      ],
      "execution_count": null,
      "outputs": [
        {
          "output_type": "execute_result",
          "data": {
            "application/vnd.google.colaboratory.intrinsic+json": {
              "type": "string"
            },
            "text/plain": [
              "'fan'"
            ]
          },
          "metadata": {
            "tags": []
          },
          "execution_count": 28
        }
      ]
    },
    {
      "cell_type": "code",
      "metadata": {
        "colab": {
          "base_uri": "https://localhost:8080/",
          "height": 35
        },
        "id": "XZLopgnub0ID",
        "outputId": "571a1899-278d-4517-9670-b9e83945af24"
      },
      "source": [
        "s[:7] # Del primero al séptimo"
      ],
      "execution_count": null,
      "outputs": [
        {
          "output_type": "execute_result",
          "data": {
            "application/vnd.google.colaboratory.intrinsic+json": {
              "type": "string"
            },
            "text/plain": [
              "'Soy fan'"
            ]
          },
          "metadata": {
            "tags": []
          },
          "execution_count": 29
        }
      ]
    },
    {
      "cell_type": "code",
      "metadata": {
        "colab": {
          "base_uri": "https://localhost:8080/",
          "height": 37
        },
        "id": "4vbprX6tb0IE",
        "outputId": "332b665a-62ad-4dc4-998e-c1ac7b99b922"
      },
      "source": [
        "s[8:] # Del noveno al final"
      ],
      "execution_count": null,
      "outputs": [
        {
          "output_type": "execute_result",
          "data": {
            "application/vnd.google.colaboratory.intrinsic+json": {
              "type": "string"
            },
            "text/plain": [
              "'e los videojuegos'"
            ]
          },
          "metadata": {
            "tags": []
          },
          "execution_count": 10
        }
      ]
    },
    {
      "cell_type": "markdown",
      "metadata": {
        "id": "WEtjXHI8b0IE"
      },
      "source": [
        "Si precedemos por `-` al índice de la izquierda de `:` y no ponemos ninguno a su derecha, lo que hacemos es obtener los últimos elementos"
      ]
    },
    {
      "cell_type": "code",
      "metadata": {
        "colab": {
          "base_uri": "https://localhost:8080/",
          "height": 35
        },
        "id": "AuYBGPezb0IE",
        "outputId": "591dea98-195d-4399-b773-8f6ccbfc7ee9"
      },
      "source": [
        "s[-10:] # Diez últimos elementos"
      ],
      "execution_count": null,
      "outputs": [
        {
          "output_type": "execute_result",
          "data": {
            "application/vnd.google.colaboratory.intrinsic+json": {
              "type": "string"
            },
            "text/plain": [
              "'ideojuegos'"
            ]
          },
          "metadata": {
            "tags": []
          },
          "execution_count": 30
        }
      ]
    },
    {
      "cell_type": "markdown",
      "metadata": {
        "id": "Kear8Gs-b0IG"
      },
      "source": [
        "Si al contrario, precedemos por `-` al índice de la derecha, sin poner ningún índice a la izquierda de `:`, obtendremos todos los elementos salvo el número de elementos indicados por el índice (recordemos que si precedíamos por `-`, los índices empezaban desde el final)."
      ]
    },
    {
      "cell_type": "code",
      "metadata": {
        "colab": {
          "base_uri": "https://localhost:8080/",
          "height": 35
        },
        "id": "Vv4WwS6Zb0IH",
        "outputId": "8f1d50b6-aef2-4518-d131-5b517b055922"
      },
      "source": [
        "s[:-10]"
      ],
      "execution_count": null,
      "outputs": [
        {
          "output_type": "execute_result",
          "data": {
            "application/vnd.google.colaboratory.intrinsic+json": {
              "type": "string"
            },
            "text/plain": [
              "'Soy fan de los v'"
            ]
          },
          "metadata": {
            "tags": []
          },
          "execution_count": 31
        }
      ]
    },
    {
      "cell_type": "markdown",
      "metadata": {
        "id": "gxSJQG3K3mTr"
      },
      "source": [
        "El método `.split()` rompe el string en el caracter que le indiquemos y elimina dicho caracter."
      ]
    },
    {
      "cell_type": "code",
      "metadata": {
        "id": "DOgE3iLB3w5a",
        "colab": {
          "base_uri": "https://localhost:8080/"
        },
        "outputId": "64a5abaa-b9df-4a7d-916e-c344af69a40f"
      },
      "source": [
        "s.split(\" \") # Rompemos por los espacios"
      ],
      "execution_count": null,
      "outputs": [
        {
          "output_type": "execute_result",
          "data": {
            "text/plain": [
              "['El', 'elefante', 'tiene', 'las', 'orejas', 'muy', 'grandes']"
            ]
          },
          "metadata": {
            "tags": []
          },
          "execution_count": 41
        }
      ]
    },
    {
      "cell_type": "markdown",
      "metadata": {
        "id": "jnkzw3ud3zWr"
      },
      "source": [
        "El método `.strip()` elimina los espacios sobrantes a principio y final del string."
      ]
    },
    {
      "cell_type": "code",
      "metadata": {
        "id": "174KMod83z6f",
        "colab": {
          "base_uri": "https://localhost:8080/",
          "height": 35
        },
        "outputId": "b097b563-1eee-48f9-e217-1b47645a4ddb"
      },
      "source": [
        "s = \"       El elefante tiene las orejas muy grandes        \"\n",
        "s.strip()"
      ],
      "execution_count": null,
      "outputs": [
        {
          "output_type": "execute_result",
          "data": {
            "application/vnd.google.colaboratory.intrinsic+json": {
              "type": "string"
            },
            "text/plain": [
              "'El elefante tiene las orejas muy grandes'"
            ]
          },
          "metadata": {
            "tags": []
          },
          "execution_count": 43
        }
      ]
    },
    {
      "cell_type": "markdown",
      "metadata": {
        "id": "jH8Zr1mK40lM"
      },
      "source": [
        "## Otras funciones a tener en cuenta\n",
        "\n",
        "La función `len()` nos devuelve el número de caracteres del string."
      ]
    },
    {
      "cell_type": "code",
      "metadata": {
        "id": "z50sileY4g1z",
        "colab": {
          "base_uri": "https://localhost:8080/"
        },
        "outputId": "c08ee6d2-b9a1-4b3c-c200-9279eb4e70cf"
      },
      "source": [
        "s = \"Tengo hambre\"\n",
        "len(s)"
      ],
      "execution_count": null,
      "outputs": [
        {
          "output_type": "execute_result",
          "data": {
            "text/plain": [
              "12"
            ]
          },
          "metadata": {
            "tags": []
          },
          "execution_count": 56
        }
      ]
    },
    {
      "cell_type": "markdown",
      "metadata": {
        "id": "8ORueZaL4gbA"
      },
      "source": [
        "La función `input()` sirve para que el usuario introduzca un string por consola:"
      ]
    },
    {
      "cell_type": "code",
      "metadata": {
        "id": "Gx6GXzVx57u5",
        "colab": {
          "base_uri": "https://localhost:8080/"
        },
        "outputId": "d4aaf52a-f7b6-4561-eaf3-1a345c33fa6f"
      },
      "source": [
        "print(\"Introduce tu nombre: \")\n",
        "name = input(\"Nombre: \")"
      ],
      "execution_count": null,
      "outputs": [
        {
          "output_type": "stream",
          "text": [
            "Introduce tu nombre: \n",
            "Nombre: Juan Gabriel Gomila\n"
          ],
          "name": "stdout"
        }
      ]
    },
    {
      "cell_type": "code",
      "metadata": {
        "id": "gXoEV0_o6Axu",
        "colab": {
          "base_uri": "https://localhost:8080/"
        },
        "outputId": "1cc7f5d2-ed82-4de0-b68e-8e5c7464370c"
      },
      "source": [
        "print(\"Introduce tu edad: \")\n",
        "age = int(input(\"Edad: \"))"
      ],
      "execution_count": null,
      "outputs": [
        {
          "output_type": "stream",
          "text": [
            "Introduce tu edad: \n",
            "Edad: 32\n"
          ],
          "name": "stdout"
        }
      ]
    },
    {
      "cell_type": "code",
      "metadata": {
        "id": "ianS3k6G6L5p",
        "colab": {
          "base_uri": "https://localhost:8080/"
        },
        "outputId": "9b0ff897-0479-43f1-8dec-8b8888c108a1"
      },
      "source": [
        "print(\"Introduce tu altura: \")\n",
        "height = float(input(\"Altura (en m): \"))"
      ],
      "execution_count": null,
      "outputs": [
        {
          "output_type": "stream",
          "text": [
            "Introduce tu altura: \n",
            "Altura (en m): 1.66\n"
          ],
          "name": "stdout"
        }
      ]
    },
    {
      "cell_type": "code",
      "metadata": {
        "id": "qUCy1G-v6Owg",
        "colab": {
          "base_uri": "https://localhost:8080/"
        },
        "outputId": "1e066d95-d679-4776-b3b0-fea58e10c025"
      },
      "source": [
        "print(\"La edad de {} es {} y mide {}m\".format(name, age, height))"
      ],
      "execution_count": null,
      "outputs": [
        {
          "output_type": "stream",
          "text": [
            "La edad de Juan Gabriel Gomila es 32 y mide 1.66m\n"
          ],
          "name": "stdout"
        }
      ]
    },
    {
      "cell_type": "markdown",
      "metadata": {
        "id": "ZBMJ5Tg9_t-2"
      },
      "source": [
        "### Más métodos de string\n",
        "\n",
        "El método `.startswith()` nos devuelve verdadero si el string empieza con el caracter o la cadena de caracteres indicado."
      ]
    },
    {
      "cell_type": "code",
      "metadata": {
        "id": "1URYsNpt_e2k",
        "colab": {
          "base_uri": "https://localhost:8080/"
        },
        "outputId": "f30eb5b2-f4a9-4baf-e72b-b96b289a66cb"
      },
      "source": [
        "s = \"Mallorca es una isla preciosa\"\n",
        "s.startswith(\"m\")"
      ],
      "execution_count": null,
      "outputs": [
        {
          "output_type": "execute_result",
          "data": {
            "text/plain": [
              "False"
            ]
          },
          "metadata": {
            "tags": []
          },
          "execution_count": 39
        }
      ]
    },
    {
      "cell_type": "code",
      "metadata": {
        "id": "59iNH5QdAC7A",
        "colab": {
          "base_uri": "https://localhost:8080/"
        },
        "outputId": "21c20926-fd72-428f-fb8e-b6ccebf781ad"
      },
      "source": [
        "s.startswith(\"Mallorca\")"
      ],
      "execution_count": null,
      "outputs": [
        {
          "output_type": "execute_result",
          "data": {
            "text/plain": [
              "True"
            ]
          },
          "metadata": {
            "tags": []
          },
          "execution_count": 40
        }
      ]
    },
    {
      "cell_type": "code",
      "metadata": {
        "id": "mRQvBBAzAEY7",
        "colab": {
          "base_uri": "https://localhost:8080/"
        },
        "outputId": "160c728b-59a7-4c0c-c526-41ed03317464"
      },
      "source": [
        "s = \"Mallorca es una isla preciosa\"\n",
        "s.endswith(\"a\")"
      ],
      "execution_count": null,
      "outputs": [
        {
          "output_type": "execute_result",
          "data": {
            "text/plain": [
              "True"
            ]
          },
          "metadata": {
            "tags": []
          },
          "execution_count": 41
        }
      ]
    },
    {
      "cell_type": "markdown",
      "metadata": {
        "id": "frJnbjX3BawD"
      },
      "source": [
        "## Operadores de decisión\n",
        "\n",
        "\n"
      ]
    },
    {
      "cell_type": "markdown",
      "metadata": {
        "id": "DAK502eYD5pT"
      },
      "source": [
        "### `if`\n",
        "\n",
        "Cuando queremos comprobar si se cumple alguna condición, utilizamos el operador de decisión `if`. La sintaxis que debemos seguir es la siguiente:\n"
      ]
    },
    {
      "cell_type": "code",
      "metadata": {
        "id": "c0XfnX0Uc7im"
      },
      "source": [
        "if condicion:\n",
        "    consecuencia"
      ],
      "execution_count": null,
      "outputs": []
    },
    {
      "cell_type": "code",
      "metadata": {
        "colab": {
          "base_uri": "https://localhost:8080/"
        },
        "id": "8xN13QnudPil",
        "outputId": "90f7ec69-c442-4602-8f21-6458ad17fb71"
      },
      "source": [
        "age = 13\n",
        "if (age >= 16 and age <= 40):\n",
        "    print(\"Puedes formar parte de la tripulación de Pyratilla\")\n",
        "else:\n",
        "    print(\"No satisfaces una necesidad básica para pertenecer a la tripulación del gran Pyratilla\")"
      ],
      "execution_count": null,
      "outputs": [
        {
          "output_type": "stream",
          "text": [
            "No satisfaces una necesidad básica para pertenecer a la tripulación del gran Pyratilla\n"
          ],
          "name": "stdout"
        }
      ]
    },
    {
      "cell_type": "markdown",
      "metadata": {
        "id": "77HNiAkbFx-P"
      },
      "source": [
        "### `elif`\n",
        "\n",
        "Ahora, en vez de comprobar si se cumple o no una condición, nos podríamos preguntar cómo haríamos para comprobar más de una condición. Podríamos hacerlo a lo bruto anidando operadores `if`, esto es, metiendo un `if` dentro de otro; o bien, podríamos hacerlo utilizando el operador de decisión `elif`.\n",
        "\n",
        "El operador `elif` funciona del siguiente modo: se empieza con un operador `if`; si la condición de este no se cumple, pasamos a la siguiente condición posible precedida de un `elif`; si esta tampoco se cumple, pasamos al siguiente `elif`; seguimos así hasta que o bien se satisface alguna condición y realizamos su consecuencia, o hasta llegar al `else`, que implica que no se ha satisfecho ninguna de las condiciones anteriores.\n",
        "\n",
        "La sintaxis del operador de decisión `elif` es la siguiente:"
      ]
    },
    {
      "cell_type": "code",
      "metadata": {
        "id": "kH-sAyUNGNw8"
      },
      "source": [
        "if condición_1:\n",
        "  consecuencia\n",
        "elif condición_2:\n",
        "  consecuencia\n",
        "elif condición_3:\n",
        "  consecuencia\n",
        ". \n",
        ". \n",
        ". \n",
        "else:\n",
        "  consecuencia"
      ],
      "execution_count": null,
      "outputs": []
    },
    {
      "cell_type": "markdown",
      "metadata": {
        "id": "xi8inDseFUaF"
      },
      "source": [
        "Recuperemos el ejemplo de que tenemos que tener 16 años o más, pero menos de 40 para ser miembros de la tripulación del pirata Pyratilla. Vamos a mejorar lo que habíamos conseguido con el `if` y el `else`, añadiendo el operador `elif`.\n",
        "\n",
        "Además, veremos que nos dice con la edad de 20 años."
      ]
    },
    {
      "cell_type": "code",
      "metadata": {
        "id": "FuDXd3ieGY0O",
        "colab": {
          "base_uri": "https://localhost:8080/"
        },
        "outputId": "26d8eb2a-24de-48c9-fced-890165a3da54"
      },
      "source": [
        "age = 20\n",
        "\n",
        "if age > 40:\n",
        "  print(\"No puedes pertenecer a la tripulación, te pasas de la edad límite que ha puesto el gran capitán Pyratilla.\")\n",
        "elif age >= 16:\n",
        "  print(\"Podrás optar a pertenecer la tripulación. Aún te queda superar la entrevista con el capitán.\")\n",
        "else:\n",
        "  print(\"Eres muy pequeño todavía para la vida pirata!\")"
      ],
      "execution_count": null,
      "outputs": [
        {
          "output_type": "stream",
          "text": [
            "Podrás optar a pertenecer la tripulación. Aún te queda superar la entrevista con el capitán.\n"
          ],
          "name": "stdout"
        }
      ]
    },
    {
      "cell_type": "markdown",
      "metadata": {
        "id": "_3J6uQFMHq5W"
      },
      "source": [
        "El funcionamiento del código anterior es el siguiente:\n",
        "\n",
        "- El `if` comprueba si la edad introducida es mayor a 40.\n",
        "- El `elif` comprueba si la edad se encuentra en el intervalo [16, 40]\n",
        "- El `else` implica que la edad introducida es menor a 16"
      ]
    },
    {
      "cell_type": "markdown",
      "metadata": {
        "id": "5ysq4F4jH6qR"
      },
      "source": [
        "### Operador ternario\n",
        "\n",
        "Si queremos hacer un simple `if` / `else` en una sola línea de código, podemos utilizar el operador ternario, que tiene la siguiente estructura:"
      ]
    },
    {
      "cell_type": "code",
      "metadata": {
        "id": "G-u9CzRCHYTZ"
      },
      "source": [
        "consecuencia_cierto if condición else consecuencia_falso"
      ],
      "execution_count": null,
      "outputs": []
    },
    {
      "cell_type": "markdown",
      "metadata": {
        "id": "vUmCX9WGIHoD"
      },
      "source": [
        "Por ejemplo, hagamos el caso de mayor de edad. Si la edad es mayor o igual a 18, entonces es mayor de edad en España. Si no, entonces es menor de edad en España."
      ]
    },
    {
      "cell_type": "code",
      "metadata": {
        "id": "thCBwMwuIJqc",
        "colab": {
          "base_uri": "https://localhost:8080/"
        },
        "outputId": "e12e12f2-79de-40ed-81b4-acf2eeaa4a3e"
      },
      "source": [
        "age = 20\n",
        "texto_mayor = \"Eres mayor de edad en España\"\n",
        "texto_menor = \"Eres menor de edad en España\"\n",
        "\n",
        "print(texto_mayor) if age >= 18 else print(texto_menor)"
      ],
      "execution_count": null,
      "outputs": [
        {
          "output_type": "stream",
          "text": [
            "Eres mayor de edad en España\n"
          ],
          "name": "stdout"
        }
      ]
    },
    {
      "cell_type": "markdown",
      "metadata": {
        "id": "WGWZnkbKODlg"
      },
      "source": [
        "### Operadores Anidados"
      ]
    },
    {
      "cell_type": "code",
      "metadata": {
        "id": "-vvWPoz2K6gq",
        "colab": {
          "base_uri": "https://localhost:8080/"
        },
        "outputId": "86c5fcd7-0fe8-4ee4-9b77-bf63948a3156"
      },
      "source": [
        "age = 20\n",
        "name = \"Martin\"\n",
        "\n",
        "if age >= 18:\n",
        "  if name.startswith(\"M\") or name.startswith(\"m\"):\n",
        "    print(\"Eres mayor de edad pues tienes {} años y tu nombre, que es {}, empieza por M\".format(age, name))\n",
        "  else:\n",
        "    print(\"Eres mayor de edad pues tienes {} años\".format(age))\n",
        "else:\n",
        "  print(\"Eres muy joven\")"
      ],
      "execution_count": null,
      "outputs": [
        {
          "output_type": "stream",
          "text": [
            "Eres mayor de edad pues tienes 20 años y tu nombre, que es Martin, empieza por M\n"
          ],
          "name": "stdout"
        }
      ]
    },
    {
      "cell_type": "markdown",
      "metadata": {
        "id": "BdmMeTHJpD_d"
      },
      "source": [
        "## El bucle `while`\n",
        "\n",
        "La idea del bucle `while` es: mientras la condición sea cierta, seguimos realizando las líneas del interior del bucle. Una vez la condición deja de ser verdadera, salimos del bucle.\n",
        "\n",
        "Su estructura es la siguiente"
      ]
    },
    {
      "cell_type": "code",
      "metadata": {
        "id": "D4Oz2wqpo-Bi"
      },
      "source": [
        "inicialización de la variable de la condición\n",
        "while condición verdadera:\n",
        "  instrucción 1\n",
        "  instrucción 2\n",
        "  .\n",
        "  .\n",
        "  .\n",
        "  instrucción n"
      ],
      "execution_count": null,
      "outputs": []
    },
    {
      "cell_type": "markdown",
      "metadata": {
        "id": "gBx_zWbHexna"
      },
      "source": [
        "## El bucle `while`\n",
        "\n",
        "La idea del bucle `while` es: mientras la condición sea cierta, seguimos realizando las líneas del interior del bucle. Una vez la condición deja de ser verdadera, salimos del bucle.\n",
        "\n",
        "Su estructura es la siguiente"
      ]
    },
    {
      "cell_type": "code",
      "metadata": {
        "id": "XZ3xpUkdtQiI",
        "colab": {
          "base_uri": "https://localhost:8080/"
        },
        "outputId": "4dd24cfa-768c-49ae-c02d-f049fb2f1826"
      },
      "source": [
        "i = 1 # Inicializamos la variable\n",
        "while i <= 10: # Queremos que i como mucho valga 10\n",
        "  print(i) # Imprimimos los números\n",
        "  i += 1 # Incrementamos una unidad en cada iteración"
      ],
      "execution_count": null,
      "outputs": [
        {
          "output_type": "stream",
          "text": [
            "1\n",
            "2\n",
            "3\n",
            "4\n",
            "5\n",
            "6\n",
            "7\n",
            "8\n",
            "9\n",
            "10\n"
          ],
          "name": "stdout"
        }
      ]
    },
    {
      "cell_type": "markdown",
      "metadata": {
        "id": "olI-tFdMtqi4"
      },
      "source": [
        "### Comando `break`\n",
        "\n",
        "`break` es muy útil si dada una condición queremos que se salga inmediatamente de un bucle `while`. Veámoslo con un ejemplo:\n",
        "\n",
        "\n"
      ]
    },
    {
      "cell_type": "markdown",
      "metadata": {
        "id": "WiRy4iHQEBXf"
      },
      "source": [
        "---\n",
        "\n",
        "#### Ejemplo 1\n",
        "\n",
        "La sucesión de Fibonacci es una sucesión infinita que se caracteriza porque cada término es la suma de los dos anteriores. Algunos de sus términos son 1, 1, 2, 3, 5, 8, 13...\n",
        "\n",
        "Supongamos que queremos que se nos impriman los 20 primeros términos de esta serie. Por tanto, necesitaremos por un lado los términos de la serie y, por otro, los índices que ocupan.\n",
        "\n",
        "**Ejercicio.** Pensad en cómo podríais resolver este problema en el cual se exige que en algún momento utilicéis el comando `break`."
      ]
    },
    {
      "cell_type": "code",
      "metadata": {
        "id": "7B64OKePufqd",
        "colab": {
          "base_uri": "https://localhost:8080/"
        },
        "outputId": "4addbdf3-6fc7-4d1b-f7e0-0d8a512b5bfc"
      },
      "source": [
        "fibo_ant = 1 # Término anterior\n",
        "fibo = 1 # Término actual\n",
        "idx = 3 # Como ya tenemos los dos primeros términos, empezamos con el índice 3\n",
        "\n",
        "print(\"El término {} ocupa la posición {}\".format(fibo_ant, 1))\n",
        "print(\"El término {} ocupa la posición {}\".format(fibo, 2))\n",
        "\n",
        "while fibo <= 500000: # Establecemos una cota para que el bucle no sea infinito\n",
        "  temp = fibo  # Guardamos temporalmente el fibonacci actual \n",
        "  fibo = fibo + fibo_ant  # Calculamos el nuevo término de la sucesión\n",
        "  fibo_ant = temp # Modicamos el valor del término anterior\n",
        "  \n",
        "  print(\"El término {} ocupa la posición {}\".format(fibo, idx))\n",
        "  \n",
        "  if idx == 20: # Si llegamos al vigésimo índice, \n",
        "    break       # salimos del bucle\n",
        "  \n",
        "  idx += 1 # Incrementamos el valor del índice"
      ],
      "execution_count": null,
      "outputs": [
        {
          "output_type": "stream",
          "text": [
            "El término 1 ocupa la posición 1\n",
            "El término 1 ocupa la posición 2\n",
            "El término 2 ocupa la posición 3\n",
            "El término 3 ocupa la posición 4\n",
            "El término 5 ocupa la posición 5\n",
            "El término 8 ocupa la posición 6\n",
            "El término 13 ocupa la posición 7\n",
            "El término 21 ocupa la posición 8\n",
            "El término 34 ocupa la posición 9\n",
            "El término 55 ocupa la posición 10\n",
            "El término 89 ocupa la posición 11\n",
            "El término 144 ocupa la posición 12\n",
            "El término 233 ocupa la posición 13\n",
            "El término 377 ocupa la posición 14\n",
            "El término 610 ocupa la posición 15\n",
            "El término 987 ocupa la posición 16\n",
            "El término 1597 ocupa la posición 17\n",
            "El término 2584 ocupa la posición 18\n",
            "El término 4181 ocupa la posición 19\n",
            "El término 6765 ocupa la posición 20\n"
          ],
          "name": "stdout"
        }
      ]
    },
    {
      "cell_type": "markdown",
      "metadata": {
        "id": "iGKR_-fjEDmM"
      },
      "source": [
        "### Combinación `while ... else`\n",
        "\n",
        "Podemos combinar un bucle `while` con el operador `else` para ejecutar un bloque de código una vez la condición del `while` haya dejado de ser verdadera."
      ]
    },
    {
      "cell_type": "code",
      "metadata": {
        "colab": {
          "base_uri": "https://localhost:8080/"
        },
        "id": "R-xActcRGgwV",
        "outputId": "bdbf90d2-ad01-488b-8cc9-54f226983a97"
      },
      "source": [
        "i = 10\n",
        "print(\"Preparados para despegue. Empieza la cuenta atrás.\")\n",
        "while i >= 0:\n",
        "  print(i)\n",
        "  i -= 1\n",
        "else:\n",
        "  print(\"La cuenta atrás ha finalizado.\")"
      ],
      "execution_count": null,
      "outputs": [
        {
          "output_type": "stream",
          "text": [
            "Preparados para despegue. Empieza la cuenta atrás.\n",
            "10\n",
            "9\n",
            "8\n",
            "7\n",
            "6\n",
            "5\n",
            "4\n",
            "3\n",
            "2\n",
            "1\n",
            "0\n",
            "La cuenta atrás ha finalizado.\n"
          ],
          "name": "stdout"
        }
      ]
    },
    {
      "cell_type": "markdown",
      "metadata": {
        "id": "bpgqA5xSGRCb"
      },
      "source": [
        "## Bucle `for`\n",
        "\n",
        "La idea del bucle `for` es: para todos los elementos de la clave, seguimos realizando las líneas del bucle. Una vez nos quedemos sin elementos, salimos del bucle.\n",
        "\n",
        "Su estructura es la siguiente"
      ]
    },
    {
      "cell_type": "code",
      "metadata": {
        "id": "4EPDz43OvQ6S"
      },
      "source": [
        "for clave:\n",
        "  instrucción 1\n",
        "  instrucción 2\n",
        "  .\n",
        "  .\n",
        "  .\n",
        "  instrucción n"
      ],
      "execution_count": null,
      "outputs": []
    },
    {
      "cell_type": "markdown",
      "metadata": {
        "id": "j2d3NxJF2Z_Z"
      },
      "source": [
        "**Observación.** Vuelven a aparecer tanto los dos puntos después de la clave como la indentación previa a las instrucciones que se encuentran dentro del bucle.\n",
        "\n",
        "Un ejemplo del uso de un bucle `for` es el de recorrer todos los caracteres de un string:"
      ]
    },
    {
      "cell_type": "code",
      "metadata": {
        "colab": {
          "base_uri": "https://localhost:8080/"
        },
        "id": "X3jn36ve2lUg",
        "outputId": "3aa89b5e-90ef-485b-b75a-6c15bcafda9e"
      },
      "source": [
        "s = \"Me gustan las matemáticas\"\n",
        "\n",
        "for c in s:\n",
        "  print(c)"
      ],
      "execution_count": null,
      "outputs": [
        {
          "output_type": "stream",
          "text": [
            "M\n",
            "e\n",
            " \n",
            "g\n",
            "u\n",
            "s\n",
            "t\n",
            "a\n",
            "n\n",
            " \n",
            "l\n",
            "a\n",
            "s\n",
            " \n",
            "m\n",
            "a\n",
            "t\n",
            "e\n",
            "m\n",
            "á\n",
            "t\n",
            "i\n",
            "c\n",
            "a\n",
            "s\n"
          ],
          "name": "stdout"
        }
      ]
    },
    {
      "cell_type": "markdown",
      "metadata": {
        "id": "P3LqrB9mEG6q"
      },
      "source": [
        "### Función `range()`\n",
        "\n",
        "La función `range()` tiene 3 posibles argumentos: \n",
        " \n",
        " - `start` \n",
        " - `stop` \n",
        " - `step`\n",
        "\n",
        "Veremos el uso de la función `range()` con un ejemplo. Recuperemos el ejemplo en que queríamos imprimir los 10 primeros números naturales:"
      ]
    },
    {
      "cell_type": "code",
      "metadata": {
        "colab": {
          "base_uri": "https://localhost:8080/"
        },
        "id": "fN50QCHx_pVO",
        "outputId": "d9d38b5c-2e0e-4176-dddc-ec4119d4b4b1"
      },
      "source": [
        "#range(start,stop,step)\n",
        "#range(1, 11, 1)\n",
        "for i in range(1, 11, 1):\n",
        "  print(i)"
      ],
      "execution_count": null,
      "outputs": [
        {
          "output_type": "stream",
          "text": [
            "1\n",
            "2\n",
            "3\n",
            "4\n",
            "5\n",
            "6\n",
            "7\n",
            "8\n",
            "9\n",
            "10\n"
          ],
          "name": "stdout"
        }
      ]
    },
    {
      "cell_type": "code",
      "metadata": {
        "colab": {
          "base_uri": "https://localhost:8080/"
        },
        "id": "Jo41eBsW54D9",
        "outputId": "f7a8e7c5-6b42-433e-dfeb-1b6dea0be302"
      },
      "source": [
        "for x in range(5):\n",
        "    print(x)"
      ],
      "execution_count": null,
      "outputs": [
        {
          "output_type": "stream",
          "text": [
            "0\n",
            "1\n",
            "2\n",
            "3\n",
            "4\n"
          ],
          "name": "stdout"
        }
      ]
    },
    {
      "cell_type": "markdown",
      "metadata": {
        "id": "WY31f88E_rEJ"
      },
      "source": [
        "**Observación.** Cosas a tener en cuenta cuando usamos la función `range()`:\n",
        "\n",
        "- El elemento indicado en el argumento `stop` nunca se incluye.\n",
        "- Si no indicamos ningún elemento en el argumento `start`, por defecto éste vale 0.\n",
        "- El valor por defecto del argumento `step` es 1.\n",
        "\n",
        "\n",
        "Por lo tanto, obtendríamos el mismo resultado que en el ejemplo anterior ejecutando las siguientes líneas de código:"
      ]
    },
    {
      "cell_type": "code",
      "metadata": {
        "colab": {
          "base_uri": "https://localhost:8080/"
        },
        "id": "8yW4DC1ngBq4",
        "outputId": "f7a8e7c5-6b42-433e-dfeb-1b6dea0be302"
      },
      "source": [
        "for x in range(5):\n",
        "    print(x)"
      ],
      "execution_count": null,
      "outputs": [
        {
          "output_type": "stream",
          "text": [
            "0\n",
            "1\n",
            "2\n",
            "3\n",
            "4\n"
          ],
          "name": "stdout"
        }
      ]
    },
    {
      "cell_type": "markdown",
      "metadata": {
        "id": "RIpLkGDsgBq5"
      },
      "source": [
        "**Observación.** Cosas a tener en cuenta cuando usamos la función `range()`:\n",
        "\n",
        "- El elemento indicado en el argumento `stop` nunca se incluye.\n",
        "- Si no indicamos ningún elemento en el argumento `start`, por defecto éste vale 0.\n",
        "- El valor por defecto del argumento `step` es 1.\n",
        "\n",
        "\n",
        "Por lo tanto, obtendríamos el mismo resultado que en el ejemplo anterior ejecutando las siguientes líneas de código:"
      ]
    },
    {
      "cell_type": "markdown",
      "metadata": {
        "id": "GR1_6iyAAJiS"
      },
      "source": [
        "¿Y si quisiéramos imprimir los 10 primeros números naturales invirtiendo el orden? Pues, con un bucle `for`, lo haríamos del siguiente modo:"
      ]
    },
    {
      "cell_type": "code",
      "metadata": {
        "id": "cOEYalenAPFv",
        "colab": {
          "base_uri": "https://localhost:8080/"
        },
        "outputId": "030f5b87-ada3-4470-9128-d21cff1693ef"
      },
      "source": [
        "for i in range(10, 0, -1):\n",
        "  print(i)"
      ],
      "execution_count": null,
      "outputs": [
        {
          "output_type": "stream",
          "text": [
            "10\n",
            "9\n",
            "8\n",
            "7\n",
            "6\n",
            "5\n",
            "4\n",
            "3\n",
            "2\n",
            "1\n"
          ],
          "name": "stdout"
        }
      ]
    },
    {
      "cell_type": "code",
      "metadata": {
        "colab": {
          "base_uri": "https://localhost:8080/"
        },
        "id": "LH8XtB3dgMDX",
        "outputId": "f7a8e7c5-6b42-433e-dfeb-1b6dea0be302"
      },
      "source": [
        "for x in range(5):\n",
        "    print(x)"
      ],
      "execution_count": null,
      "outputs": [
        {
          "output_type": "stream",
          "text": [
            "0\n",
            "1\n",
            "2\n",
            "3\n",
            "4\n"
          ],
          "name": "stdout"
        }
      ]
    },
    {
      "cell_type": "markdown",
      "metadata": {
        "id": "K0a28-ozgMDZ"
      },
      "source": [
        "**Observación.** Cosas a tener en cuenta cuando usamos la función `range()`:\n",
        "\n",
        "- El elemento indicado en el argumento `stop` nunca se incluye.\n",
        "- Si no indicamos ningún elemento en el argumento `start`, por defecto éste vale 0.\n",
        "- El valor por defecto del argumento `step` es 1.\n",
        "\n",
        "\n",
        "Por lo tanto, obtendríamos el mismo resultado que en el ejemplo anterior ejecutando las siguientes líneas de código:"
      ]
    },
    {
      "cell_type": "markdown",
      "metadata": {
        "id": "kcGCsaR7gMDa"
      },
      "source": [
        "¿Y si quisiéramos imprimir los 10 primeros números naturales invirtiendo el orden? Pues, con un bucle `for`, lo haríamos del siguiente modo:"
      ]
    },
    {
      "cell_type": "code",
      "metadata": {
        "colab": {
          "base_uri": "https://localhost:8080/"
        },
        "id": "1LTa1jyIgMDa",
        "outputId": "030f5b87-ada3-4470-9128-d21cff1693ef"
      },
      "source": [
        "for i in range(10, 0, -1):\n",
        "  print(i)"
      ],
      "execution_count": null,
      "outputs": [
        {
          "output_type": "stream",
          "text": [
            "10\n",
            "9\n",
            "8\n",
            "7\n",
            "6\n",
            "5\n",
            "4\n",
            "3\n",
            "2\n",
            "1\n"
          ],
          "name": "stdout"
        }
      ]
    },
    {
      "cell_type": "markdown",
      "metadata": {
        "id": "XcgdX9yQARKu"
      },
      "source": [
        "### Comando `continue`\n",
        "\n",
        "El comando `continue` es similar a `break`, pero en vez de salir del bucle, lo que hace es interrumpir la iteración en la que se encuentra y empezar la siguiente iteración.\n",
        "\n"
      ]
    },
    {
      "cell_type": "markdown",
      "metadata": {
        "id": "R6H4Kj04EJjT"
      },
      "source": [
        "---\n",
        "#### Ejemplo 2\n",
        "\n",
        "Supongamos que queremos que se nos impriman todos los números entre 0 y 100 que no son ni divisibles entre 2 ni entre 5.\n",
        "\n",
        "**Ejercicio.** Pensad cómo podríais resolver este problema en el cual se exige que en algún momento utilicéis el comando `continue`."
      ]
    },
    {
      "cell_type": "code",
      "metadata": {
        "id": "KNI5JmiAAZGy",
        "colab": {
          "base_uri": "https://localhost:8080/"
        },
        "outputId": "868ed561-cba0-477a-cb94-96e9bcb0d623"
      },
      "source": [
        "for i in range(101):\n",
        "  if i % 2 == 0 or i % 5 == 0:\n",
        "    continue\n",
        "  print(i)"
      ],
      "execution_count": null,
      "outputs": [
        {
          "output_type": "stream",
          "text": [
            "1\n",
            "3\n",
            "7\n",
            "9\n",
            "11\n",
            "13\n",
            "17\n",
            "19\n",
            "21\n",
            "23\n",
            "27\n",
            "29\n",
            "31\n",
            "33\n",
            "37\n",
            "39\n",
            "41\n",
            "43\n",
            "47\n",
            "49\n",
            "51\n",
            "53\n",
            "57\n",
            "59\n",
            "61\n",
            "63\n",
            "67\n",
            "69\n",
            "71\n",
            "73\n",
            "77\n",
            "79\n",
            "81\n",
            "83\n",
            "87\n",
            "89\n",
            "91\n",
            "93\n",
            "97\n",
            "99\n"
          ],
          "name": "stdout"
        }
      ]
    },
    {
      "cell_type": "markdown",
      "metadata": {
        "id": "7bHfvIT7ELh8"
      },
      "source": [
        "## Bucles anidados\n",
        "\n",
        "Se trata de bucles dentro de bucles\n",
        "\n"
      ]
    },
    {
      "cell_type": "markdown",
      "metadata": {
        "id": "KjH93D5PENCL"
      },
      "source": [
        "---\n",
        "\n",
        "#### Ejemplo 3\n",
        "\n",
        "Vamos a calcular las tablas de multiplicar de los números del 1 al 10 anidando dos bucles `for`:"
      ]
    },
    {
      "cell_type": "code",
      "metadata": {
        "colab": {
          "base_uri": "https://localhost:8080/"
        },
        "id": "m9K1Gz3RA0OQ",
        "outputId": "879fc77f-15a0-4311-821c-a3acd0721b7f"
      },
      "source": [
        "for i in range(1, 11):\n",
        "  print(\"\\nTabla de multiplicar del {}\".format(i))\n",
        "  for j in range(1, 21):\n",
        "    print(\"{} x {} = {}\".format(i, j, i * j))"
      ],
      "execution_count": null,
      "outputs": [
        {
          "output_type": "stream",
          "text": [
            "\n",
            "Tabla de multiplicar del 1\n",
            "1 x 1 = 1\n",
            "1 x 2 = 2\n",
            "1 x 3 = 3\n",
            "1 x 4 = 4\n",
            "1 x 5 = 5\n",
            "1 x 6 = 6\n",
            "1 x 7 = 7\n",
            "1 x 8 = 8\n",
            "1 x 9 = 9\n",
            "1 x 10 = 10\n",
            "1 x 11 = 11\n",
            "1 x 12 = 12\n",
            "1 x 13 = 13\n",
            "1 x 14 = 14\n",
            "1 x 15 = 15\n",
            "1 x 16 = 16\n",
            "1 x 17 = 17\n",
            "1 x 18 = 18\n",
            "1 x 19 = 19\n",
            "1 x 20 = 20\n",
            "\n",
            "Tabla de multiplicar del 2\n",
            "2 x 1 = 2\n",
            "2 x 2 = 4\n",
            "2 x 3 = 6\n",
            "2 x 4 = 8\n",
            "2 x 5 = 10\n",
            "2 x 6 = 12\n",
            "2 x 7 = 14\n",
            "2 x 8 = 16\n",
            "2 x 9 = 18\n",
            "2 x 10 = 20\n",
            "2 x 11 = 22\n",
            "2 x 12 = 24\n",
            "2 x 13 = 26\n",
            "2 x 14 = 28\n",
            "2 x 15 = 30\n",
            "2 x 16 = 32\n",
            "2 x 17 = 34\n",
            "2 x 18 = 36\n",
            "2 x 19 = 38\n",
            "2 x 20 = 40\n",
            "\n",
            "Tabla de multiplicar del 3\n",
            "3 x 1 = 3\n",
            "3 x 2 = 6\n",
            "3 x 3 = 9\n",
            "3 x 4 = 12\n",
            "3 x 5 = 15\n",
            "3 x 6 = 18\n",
            "3 x 7 = 21\n",
            "3 x 8 = 24\n",
            "3 x 9 = 27\n",
            "3 x 10 = 30\n",
            "3 x 11 = 33\n",
            "3 x 12 = 36\n",
            "3 x 13 = 39\n",
            "3 x 14 = 42\n",
            "3 x 15 = 45\n",
            "3 x 16 = 48\n",
            "3 x 17 = 51\n",
            "3 x 18 = 54\n",
            "3 x 19 = 57\n",
            "3 x 20 = 60\n",
            "\n",
            "Tabla de multiplicar del 4\n",
            "4 x 1 = 4\n",
            "4 x 2 = 8\n",
            "4 x 3 = 12\n",
            "4 x 4 = 16\n",
            "4 x 5 = 20\n",
            "4 x 6 = 24\n",
            "4 x 7 = 28\n",
            "4 x 8 = 32\n",
            "4 x 9 = 36\n",
            "4 x 10 = 40\n",
            "4 x 11 = 44\n",
            "4 x 12 = 48\n",
            "4 x 13 = 52\n",
            "4 x 14 = 56\n",
            "4 x 15 = 60\n",
            "4 x 16 = 64\n",
            "4 x 17 = 68\n",
            "4 x 18 = 72\n",
            "4 x 19 = 76\n",
            "4 x 20 = 80\n",
            "\n",
            "Tabla de multiplicar del 5\n",
            "5 x 1 = 5\n",
            "5 x 2 = 10\n",
            "5 x 3 = 15\n",
            "5 x 4 = 20\n",
            "5 x 5 = 25\n",
            "5 x 6 = 30\n",
            "5 x 7 = 35\n",
            "5 x 8 = 40\n",
            "5 x 9 = 45\n",
            "5 x 10 = 50\n",
            "5 x 11 = 55\n",
            "5 x 12 = 60\n",
            "5 x 13 = 65\n",
            "5 x 14 = 70\n",
            "5 x 15 = 75\n",
            "5 x 16 = 80\n",
            "5 x 17 = 85\n",
            "5 x 18 = 90\n",
            "5 x 19 = 95\n",
            "5 x 20 = 100\n",
            "\n",
            "Tabla de multiplicar del 6\n",
            "6 x 1 = 6\n",
            "6 x 2 = 12\n",
            "6 x 3 = 18\n",
            "6 x 4 = 24\n",
            "6 x 5 = 30\n",
            "6 x 6 = 36\n",
            "6 x 7 = 42\n",
            "6 x 8 = 48\n",
            "6 x 9 = 54\n",
            "6 x 10 = 60\n",
            "6 x 11 = 66\n",
            "6 x 12 = 72\n",
            "6 x 13 = 78\n",
            "6 x 14 = 84\n",
            "6 x 15 = 90\n",
            "6 x 16 = 96\n",
            "6 x 17 = 102\n",
            "6 x 18 = 108\n",
            "6 x 19 = 114\n",
            "6 x 20 = 120\n",
            "\n",
            "Tabla de multiplicar del 7\n",
            "7 x 1 = 7\n",
            "7 x 2 = 14\n",
            "7 x 3 = 21\n",
            "7 x 4 = 28\n",
            "7 x 5 = 35\n",
            "7 x 6 = 42\n",
            "7 x 7 = 49\n",
            "7 x 8 = 56\n",
            "7 x 9 = 63\n",
            "7 x 10 = 70\n",
            "7 x 11 = 77\n",
            "7 x 12 = 84\n",
            "7 x 13 = 91\n",
            "7 x 14 = 98\n",
            "7 x 15 = 105\n",
            "7 x 16 = 112\n",
            "7 x 17 = 119\n",
            "7 x 18 = 126\n",
            "7 x 19 = 133\n",
            "7 x 20 = 140\n",
            "\n",
            "Tabla de multiplicar del 8\n",
            "8 x 1 = 8\n",
            "8 x 2 = 16\n",
            "8 x 3 = 24\n",
            "8 x 4 = 32\n",
            "8 x 5 = 40\n",
            "8 x 6 = 48\n",
            "8 x 7 = 56\n",
            "8 x 8 = 64\n",
            "8 x 9 = 72\n",
            "8 x 10 = 80\n",
            "8 x 11 = 88\n",
            "8 x 12 = 96\n",
            "8 x 13 = 104\n",
            "8 x 14 = 112\n",
            "8 x 15 = 120\n",
            "8 x 16 = 128\n",
            "8 x 17 = 136\n",
            "8 x 18 = 144\n",
            "8 x 19 = 152\n",
            "8 x 20 = 160\n",
            "\n",
            "Tabla de multiplicar del 9\n",
            "9 x 1 = 9\n",
            "9 x 2 = 18\n",
            "9 x 3 = 27\n",
            "9 x 4 = 36\n",
            "9 x 5 = 45\n",
            "9 x 6 = 54\n",
            "9 x 7 = 63\n",
            "9 x 8 = 72\n",
            "9 x 9 = 81\n",
            "9 x 10 = 90\n",
            "9 x 11 = 99\n",
            "9 x 12 = 108\n",
            "9 x 13 = 117\n",
            "9 x 14 = 126\n",
            "9 x 15 = 135\n",
            "9 x 16 = 144\n",
            "9 x 17 = 153\n",
            "9 x 18 = 162\n",
            "9 x 19 = 171\n",
            "9 x 20 = 180\n",
            "\n",
            "Tabla de multiplicar del 10\n",
            "10 x 1 = 10\n",
            "10 x 2 = 20\n",
            "10 x 3 = 30\n",
            "10 x 4 = 40\n",
            "10 x 5 = 50\n",
            "10 x 6 = 60\n",
            "10 x 7 = 70\n",
            "10 x 8 = 80\n",
            "10 x 9 = 90\n",
            "10 x 10 = 100\n",
            "10 x 11 = 110\n",
            "10 x 12 = 120\n",
            "10 x 13 = 130\n",
            "10 x 14 = 140\n",
            "10 x 15 = 150\n",
            "10 x 16 = 160\n",
            "10 x 17 = 170\n",
            "10 x 18 = 180\n",
            "10 x 19 = 190\n",
            "10 x 20 = 200\n"
          ],
          "name": "stdout"
        }
      ]
    },
    {
      "cell_type": "markdown",
      "metadata": {
        "id": "99RwmBNvERIi"
      },
      "source": [
        "## Lista"
      ]
    },
    {
      "cell_type": "markdown",
      "metadata": {
        "id": "lSt0TS6Z4hla"
      },
      "source": [
        "La primera estructura de datos que veremos son las **listas**. Éstas son un conjunto de elementos ordenados separados por comas y escritos entre claudators, `[]`. \n",
        "\n",
        "Las listas son:\n",
        "- hetereogéneas: los elementos pueden ser de distinto tipo en una misma lista\n",
        "- mutables: los elementos pueden ser modificados\n",
        "\n",
        "Un ejemplo de lista sería"
      ]
    },
    {
      "cell_type": "code",
      "metadata": {
        "id": "4HVLotuzOY78",
        "colab": {
          "base_uri": "https://localhost:8080/"
        },
        "outputId": "de699f98-ea24-40e3-e885-fbe65db2c5b8"
      },
      "source": [
        "l = [\"Juan\", 31, 172.32, True]\n",
        "print(l)"
      ],
      "execution_count": null,
      "outputs": [
        {
          "output_type": "stream",
          "text": [
            "['Juan', 31, 172.32, True]\n"
          ],
          "name": "stdout"
        }
      ]
    },
    {
      "cell_type": "code",
      "metadata": {
        "colab": {
          "base_uri": "https://localhost:8080/"
        },
        "id": "oYyRU_ZtMOPD",
        "outputId": "196be624-7c2f-4e7a-8c7d-eedb4e0cd986"
      },
      "source": [
        "type(l)"
      ],
      "execution_count": null,
      "outputs": [
        {
          "output_type": "execute_result",
          "data": {
            "text/plain": [
              "list"
            ]
          },
          "metadata": {
            "tags": []
          },
          "execution_count": 2
        }
      ]
    },
    {
      "cell_type": "markdown",
      "metadata": {
        "id": "26Vo3ZIz4uFF"
      },
      "source": [
        "### Tamaño de una lista\n",
        "\n",
        "Para saber la longitud o el tamaño de una lista, podemos hacer uso de la función `len()`"
      ]
    },
    {
      "cell_type": "code",
      "metadata": {
        "colab": {
          "base_uri": "https://localhost:8080/"
        },
        "id": "O2mrxwhT4wu6",
        "outputId": "8a0dbcca-1327-496f-96ac-071aa41bfeb2"
      },
      "source": [
        "l = [1, 2, 3, 4, 5, 6, 7, 8, 9]\n",
        "len(l)"
      ],
      "execution_count": null,
      "outputs": [
        {
          "output_type": "execute_result",
          "data": {
            "text/plain": [
              "9"
            ]
          },
          "metadata": {
            "tags": []
          },
          "execution_count": 3
        }
      ]
    },
    {
      "cell_type": "code",
      "metadata": {
        "colab": {
          "base_uri": "https://localhost:8080/"
        },
        "id": "ztYXxTBQ5Afz",
        "outputId": "c6a1aafa-7eca-45f7-cc3a-507eb17ac7e7"
      },
      "source": [
        "l = [\"Zoe\", \"Pablo\", \"Miguel\", \"Silvia\"]\n",
        "len(l)"
      ],
      "execution_count": null,
      "outputs": [
        {
          "output_type": "execute_result",
          "data": {
            "text/plain": [
              "4"
            ]
          },
          "metadata": {
            "tags": []
          },
          "execution_count": 4
        }
      ]
    },
    {
      "cell_type": "markdown",
      "metadata": {
        "id": "68pmRMY3ZcGW"
      },
      "source": [
        "### Tamaño de una lista\n",
        "\n",
        "Para saber la longitud o el tamaño de una lista, podemos hacer uso de la función `len()`"
      ]
    },
    {
      "cell_type": "code",
      "metadata": {
        "colab": {
          "base_uri": "https://localhost:8080/"
        },
        "id": "ciK3QU8lZcGW",
        "outputId": "8a0dbcca-1327-496f-96ac-071aa41bfeb2"
      },
      "source": [
        "l = [1, 2, 3, 4, 5, 6, 7, 8, 9]\n",
        "len(l)"
      ],
      "execution_count": null,
      "outputs": [
        {
          "output_type": "execute_result",
          "data": {
            "text/plain": [
              "9"
            ]
          },
          "metadata": {
            "tags": []
          },
          "execution_count": 3
        }
      ]
    },
    {
      "cell_type": "code",
      "metadata": {
        "colab": {
          "base_uri": "https://localhost:8080/"
        },
        "id": "UN53QG4WZcGX",
        "outputId": "c6a1aafa-7eca-45f7-cc3a-507eb17ac7e7"
      },
      "source": [
        "l = [\"Zoe\", \"Pablo\", \"Miguel\", \"Silvia\"]\n",
        "len(l)"
      ],
      "execution_count": null,
      "outputs": [
        {
          "output_type": "execute_result",
          "data": {
            "text/plain": [
              "4"
            ]
          },
          "metadata": {
            "tags": []
          },
          "execution_count": 4
        }
      ]
    },
    {
      "cell_type": "code",
      "metadata": {
        "colab": {
          "base_uri": "https://localhost:8080/"
        },
        "id": "AuiXLtRS54UV",
        "outputId": "9257cfc8-ef9d-4a9a-a7ab-9be39720c254"
      },
      "source": [
        "print(names[-1]) # Último elemento"
      ],
      "execution_count": null,
      "outputs": [
        {
          "output_type": "stream",
          "text": [
            "Avelina\n"
          ],
          "name": "stdout"
        }
      ]
    },
    {
      "cell_type": "code",
      "metadata": {
        "colab": {
          "base_uri": "https://localhost:8080/"
        },
        "id": "ieekkTel58C5",
        "outputId": "67b0d89c-07cc-4ac1-cffb-944f45ee24f1"
      },
      "source": [
        "print(names[-3]) # Tercer elemento empezando por el final"
      ],
      "execution_count": null,
      "outputs": [
        {
          "output_type": "stream",
          "text": [
            "Claudia\n"
          ],
          "name": "stdout"
        }
      ]
    },
    {
      "cell_type": "markdown",
      "metadata": {
        "id": "FJu56xVr6TW0"
      },
      "source": [
        "Si en vez de querer acceder a los elementos uno por uno estamos interesados en acceder a avarios elementos a la vez, podemos hacer uso de la función `:`"
      ]
    },
    {
      "cell_type": "code",
      "metadata": {
        "colab": {
          "base_uri": "https://localhost:8080/"
        },
        "id": "-tuzXNRN6h-e",
        "outputId": "8234834e-4c86-4664-b98b-bcc86be304e6"
      },
      "source": [
        "print(names[2:4])"
      ],
      "execution_count": null,
      "outputs": [
        {
          "output_type": "stream",
          "text": [
            "['Claudia', 'Jorge']\n"
          ],
          "name": "stdout"
        }
      ]
    },
    {
      "cell_type": "code",
      "metadata": {
        "colab": {
          "base_uri": "https://localhost:8080/"
        },
        "id": "4lvqDEvB6iDp",
        "outputId": "09419155-caf9-48e8-9b10-8873ca1bf07b"
      },
      "source": [
        "print(names[:3])"
      ],
      "execution_count": null,
      "outputs": [
        {
          "output_type": "stream",
          "text": [
            "['Maria', 'Juan', 'Claudia']\n"
          ],
          "name": "stdout"
        }
      ]
    },
    {
      "cell_type": "code",
      "metadata": {
        "colab": {
          "base_uri": "https://localhost:8080/"
        },
        "id": "M3ZWPZCc6iJ1",
        "outputId": "7145f8ef-eb14-4010-8b6c-c597755943b2"
      },
      "source": [
        "print(names[3:])"
      ],
      "execution_count": null,
      "outputs": [
        {
          "output_type": "stream",
          "text": [
            "['Jorge', 'Avelina']\n"
          ],
          "name": "stdout"
        }
      ]
    },
    {
      "cell_type": "markdown",
      "metadata": {
        "id": "QDseyAgfZr3D"
      },
      "source": [
        "### Tamaño de una lista\n",
        "\n",
        "Para saber la longitud o el tamaño de una lista, podemos hacer uso de la función `len()`"
      ]
    },
    {
      "cell_type": "code",
      "metadata": {
        "colab": {
          "base_uri": "https://localhost:8080/"
        },
        "id": "DnnuRqbXZr3E",
        "outputId": "8a0dbcca-1327-496f-96ac-071aa41bfeb2"
      },
      "source": [
        "l = [1, 2, 3, 4, 5, 6, 7, 8, 9]\n",
        "len(l)"
      ],
      "execution_count": null,
      "outputs": [
        {
          "output_type": "execute_result",
          "data": {
            "text/plain": [
              "9"
            ]
          },
          "metadata": {
            "tags": []
          },
          "execution_count": 3
        }
      ]
    },
    {
      "cell_type": "code",
      "metadata": {
        "colab": {
          "base_uri": "https://localhost:8080/"
        },
        "id": "hIfbusrRZr3F",
        "outputId": "c6a1aafa-7eca-45f7-cc3a-507eb17ac7e7"
      },
      "source": [
        "l = [\"Zoe\", \"Pablo\", \"Miguel\", \"Silvia\"]\n",
        "len(l)"
      ],
      "execution_count": null,
      "outputs": [
        {
          "output_type": "execute_result",
          "data": {
            "text/plain": [
              "4"
            ]
          },
          "metadata": {
            "tags": []
          },
          "execution_count": 4
        }
      ]
    },
    {
      "cell_type": "code",
      "metadata": {
        "colab": {
          "base_uri": "https://localhost:8080/"
        },
        "id": "fWhpLOMUZr3G",
        "outputId": "9257cfc8-ef9d-4a9a-a7ab-9be39720c254"
      },
      "source": [
        "print(names[-1]) # Último elemento"
      ],
      "execution_count": null,
      "outputs": [
        {
          "output_type": "stream",
          "text": [
            "Avelina\n"
          ],
          "name": "stdout"
        }
      ]
    },
    {
      "cell_type": "code",
      "metadata": {
        "colab": {
          "base_uri": "https://localhost:8080/"
        },
        "id": "-CerqlL_Zr3G",
        "outputId": "67b0d89c-07cc-4ac1-cffb-944f45ee24f1"
      },
      "source": [
        "print(names[-3]) # Tercer elemento empezando por el final"
      ],
      "execution_count": null,
      "outputs": [
        {
          "output_type": "stream",
          "text": [
            "Claudia\n"
          ],
          "name": "stdout"
        }
      ]
    },
    {
      "cell_type": "markdown",
      "metadata": {
        "id": "mhHF7ke6Zr3H"
      },
      "source": [
        "Si en vez de querer acceder a los elementos uno por uno estamos interesados en acceder a avarios elementos a la vez, podemos hacer uso de la función `:`"
      ]
    },
    {
      "cell_type": "code",
      "metadata": {
        "colab": {
          "base_uri": "https://localhost:8080/"
        },
        "id": "ea-inrffZr3H",
        "outputId": "8234834e-4c86-4664-b98b-bcc86be304e6"
      },
      "source": [
        "print(names[2:4])"
      ],
      "execution_count": null,
      "outputs": [
        {
          "output_type": "stream",
          "text": [
            "['Claudia', 'Jorge']\n"
          ],
          "name": "stdout"
        }
      ]
    },
    {
      "cell_type": "code",
      "metadata": {
        "colab": {
          "base_uri": "https://localhost:8080/"
        },
        "id": "nqcdaaiOZr3I",
        "outputId": "09419155-caf9-48e8-9b10-8873ca1bf07b"
      },
      "source": [
        "print(names[:3])"
      ],
      "execution_count": null,
      "outputs": [
        {
          "output_type": "stream",
          "text": [
            "['Maria', 'Juan', 'Claudia']\n"
          ],
          "name": "stdout"
        }
      ]
    },
    {
      "cell_type": "code",
      "metadata": {
        "colab": {
          "base_uri": "https://localhost:8080/"
        },
        "id": "kIhLgPWbZr3J",
        "outputId": "7145f8ef-eb14-4010-8b6c-c597755943b2"
      },
      "source": [
        "print(names[3:])"
      ],
      "execution_count": null,
      "outputs": [
        {
          "output_type": "stream",
          "text": [
            "['Jorge', 'Avelina']\n"
          ],
          "name": "stdout"
        }
      ]
    },
    {
      "cell_type": "markdown",
      "metadata": {
        "id": "nZoijkn77vl6"
      },
      "source": [
        "Además de acceder, podemos modificar los elementos de una lista"
      ]
    },
    {
      "cell_type": "code",
      "metadata": {
        "colab": {
          "base_uri": "https://localhost:8080/"
        },
        "id": "GyKiA0yQ726D",
        "outputId": "d97fb8d6-d359-4b99-df3f-cb9dfc7e9d1a"
      },
      "source": [
        "names[0] = \"Marina\"\n",
        "names[3] = \"Jaime\"\n",
        "names"
      ],
      "execution_count": null,
      "outputs": [
        {
          "output_type": "execute_result",
          "data": {
            "text/plain": [
              "['Marina', 'Juan', 'Claudia', 'Jaime', 'Avelina']"
            ]
          },
          "metadata": {
            "tags": []
          },
          "execution_count": 14
        }
      ]
    },
    {
      "cell_type": "markdown",
      "metadata": {
        "id": "UZ2E_j4AEsWr"
      },
      "source": [
        "Podemos añadir nuevos elementos a una lista con el método `.append()`"
      ]
    },
    {
      "cell_type": "markdown",
      "metadata": {
        "id": "a1KziYptFBkG"
      },
      "source": [
        "**Observación.** Los elementos añadidos con el método `.append()`, se incluyen al final.\n",
        "\n",
        "Si quisiéramos añadir un nuevo elemento a una lista, pero no lo quisiéramos al final, sino en una posición específica, entonces utilizaremos el método `.insert()` al que primero le indicamos el índice donde queremos posicionar el nuevo elemento y, en segundo lugar, indicamos dicho nuevo elemento."
      ]
    },
    {
      "cell_type": "code",
      "metadata": {
        "colab": {
          "base_uri": "https://localhost:8080/"
        },
        "id": "pKSfiqf9Fc9s",
        "outputId": "da94c678-2933-40ff-eb77-c921e29187a2"
      },
      "source": [
        "names = [\"Mario\", \"Cristian\", \"Juan\"]\n",
        "print(names)\n",
        "\n",
        "names.insert(1, \"Andrés\")\n",
        "print(names)\n",
        "names.insert(3, \"Miguel\")\n",
        "print(names)"
      ],
      "execution_count": null,
      "outputs": [
        {
          "output_type": "stream",
          "text": [
            "['Mario', 'Cristian', 'Juan']\n",
            "['Mario', 'Andrés', 'Cristian', 'Juan']\n",
            "['Mario', 'Andrés', 'Cristian', 'Miguel', 'Juan']\n"
          ],
          "name": "stdout"
        }
      ]
    },
    {
      "cell_type": "markdown",
      "metadata": {
        "id": "JoX5hbw9Z0q4"
      },
      "source": [
        "### Tamaño de una lista\n",
        "\n",
        "Para saber la longitud o el tamaño de una lista, podemos hacer uso de la función `len()`"
      ]
    },
    {
      "cell_type": "code",
      "metadata": {
        "colab": {
          "base_uri": "https://localhost:8080/"
        },
        "id": "wj6V8SPAZ0q4",
        "outputId": "8a0dbcca-1327-496f-96ac-071aa41bfeb2"
      },
      "source": [
        "l = [1, 2, 3, 4, 5, 6, 7, 8, 9]\n",
        "len(l)"
      ],
      "execution_count": null,
      "outputs": [
        {
          "output_type": "execute_result",
          "data": {
            "text/plain": [
              "9"
            ]
          },
          "metadata": {
            "tags": []
          },
          "execution_count": 3
        }
      ]
    },
    {
      "cell_type": "code",
      "metadata": {
        "colab": {
          "base_uri": "https://localhost:8080/"
        },
        "id": "VBj6gL9jZ0q5",
        "outputId": "c6a1aafa-7eca-45f7-cc3a-507eb17ac7e7"
      },
      "source": [
        "l = [\"Zoe\", \"Pablo\", \"Miguel\", \"Silvia\"]\n",
        "len(l)"
      ],
      "execution_count": null,
      "outputs": [
        {
          "output_type": "execute_result",
          "data": {
            "text/plain": [
              "4"
            ]
          },
          "metadata": {
            "tags": []
          },
          "execution_count": 4
        }
      ]
    },
    {
      "cell_type": "code",
      "metadata": {
        "colab": {
          "base_uri": "https://localhost:8080/"
        },
        "id": "EttNeao5Z0q5",
        "outputId": "9257cfc8-ef9d-4a9a-a7ab-9be39720c254"
      },
      "source": [
        "print(names[-1]) # Último elemento"
      ],
      "execution_count": null,
      "outputs": [
        {
          "output_type": "stream",
          "text": [
            "Avelina\n"
          ],
          "name": "stdout"
        }
      ]
    },
    {
      "cell_type": "code",
      "metadata": {
        "colab": {
          "base_uri": "https://localhost:8080/"
        },
        "id": "w0SElGjDZ0q5",
        "outputId": "67b0d89c-07cc-4ac1-cffb-944f45ee24f1"
      },
      "source": [
        "print(names[-3]) # Tercer elemento empezando por el final"
      ],
      "execution_count": null,
      "outputs": [
        {
          "output_type": "stream",
          "text": [
            "Claudia\n"
          ],
          "name": "stdout"
        }
      ]
    },
    {
      "cell_type": "markdown",
      "metadata": {
        "id": "cVo5n1sUZ0q5"
      },
      "source": [
        "Si en vez de querer acceder a los elementos uno por uno estamos interesados en acceder a avarios elementos a la vez, podemos hacer uso de la función `:`"
      ]
    },
    {
      "cell_type": "code",
      "metadata": {
        "colab": {
          "base_uri": "https://localhost:8080/"
        },
        "id": "VLW5bF8jZ0q6",
        "outputId": "8234834e-4c86-4664-b98b-bcc86be304e6"
      },
      "source": [
        "print(names[2:4])"
      ],
      "execution_count": null,
      "outputs": [
        {
          "output_type": "stream",
          "text": [
            "['Claudia', 'Jorge']\n"
          ],
          "name": "stdout"
        }
      ]
    },
    {
      "cell_type": "code",
      "metadata": {
        "colab": {
          "base_uri": "https://localhost:8080/"
        },
        "id": "B9DkDsBZZ0q6",
        "outputId": "09419155-caf9-48e8-9b10-8873ca1bf07b"
      },
      "source": [
        "print(names[:3])"
      ],
      "execution_count": null,
      "outputs": [
        {
          "output_type": "stream",
          "text": [
            "['Maria', 'Juan', 'Claudia']\n"
          ],
          "name": "stdout"
        }
      ]
    },
    {
      "cell_type": "code",
      "metadata": {
        "colab": {
          "base_uri": "https://localhost:8080/"
        },
        "id": "3rmIdTjeZ0q6",
        "outputId": "7145f8ef-eb14-4010-8b6c-c597755943b2"
      },
      "source": [
        "print(names[3:])"
      ],
      "execution_count": null,
      "outputs": [
        {
          "output_type": "stream",
          "text": [
            "['Jorge', 'Avelina']\n"
          ],
          "name": "stdout"
        }
      ]
    },
    {
      "cell_type": "markdown",
      "metadata": {
        "id": "fs4yQ7rFZ0q7"
      },
      "source": [
        "Además de acceder, podemos modificar los elementos de una lista"
      ]
    },
    {
      "cell_type": "code",
      "metadata": {
        "colab": {
          "base_uri": "https://localhost:8080/"
        },
        "id": "gLQmXfviZ0q7",
        "outputId": "d97fb8d6-d359-4b99-df3f-cb9dfc7e9d1a"
      },
      "source": [
        "names[0] = \"Marina\"\n",
        "names[3] = \"Jaime\"\n",
        "names"
      ],
      "execution_count": null,
      "outputs": [
        {
          "output_type": "execute_result",
          "data": {
            "text/plain": [
              "['Marina', 'Juan', 'Claudia', 'Jaime', 'Avelina']"
            ]
          },
          "metadata": {
            "tags": []
          },
          "execution_count": 14
        }
      ]
    },
    {
      "cell_type": "markdown",
      "metadata": {
        "id": "uu4dmf71Z0q7"
      },
      "source": [
        "Podemos añadir nuevos elementos a una lista con el método `.append()`"
      ]
    },
    {
      "cell_type": "markdown",
      "metadata": {
        "id": "ArTRUcX4Z0q7"
      },
      "source": [
        "**Observación.** Los elementos añadidos con el método `.append()`, se incluyen al final.\n",
        "\n",
        "Si quisiéramos añadir un nuevo elemento a una lista, pero no lo quisiéramos al final, sino en una posición específica, entonces utilizaremos el método `.insert()` al que primero le indicamos el índice donde queremos posicionar el nuevo elemento y, en segundo lugar, indicamos dicho nuevo elemento."
      ]
    },
    {
      "cell_type": "code",
      "metadata": {
        "colab": {
          "base_uri": "https://localhost:8080/"
        },
        "id": "S3fnDkIjZ0q8",
        "outputId": "93c3a949-90cb-4e5f-ce78-a85b252c6253"
      },
      "source": [
        "names = [\"Mario\", \"Cristian\", \"Juan\"]\n",
        "print(names)\n",
        "\n",
        "names.insert(1, \"Andrés\")\n",
        "print(names)\n",
        "names.insert(3, \"Miguel\")\n",
        "print(names)"
      ],
      "execution_count": null,
      "outputs": [
        {
          "output_type": "stream",
          "text": [
            "['Mario', 'Cristian', 'Juan']\n",
            "['Mario', 'Andrés', 'Cristian', 'Juan']\n",
            "['Mario', 'Andrés', 'Cristian', 'Miguel', 'Juan']\n"
          ],
          "name": "stdout"
        }
      ]
    },
    {
      "cell_type": "markdown",
      "metadata": {
        "id": "EXg4xr8dP6_k"
      },
      "source": [
        "## Bucles con listas"
      ]
    },
    {
      "cell_type": "markdown",
      "metadata": {
        "id": "Jbblbwu_4tdD"
      },
      "source": [
        "Si quisiéramos imprimir por pantalla todos los elementos de una lista, lo podríamos hacer mediante los índices"
      ]
    },
    {
      "cell_type": "code",
      "metadata": {
        "colab": {
          "base_uri": "https://localhost:8080/"
        },
        "id": "3n1Nz98vWbcY",
        "outputId": "2e9f4b50-3ca8-4212-abbb-2c0c7e06a877"
      },
      "source": [
        "for i in range(len(names)):\n",
        "  print(names[i])"
      ],
      "execution_count": null,
      "outputs": [
        {
          "output_type": "stream",
          "text": [
            "Mario\n",
            "Andrés\n",
            "Cristian\n",
            "Miguel\n",
            "Juan\n"
          ],
          "name": "stdout"
        }
      ]
    },
    {
      "cell_type": "markdown",
      "metadata": {
        "id": "ESHFOO-7WbpB"
      },
      "source": [
        "o mucho más fácilmente iterando la lista con un `for` con la siguiente sintaxis:"
      ]
    },
    {
      "cell_type": "code",
      "metadata": {
        "id": "wruvYnQNP8Kv",
        "colab": {
          "base_uri": "https://localhost:8080/"
        },
        "outputId": "e96a5d86-824a-4741-dd5c-8d091d8a7f20"
      },
      "source": [
        "for name in names:\n",
        "  print(name)"
      ],
      "execution_count": null,
      "outputs": [
        {
          "output_type": "stream",
          "text": [
            "Mario\n",
            "Andrés\n",
            "Cristian\n",
            "Miguel\n",
            "Juan\n"
          ],
          "name": "stdout"
        }
      ]
    },
    {
      "cell_type": "markdown",
      "metadata": {
        "id": "KNysQBHgF-s7"
      },
      "source": [
        "## Listas anidadas\n",
        "\n",
        "Las listas anidadas son listas dentro de listas. Es decir, las listas no solo pueden contener números, strings o datos booleanos, sino que también pueden contener otras listas.\n",
        "\n"
      ]
    },
    {
      "cell_type": "markdown",
      "metadata": {
        "id": "UfvSb4IQEXht"
      },
      "source": [
        "---\n",
        "\n",
        "#### Ejemplo 1\n",
        "\n",
        "A continuación mostramos una lista anidada, pues consta de 3 elementos:\n",
        "\n",
        "- 1 lista de 3 strings\n",
        "- 1 lista heterogénea de 3 elementos que a su vez contiene una lista con 5 números\n",
        "- 1 número"
      ]
    },
    {
      "cell_type": "code",
      "metadata": {
        "id": "vEonEcPaESU0",
        "colab": {
          "base_uri": "https://localhost:8080/"
        },
        "outputId": "5fa741c8-3f70-4e54-9ac3-9c841a595da2"
      },
      "source": [
        "l = [[\"María\", \"Santos\", \"Fernández\"],\n",
        "     [\"Juan\", [1, 2, 3, 4, 5], 32], \n",
        "     2]\n",
        "print(l)"
      ],
      "execution_count": null,
      "outputs": [
        {
          "output_type": "stream",
          "text": [
            "[['María', 'Santos', 'Fernández'], ['Juan', [1, 2, 3, 4, 5], 32], 2]\n"
          ],
          "name": "stdout"
        }
      ]
    },
    {
      "cell_type": "markdown",
      "metadata": {
        "id": "hrPxgzKZGeFc"
      },
      "source": [
        "Para acceder a un elemento, necesitamos indicar su índice. Si un elemento está en una lista dentro de una lista dentro de una lista, en primer lugar indicamos el índice de la lista exterior dentro de `[]`; después, el índice de la siguiente lista más exterior también entre `[]`; y por último, el índice de la lista más interna, claramente también entre `[]`.\n",
        "\n",
        "Accedamos al string `Fernández`y luego al número `5`."
      ]
    },
    {
      "cell_type": "code",
      "metadata": {
        "colab": {
          "base_uri": "https://localhost:8080/"
        },
        "id": "TeQmP8VqG5gL",
        "outputId": "57aa6792-70b6-4eba-a963-c973799f7e63"
      },
      "source": [
        "print(l[0][2]) # Fernández\n",
        "print(l[1][1][4]) # 5"
      ],
      "execution_count": null,
      "outputs": [
        {
          "output_type": "stream",
          "text": [
            "Fernández\n",
            "5\n"
          ],
          "name": "stdout"
        }
      ]
    },
    {
      "cell_type": "markdown",
      "metadata": {
        "id": "Q8JAvwURXhBu"
      },
      "source": [
        "### Matrices\n",
        "\n",
        "Hay un tipo muy utilizado de listas anidadas. Se caracteriza por ser una lista de $m$ listas, donde cada una de las listas tiene el mismo número de elementos, $n$. A este tipo de listas se les conoce como matrices."
      ]
    },
    {
      "cell_type": "code",
      "metadata": {
        "id": "kI2VDe-OG_-v",
        "colab": {
          "base_uri": "https://localhost:8080/"
        },
        "outputId": "299d8504-feb9-4f2d-ef1e-5f4f43227849"
      },
      "source": [
        "matrix = [[1, 2, 3], [4, 5, 6], [7, 8, 9]]\n",
        "matrix"
      ],
      "execution_count": null,
      "outputs": [
        {
          "output_type": "execute_result",
          "data": {
            "text/plain": [
              "[[1, 2, 3], [4, 5, 6], [7, 8, 9]]"
            ]
          },
          "metadata": {
            "tags": []
          },
          "execution_count": 6
        }
      ]
    },
    {
      "cell_type": "markdown",
      "metadata": {
        "id": "njgnyZJPIELD"
      },
      "source": [
        "escrita en forma de tabla sería: `matrix` $= \\displaystyle\\begin{pmatrix} 1 & 2 & 3\\\\ 4 & 5 & 6\\\\ 7 & 8 & 9\\end{pmatrix}$\n",
        "\n",
        "Para acceder a los elementos de una matriz en `Python`, utilizamos la sintaxis `[][]`, donde primero indicamos la fila y, a continuación, la columna"
      ]
    },
    {
      "cell_type": "code",
      "metadata": {
        "id": "YP3icvA_IDXo",
        "colab": {
          "base_uri": "https://localhost:8080/"
        },
        "outputId": "5b8c9c4d-8066-4d6f-8baa-fb185214baad"
      },
      "source": [
        "matrix[0][2]"
      ],
      "execution_count": null,
      "outputs": [
        {
          "output_type": "execute_result",
          "data": {
            "text/plain": [
              "3"
            ]
          },
          "metadata": {
            "tags": []
          },
          "execution_count": 43
        }
      ]
    },
    {
      "cell_type": "code",
      "metadata": {
        "id": "bSnuYtkuIcd3",
        "colab": {
          "base_uri": "https://localhost:8080/"
        },
        "outputId": "b4155a45-68c4-4912-adb6-e206695816c7"
      },
      "source": [
        "matrix[1][1]"
      ],
      "execution_count": null,
      "outputs": [
        {
          "output_type": "execute_result",
          "data": {
            "text/plain": [
              "5"
            ]
          },
          "metadata": {
            "tags": []
          },
          "execution_count": 44
        }
      ]
    },
    {
      "cell_type": "code",
      "metadata": {
        "id": "xa09nH2pIerX",
        "colab": {
          "base_uri": "https://localhost:8080/"
        },
        "outputId": "43fee54e-5955-4b81-921a-7589ea30f121"
      },
      "source": [
        "matrix[2][0]"
      ],
      "execution_count": null,
      "outputs": [
        {
          "output_type": "execute_result",
          "data": {
            "text/plain": [
              "7"
            ]
          },
          "metadata": {
            "tags": []
          },
          "execution_count": 45
        }
      ]
    },
    {
      "cell_type": "markdown",
      "metadata": {
        "id": "ChxHwop9IgkG"
      },
      "source": [
        "Podemos mostrar una matriz de `Python` en forma de tabla con un bucle `for`, del siguiente modo"
      ]
    },
    {
      "cell_type": "code",
      "metadata": {
        "colab": {
          "base_uri": "https://localhost:8080/"
        },
        "id": "36Q2L48gIpnE",
        "outputId": "b8f4a381-3074-42d5-c151-fff16fd7ab91"
      },
      "source": [
        "for row in matrix: # Accedemos a las filas de la matrix\n",
        "  print(row)"
      ],
      "execution_count": null,
      "outputs": [
        {
          "output_type": "stream",
          "text": [
            "[1, 2, 3]\n",
            "[4, 5, 6]\n",
            "[7, 8, 9]\n"
          ],
          "name": "stdout"
        }
      ]
    },
    {
      "cell_type": "markdown",
      "metadata": {
        "id": "vpO2WDTfIyc2"
      },
      "source": [
        "Si lo que queremos es mostrar todos los elementos de la matriz en columna, podemos utilizar dos bucles `for` anidados del siguiente modo:"
      ]
    },
    {
      "cell_type": "code",
      "metadata": {
        "colab": {
          "base_uri": "https://localhost:8080/"
        },
        "id": "oO0jDxOHIu4d",
        "outputId": "38407f9b-4dd1-4146-d7d2-bdd5d0789495"
      },
      "source": [
        "for row in matrix: # Accedemos a las filas\n",
        "  for element in row: # Accedemos a los elementos de las filas\n",
        "    print(element)"
      ],
      "execution_count": null,
      "outputs": [
        {
          "output_type": "stream",
          "text": [
            "1\n",
            "2\n",
            "3\n",
            "4\n",
            "5\n",
            "6\n",
            "7\n",
            "8\n",
            "9\n"
          ],
          "name": "stdout"
        }
      ]
    },
    {
      "cell_type": "code",
      "metadata": {
        "colab": {
          "base_uri": "https://localhost:8080/"
        },
        "id": "SRLevLG7JV4t",
        "outputId": "3e90cf37-ca02-425a-e944-019c1e9199fb"
      },
      "source": [
        "for row in matrix:\n",
        "  for element in row:\n",
        "    print(element, end = \" \")\n",
        "  print(\"\")"
      ],
      "execution_count": null,
      "outputs": [
        {
          "output_type": "stream",
          "text": [
            "1 2 3 \n",
            "4 5 6 \n",
            "7 8 9 \n"
          ],
          "name": "stdout"
        }
      ]
    },
    {
      "cell_type": "code",
      "metadata": {
        "colab": {
          "base_uri": "https://localhost:8080/"
        },
        "id": "0TMUrQEmdPW6",
        "outputId": "433ba623-99bf-4e30-93b8-151113756f12"
      },
      "source": [
        "for row in matrix:\n",
        "  for element in row:\n",
        "    print(element, end = \" \")\n",
        "  print(\"\")"
      ],
      "execution_count": null,
      "outputs": [
        {
          "output_type": "stream",
          "text": [
            "1 2 3 \n",
            "4 5 6 \n",
            "7 8 9 \n"
          ],
          "name": "stdout"
        }
      ]
    },
    {
      "cell_type": "markdown",
      "metadata": {
        "id": "hcBWsPtrRtz_"
      },
      "source": [
        "#### Matrices con `numpy`\n",
        "\n",
        "Existe una forma más sencilla de trabajar con matricdes y es gracias a la librería `numpy`. Para importarla, simplemente hay que ejecutar la siguiente línea de código."
      ]
    },
    {
      "cell_type": "code",
      "metadata": {
        "id": "swT8X1uBRrdh"
      },
      "source": [
        "import numpy as np"
      ],
      "execution_count": null,
      "outputs": []
    },
    {
      "cell_type": "markdown",
      "metadata": {
        "id": "eqlH-ugoR8JS"
      },
      "source": [
        "Para crear una matriz vacía, usamos el método `.empty()`, al que le indicamos por parámetro las dimensiones"
      ]
    },
    {
      "cell_type": "code",
      "metadata": {
        "id": "gIsX2YcVR6Dx",
        "colab": {
          "base_uri": "https://localhost:8080/"
        },
        "outputId": "5c1ef260-85ff-44d2-8e08-ba014d570b59"
      },
      "source": [
        "A = np.empty((2, 3)) # 2 filas y 3 columnas\n",
        "print(A)"
      ],
      "execution_count": null,
      "outputs": [
        {
          "output_type": "stream",
          "text": [
            "[[4.68485418e-310 0.00000000e+000 0.00000000e+000]\n",
            " [0.00000000e+000 0.00000000e+000 0.00000000e+000]]\n"
          ],
          "name": "stdout"
        }
      ]
    },
    {
      "cell_type": "markdown",
      "metadata": {
        "id": "o9dQBOK5Sc0a"
      },
      "source": [
        "Para crear una matriz vacía con las mismas dimensiones de otra matriz definida anteriormente, usamos el método `.empty_like()`, al que le indicamos por parámetro la matriz existente"
      ]
    },
    {
      "cell_type": "code",
      "metadata": {
        "id": "Wb7v1JLuSf7a",
        "colab": {
          "base_uri": "https://localhost:8080/"
        },
        "outputId": "cf8b2b56-c663-47fd-ca62-c91e81fbb71e"
      },
      "source": [
        "B = np.empty_like(A) # Tendrá 2 filas y 3 columnas\n",
        "print(B)"
      ],
      "execution_count": null,
      "outputs": [
        {
          "output_type": "stream",
          "text": [
            "[[4.68485418e-310 0.00000000e+000 0.00000000e+000]\n",
            " [0.00000000e+000 0.00000000e+000 0.00000000e+000]]\n"
          ],
          "name": "stdout"
        }
      ]
    },
    {
      "cell_type": "markdown",
      "metadata": {
        "id": "xwc57rwpSFQ3"
      },
      "source": [
        "Para crear una matriz nula, usamos el método `.zeros()`, al que le indicamos por parámetro las dimensiones"
      ]
    },
    {
      "cell_type": "code",
      "metadata": {
        "id": "ekfw1NrcSKxl",
        "colab": {
          "base_uri": "https://localhost:8080/"
        },
        "outputId": "a1d66be4-207f-427f-dee6-065e49c51e3c"
      },
      "source": [
        "C = np.zeros((3, 5)) # Matriz nula de dimensiones 3 x 5\n",
        "print(C)"
      ],
      "execution_count": null,
      "outputs": [
        {
          "output_type": "stream",
          "text": [
            "[[0. 0. 0. 0. 0.]\n",
            " [0. 0. 0. 0. 0.]\n",
            " [0. 0. 0. 0. 0.]]\n"
          ],
          "name": "stdout"
        }
      ]
    },
    {
      "cell_type": "markdown",
      "metadata": {
        "id": "pQO3AMGGEiHy"
      },
      "source": [
        "## Diccionario\n",
        "\n",
        "La segunda estructura de datos que veremos son los **diccionarios**. Éstos son un conjunto de elementos no ordenados escritos entre llaves, `{}`, que constan de claves y valores. \n",
        "\n",
        "Cada conjunto `clave: valor` es separado por comas. Las claves funcionan como identificadores y preceden a `:`. A continuación van los valores, que son elementos (numéricos, booleanos, strings, listas, diccionarios...) asociados a esa clave. \n",
        "\n",
        "Los diccionarios, al igual que las listas, son:\n",
        "- hetereogéneos: los elementos pueden ser de distinto tipo en un mismo diccionario\n",
        "- mutables: los elementos pueden ser modificados\n",
        "\n",
        "Un ejemplo de diccionario sería"
      ]
    },
    {
      "cell_type": "code",
      "metadata": {
        "colab": {
          "base_uri": "https://localhost:8080/"
        },
        "id": "A814fbOyRv3o",
        "outputId": "8e59fbda-3a12-4027-a7e9-6b9f5e9f1f17"
      },
      "source": [
        "dicc = {\"Jose\": 32, \"Marina\": 21}\n",
        "print(dicc)"
      ],
      "execution_count": null,
      "outputs": [
        {
          "output_type": "stream",
          "text": [
            "{'Jose': 32, 'Marina': 21}\n"
          ],
          "name": "stdout"
        }
      ]
    },
    {
      "cell_type": "markdown",
      "metadata": {
        "id": "hc-pD5ZkAILQ"
      },
      "source": [
        "**Observación.** Al decir que los diccionarios no tienen orden, lo que ocurre es que `Python` no mantendrá el que hemos introducido, tal y como hacía con las listas, sino que reordenará todos los elementos por orden primero numérico (yendo antes los positivos que los negativos) y luego alfabético de las claves. Esto no ocurre si usamos la función `print()`."
      ]
    },
    {
      "cell_type": "code",
      "metadata": {
        "colab": {
          "base_uri": "https://localhost:8080/"
        },
        "id": "-zpr4-45A7w8",
        "outputId": "ff489e7f-0f11-4ec0-e128-ceb6fd9b66c3"
      },
      "source": [
        "l = [\"Jose\", \"Marina\", \"Elena\"]\n",
        "l"
      ],
      "execution_count": null,
      "outputs": [
        {
          "output_type": "execute_result",
          "data": {
            "text/plain": [
              "['Jose', 'Marina', 'Elena']"
            ]
          },
          "metadata": {
            "tags": []
          },
          "execution_count": 80
        }
      ]
    },
    {
      "cell_type": "code",
      "metadata": {
        "colab": {
          "base_uri": "https://localhost:8080/"
        },
        "id": "7qjFaRCQAS2c",
        "outputId": "b8592c09-32f4-4b62-bdcc-af340cbd61d2"
      },
      "source": [
        "dicc = {\"Jose\": 32,\n",
        "        \"Marina\": 21,\n",
        "        \"Elena\": 10}\n",
        "dicc"
      ],
      "execution_count": null,
      "outputs": [
        {
          "output_type": "execute_result",
          "data": {
            "text/plain": [
              "{'Elena': 10, 'Jose': 32, 'Marina': 21}"
            ]
          },
          "metadata": {
            "tags": []
          },
          "execution_count": 3
        }
      ]
    },
    {
      "cell_type": "code",
      "metadata": {
        "colab": {
          "base_uri": "https://localhost:8080/"
        },
        "id": "flhX6oN4Aw5Q",
        "outputId": "16ddc794-5c61-4116-fe2c-ecc1e0a34791"
      },
      "source": [
        "print(dicc)"
      ],
      "execution_count": null,
      "outputs": [
        {
          "output_type": "stream",
          "text": [
            "{'Jose': 32, 'Marina': 21, 'Elena': 10}\n"
          ],
          "name": "stdout"
        }
      ]
    },
    {
      "cell_type": "code",
      "metadata": {
        "colab": {
          "base_uri": "https://localhost:8080/"
        },
        "id": "Pua6j8odBSMo",
        "outputId": "f24e7874-523c-4420-e960-0b1b8f20b5b5"
      },
      "source": [
        "dicc = {\"Alba\": 2, 7: \"a\", -5: \"b\", \"Javi\": 28}\n",
        "dicc"
      ],
      "execution_count": null,
      "outputs": [
        {
          "output_type": "execute_result",
          "data": {
            "text/plain": [
              "{-5: 'b', 7: 'a', 'Alba': 2, 'Javi': 28}"
            ]
          },
          "metadata": {
            "tags": []
          },
          "execution_count": 5
        }
      ]
    },
    {
      "cell_type": "code",
      "metadata": {
        "colab": {
          "base_uri": "https://localhost:8080/"
        },
        "id": "jUdYRjG-BkwT",
        "outputId": "31425b7b-1961-4fff-f084-d1233a2477b7"
      },
      "source": [
        "print(dicc)"
      ],
      "execution_count": null,
      "outputs": [
        {
          "output_type": "stream",
          "text": [
            "{'Alba': 2, 7: 'a', -5: 'b', 'Javi': 28}\n"
          ],
          "name": "stdout"
        }
      ]
    },
    {
      "cell_type": "markdown",
      "metadata": {
        "id": "tDVz0ilifFOY"
      },
      "source": [
        "**Observación.** Al decir que los diccionarios no tienen orden, lo que ocurre es que `Python` no mantendrá el que hemos introducido, tal y como hacía con las listas, sino que reordenará todos los elementos por orden primero numérico (yendo antes los positivos que los negativos) y luego alfabético de las claves. Esto no ocurre si usamos la función `print()`."
      ]
    },
    {
      "cell_type": "code",
      "metadata": {
        "colab": {
          "base_uri": "https://localhost:8080/"
        },
        "id": "3TYHjiIAfFOZ",
        "outputId": "ff489e7f-0f11-4ec0-e128-ceb6fd9b66c3"
      },
      "source": [
        "l = [\"Jose\", \"Marina\", \"Elena\"]\n",
        "l"
      ],
      "execution_count": null,
      "outputs": [
        {
          "output_type": "execute_result",
          "data": {
            "text/plain": [
              "['Jose', 'Marina', 'Elena']"
            ]
          },
          "metadata": {
            "tags": []
          },
          "execution_count": 80
        }
      ]
    },
    {
      "cell_type": "code",
      "metadata": {
        "colab": {
          "base_uri": "https://localhost:8080/"
        },
        "id": "yWY8i1UUfFOa",
        "outputId": "b8592c09-32f4-4b62-bdcc-af340cbd61d2"
      },
      "source": [
        "dicc = {\"Jose\": 32,\n",
        "        \"Marina\": 21,\n",
        "        \"Elena\": 10}\n",
        "dicc"
      ],
      "execution_count": null,
      "outputs": [
        {
          "output_type": "execute_result",
          "data": {
            "text/plain": [
              "{'Elena': 10, 'Jose': 32, 'Marina': 21}"
            ]
          },
          "metadata": {
            "tags": []
          },
          "execution_count": 3
        }
      ]
    },
    {
      "cell_type": "code",
      "metadata": {
        "colab": {
          "base_uri": "https://localhost:8080/"
        },
        "id": "6ZALGqy1fFOb",
        "outputId": "16ddc794-5c61-4116-fe2c-ecc1e0a34791"
      },
      "source": [
        "print(dicc)"
      ],
      "execution_count": null,
      "outputs": [
        {
          "output_type": "stream",
          "text": [
            "{'Jose': 32, 'Marina': 21, 'Elena': 10}\n"
          ],
          "name": "stdout"
        }
      ]
    },
    {
      "cell_type": "code",
      "metadata": {
        "colab": {
          "base_uri": "https://localhost:8080/"
        },
        "id": "8mIiav9UfFOb",
        "outputId": "f24e7874-523c-4420-e960-0b1b8f20b5b5"
      },
      "source": [
        "dicc = {\"Alba\": 2, 7: \"a\", -5: \"b\", \"Javi\": 28}\n",
        "dicc"
      ],
      "execution_count": null,
      "outputs": [
        {
          "output_type": "execute_result",
          "data": {
            "text/plain": [
              "{-5: 'b', 7: 'a', 'Alba': 2, 'Javi': 28}"
            ]
          },
          "metadata": {
            "tags": []
          },
          "execution_count": 5
        }
      ]
    },
    {
      "cell_type": "code",
      "metadata": {
        "colab": {
          "base_uri": "https://localhost:8080/"
        },
        "id": "QqEJx3Q8fFOb",
        "outputId": "31425b7b-1961-4fff-f084-d1233a2477b7"
      },
      "source": [
        "print(dicc)"
      ],
      "execution_count": null,
      "outputs": [
        {
          "output_type": "stream",
          "text": [
            "{'Alba': 2, 7: 'a', -5: 'b', 'Javi': 28}\n"
          ],
          "name": "stdout"
        }
      ]
    },
    {
      "cell_type": "markdown",
      "metadata": {
        "id": "UoinrSEqUvyi"
      },
      "source": [
        "### Elementos de un diccionario\n",
        "\n",
        "Anteriormente se ha comentado que los diccionarios no tienen orden. De modo que a sus elementos no se accede por posición, sino que debemos hacerlo mediante sus claves.\n",
        "\n",
        "La sintaxis es `diccionario[clave]`"
      ]
    },
    {
      "cell_type": "code",
      "metadata": {
        "colab": {
          "base_uri": "https://localhost:8080/"
        },
        "id": "765jVesMUgMP",
        "outputId": "443a7c73-0be3-4fdf-bb71-fd2e5ebb4777"
      },
      "source": [
        "dicc = {\n",
        "    \"names\": [\"Ana\", \"Borja\", \"Carmen\"],\n",
        "    \"ages\" : [31, 25, 16]\n",
        "    }\n",
        "dicc[\"names\"]"
      ],
      "execution_count": null,
      "outputs": [
        {
          "output_type": "execute_result",
          "data": {
            "text/plain": [
              "['Ana', 'Borja', 'Carmen']"
            ]
          },
          "metadata": {
            "tags": []
          },
          "execution_count": 10
        }
      ]
    },
    {
      "cell_type": "code",
      "metadata": {
        "colab": {
          "base_uri": "https://localhost:8080/"
        },
        "id": "Jbw8SL0jVRq1",
        "outputId": "5f406721-7ca7-4df5-d939-f6a20dcd857e"
      },
      "source": [
        "dicc[\"ages\"]"
      ],
      "execution_count": null,
      "outputs": [
        {
          "output_type": "execute_result",
          "data": {
            "text/plain": [
              "[31, 25, 16]"
            ]
          },
          "metadata": {
            "tags": []
          },
          "execution_count": 8
        }
      ]
    },
    {
      "cell_type": "markdown",
      "metadata": {
        "id": "gmmJ0X_qVWYJ"
      },
      "source": [
        "Poemos acceder a todas las claves de un diccionario con el método `.keys()`"
      ]
    },
    {
      "cell_type": "code",
      "metadata": {
        "colab": {
          "base_uri": "https://localhost:8080/"
        },
        "id": "m1uLVhcuVTQk",
        "outputId": "000bd3de-2ff9-47a9-9682-4e6d1b0857bc"
      },
      "source": [
        "dicc.keys()"
      ],
      "execution_count": null,
      "outputs": [
        {
          "output_type": "execute_result",
          "data": {
            "text/plain": [
              "dict_keys(['names', 'ages'])"
            ]
          },
          "metadata": {
            "tags": []
          },
          "execution_count": 11
        }
      ]
    },
    {
      "cell_type": "markdown",
      "metadata": {
        "id": "yrOmHPCIVfqS"
      },
      "source": [
        "También podemos acceder a todos los valores de un diccionario con el método `.values()`"
      ]
    },
    {
      "cell_type": "code",
      "metadata": {
        "colab": {
          "base_uri": "https://localhost:8080/"
        },
        "id": "dZqh3tOvVc13",
        "outputId": "c5862ec9-fe46-44f3-959a-480671c04a0b"
      },
      "source": [
        "dicc.values()"
      ],
      "execution_count": null,
      "outputs": [
        {
          "output_type": "execute_result",
          "data": {
            "text/plain": [
              "dict_values([['Ana', 'Borja', 'Carmen'], [31, 25, 16]])"
            ]
          },
          "metadata": {
            "tags": []
          },
          "execution_count": 12
        }
      ]
    },
    {
      "cell_type": "markdown",
      "metadata": {
        "id": "ABIj-vpMfd1e"
      },
      "source": [
        "Poemos acceder a todas las claves de un diccionario con el método `.keys()`"
      ]
    },
    {
      "cell_type": "code",
      "metadata": {
        "colab": {
          "base_uri": "https://localhost:8080/"
        },
        "id": "lOCHbyAvfd1e",
        "outputId": "000bd3de-2ff9-47a9-9682-4e6d1b0857bc"
      },
      "source": [
        "dicc.keys()"
      ],
      "execution_count": null,
      "outputs": [
        {
          "output_type": "execute_result",
          "data": {
            "text/plain": [
              "dict_keys(['names', 'ages'])"
            ]
          },
          "metadata": {
            "tags": []
          },
          "execution_count": 11
        }
      ]
    },
    {
      "cell_type": "markdown",
      "metadata": {
        "id": "C9J3o0XCfd1e"
      },
      "source": [
        "También podemos acceder a todos los valores de un diccionario con el método `.values()`"
      ]
    },
    {
      "cell_type": "code",
      "metadata": {
        "colab": {
          "base_uri": "https://localhost:8080/"
        },
        "id": "xEM3-Sxpfd1f",
        "outputId": "c5862ec9-fe46-44f3-959a-480671c04a0b"
      },
      "source": [
        "dicc.values()"
      ],
      "execution_count": null,
      "outputs": [
        {
          "output_type": "execute_result",
          "data": {
            "text/plain": [
              "dict_values([['Ana', 'Borja', 'Carmen'], [31, 25, 16]])"
            ]
          },
          "metadata": {
            "tags": []
          },
          "execution_count": 12
        }
      ]
    },
    {
      "cell_type": "markdown",
      "metadata": {
        "id": "B-8ZTLemhlBl"
      },
      "source": [
        "Al ser una estructura mutable, podemos modificar los valores de los diccionarios"
      ]
    },
    {
      "cell_type": "code",
      "metadata": {
        "colab": {
          "base_uri": "https://localhost:8080/"
        },
        "id": "7FEAxbDAV959",
        "outputId": "071f4e7a-dafc-481b-e1c8-ce82fc1b51d2"
      },
      "source": [
        "dicc = {\"names\": [\"Ana\", \"Borja\", \"Carmen\"],\n",
        "        \"ages\": [31, 25, 16]}\n",
        "dicc[\"names\"] = [\"David\", \"Emilia\", \"Fernando\"]\n",
        "dicc[\"ages\"][2] = 36\n",
        "print(dicc)"
      ],
      "execution_count": null,
      "outputs": [
        {
          "output_type": "stream",
          "text": [
            "{'names': ['David', 'Emilia', 'Fernando'], 'ages': [31, 25, 36]}\n"
          ],
          "name": "stdout"
        }
      ]
    },
    {
      "cell_type": "markdown",
      "metadata": {
        "id": "09PvnVakVjBx"
      },
      "source": [
        "## Bucles y diccionarios\n",
        "\n",
        "Para recorrer todo el diccionario, podemos hacer uso de un bucle `for`, pues el diccionario es una estructura iterable:"
      ]
    },
    {
      "cell_type": "code",
      "metadata": {
        "colab": {
          "base_uri": "https://localhost:8080/"
        },
        "id": "4vvn3rfIiVh6",
        "outputId": "63f1a759-f231-479b-f82f-959fccf5f784"
      },
      "source": [
        "dicc = {\"username\": \"msf\",\n",
        "        \"name\": \"María\",\n",
        "        \"age\": 22,\n",
        "        \"city\": \"Palma de Mallorca\"}\n",
        "\n",
        "for key in dicc:\n",
        "  print(key, \":\", dicc[key])"
      ],
      "execution_count": null,
      "outputs": [
        {
          "output_type": "stream",
          "text": [
            "username : msf\n",
            "name : María\n",
            "age : 22\n",
            "city : Palma de Mallorca\n"
          ],
          "name": "stdout"
        }
      ]
    },
    {
      "cell_type": "markdown",
      "metadata": {
        "id": "8CW3rO0PnXN4"
      },
      "source": [
        "El método `.get()` recibe como parámetro una clave y devuelve el valor de dicha clave. "
      ]
    },
    {
      "cell_type": "code",
      "metadata": {
        "colab": {
          "base_uri": "https://localhost:8080/"
        },
        "id": "Vc5p26arnXml",
        "outputId": "ef4c4772-8ba7-45fa-a1d1-4fe6337427a2"
      },
      "source": [
        "dicc = {\"a\": 1, \"e\": 2, \"i\": 3, \"o\": 4, \"u\": 5}\n",
        "print(dicc.get(\"a\"))"
      ],
      "execution_count": null,
      "outputs": [
        {
          "output_type": "stream",
          "text": [
            "1\n"
          ],
          "name": "stdout"
        }
      ]
    },
    {
      "cell_type": "markdown",
      "metadata": {
        "id": "4-puFfzDg9S8"
      },
      "source": [
        "## Bucles y diccionarios\n",
        "\n",
        "Para recorrer todo el diccionario, podemos hacer uso de un bucle `for`, pues el diccionario es una estructura iterable:"
      ]
    },
    {
      "cell_type": "code",
      "metadata": {
        "colab": {
          "base_uri": "https://localhost:8080/"
        },
        "id": "FSy30FY2g9S8",
        "outputId": "c9300479-80d5-4e96-eec7-5040b6af74db"
      },
      "source": [
        "dicc = {\"username\": \"msf\",\n",
        "        \"name\": \"María\",\n",
        "        \"age\": 22,\n",
        "        \"city\": \"Palma de Mallorca\"}\n",
        "\n",
        "for key in dicc:\n",
        "  print(key, \":\", dicc[key])"
      ],
      "execution_count": null,
      "outputs": [
        {
          "output_type": "stream",
          "text": [
            "username : msf\n",
            "name : María\n",
            "age : 22\n",
            "city : Palma de Mallorca\n"
          ],
          "name": "stdout"
        }
      ]
    },
    {
      "cell_type": "markdown",
      "metadata": {
        "id": "oijOQjyig9S9"
      },
      "source": [
        "El método `.get()` recibe como parámetro una clave y devuelve el valor de dicha clave. "
      ]
    },
    {
      "cell_type": "code",
      "metadata": {
        "colab": {
          "base_uri": "https://localhost:8080/"
        },
        "id": "wOhm5vNmg9S-",
        "outputId": "ef4c4772-8ba7-45fa-a1d1-4fe6337427a2"
      },
      "source": [
        "dicc = {\"a\": 1, \"e\": 2, \"i\": 3, \"o\": 4, \"u\": 5}\n",
        "print(dicc.get(\"a\"))"
      ],
      "execution_count": null,
      "outputs": [
        {
          "output_type": "stream",
          "text": [
            "1\n"
          ],
          "name": "stdout"
        }
      ]
    },
    {
      "cell_type": "markdown",
      "metadata": {
        "id": "C3dWk8F7pz-v"
      },
      "source": [
        "## Construyendo diccionarios con dict()\n",
        "\n",
        "Para convertir un objeto iterable de `Python` a diccionario, hay que usar la función `dict()`"
      ]
    },
    {
      "cell_type": "code",
      "metadata": {
        "colab": {
          "base_uri": "https://localhost:8080/"
        },
        "id": "Tpvr7-kWqP1u",
        "outputId": "b50b9b76-8357-4abc-fdfa-aac5d333f7a5"
      },
      "source": [
        "l = [[\"x\", 1], [\"y\", 2]]\n",
        "dict(l)"
      ],
      "execution_count": null,
      "outputs": [
        {
          "output_type": "execute_result",
          "data": {
            "text/plain": [
              "{'x': 1, 'y': 2}"
            ]
          },
          "metadata": {
            "tags": []
          },
          "execution_count": 14
        }
      ]
    },
    {
      "cell_type": "markdown",
      "metadata": {
        "id": "jR4dHHzQqP-P"
      },
      "source": [
        "Aunque la función `dict()` también sirve para definir diccionarios directamente:"
      ]
    },
    {
      "cell_type": "code",
      "metadata": {
        "colab": {
          "base_uri": "https://localhost:8080/"
        },
        "id": "UyxEclhdrb4D",
        "outputId": "69fe4ca6-0bdb-4d37-952b-82a768acb619"
      },
      "source": [
        "dicc1 = dict(x = 0, y = 1, z = -1)\n",
        "print(dicc1)"
      ],
      "execution_count": null,
      "outputs": [
        {
          "output_type": "stream",
          "text": [
            "{'x': 0, 'y': 1, 'z': -1}\n"
          ],
          "name": "stdout"
        }
      ]
    },
    {
      "cell_type": "markdown",
      "metadata": {
        "id": "nkxrQsiAtRZU"
      },
      "source": [
        "# Estructuras de datos: Conjuntos\n",
        "\n"
      ]
    },
    {
      "cell_type": "markdown",
      "metadata": {
        "id": "md0PRYAzEqTC"
      },
      "source": [
        "## Conjunto\n",
        "\n",
        "Ahora, es el turno de los **conjuntos**. Éstos son una estructura sin orden que no admiten múltiples ocurrencias de un mismo elemento. Pueden ser definidos a partir de una lista con la función `set()`, o bien, los elementos del conjunto pueden ir entre llaves, `{}`, y estar separados por comas.\n",
        "\n",
        "Los conjuntos son:\n",
        "- hetereogéneos: los elementos pueden ser de distinto tipo en un mismo conjunto\n",
        "- no mutables: los elementos no pueden ser modifcados una vez el conjunto ha sido creado\n",
        "\n",
        "Los conjuntos pueden construirse con la función `set()` o directamente entre llaves, `{}`."
      ]
    },
    {
      "cell_type": "code",
      "metadata": {
        "colab": {
          "base_uri": "https://localhost:8080/"
        },
        "id": "n659E-WvtPu2",
        "outputId": "fd8528cc-2b72-4353-dc23-2778218e3c48"
      },
      "source": [
        "set1 = set([1, 7, 4, 2, 0])\n",
        "print(set1)\n",
        "type(set1)"
      ],
      "execution_count": null,
      "outputs": [
        {
          "output_type": "stream",
          "text": [
            "{0, 1, 2, 4, 7}\n"
          ],
          "name": "stdout"
        },
        {
          "output_type": "execute_result",
          "data": {
            "text/plain": [
              "set"
            ]
          },
          "metadata": {
            "tags": []
          },
          "execution_count": 1
        }
      ]
    },
    {
      "cell_type": "code",
      "metadata": {
        "colab": {
          "base_uri": "https://localhost:8080/"
        },
        "id": "D1TeNyqkKiYs",
        "outputId": "c0688046-d00b-4a69-82b9-4e527c5d26ec"
      },
      "source": [
        "set2 = set((1, 7, 4, 2, 0))\n",
        "print(set2)\n",
        "type(set2)"
      ],
      "execution_count": null,
      "outputs": [
        {
          "output_type": "stream",
          "text": [
            "{0, 1, 2, 4, 7}\n"
          ],
          "name": "stdout"
        },
        {
          "output_type": "execute_result",
          "data": {
            "text/plain": [
              "set"
            ]
          },
          "metadata": {
            "tags": []
          },
          "execution_count": 2
        }
      ]
    },
    {
      "cell_type": "markdown",
      "metadata": {
        "id": "RzwF7Fx7DPRu"
      },
      "source": [
        "Como se ha dicho antes, los conjuntos no admiten elementos repetidos:"
      ]
    },
    {
      "cell_type": "code",
      "metadata": {
        "colab": {
          "base_uri": "https://localhost:8080/"
        },
        "id": "yoCU1ou6DSLk",
        "outputId": "74b616ca-cc1e-4680-f359-59ca768d223d"
      },
      "source": [
        "set1 = {1, 2, 2, 3, 3, 3, 4, 4, 4, 4}\n",
        "set1"
      ],
      "execution_count": null,
      "outputs": [
        {
          "output_type": "execute_result",
          "data": {
            "text/plain": [
              "{1, 2, 3, 4}"
            ]
          },
          "metadata": {
            "tags": []
          },
          "execution_count": 4
        }
      ]
    },
    {
      "cell_type": "markdown",
      "metadata": {
        "id": "MrkPkKChDblw"
      },
      "source": [
        "**Observación.** Al decir que los conjuntos no tienen orden, lo que ocurre es que `Python` no mantendrá el que hemos introducido, tal y como hacía con las listas, sino que reordenará todos los elementos por orden primero numérico (yendo antes los negativos que los positivos) y luego alfabético de las claves. Con la función `print()`, si hay elementos negativos, el conjunto no se ordena correctamente."
      ]
    },
    {
      "cell_type": "code",
      "metadata": {
        "colab": {
          "base_uri": "https://localhost:8080/"
        },
        "id": "L-wP6EyfDWWd",
        "outputId": "da52fa86-0ce8-474c-ce10-9b48631fde50"
      },
      "source": [
        "set1 = {1, \"a\", \"i\", \"o\", 2, \"e\", 4, 3, 5, \"u\"}\n",
        "set1"
      ],
      "execution_count": null,
      "outputs": [
        {
          "output_type": "execute_result",
          "data": {
            "text/plain": [
              "{1, 2, 3, 4, 5, 'a', 'e', 'i', 'o', 'u'}"
            ]
          },
          "metadata": {
            "tags": []
          },
          "execution_count": 6
        }
      ]
    },
    {
      "cell_type": "code",
      "metadata": {
        "colab": {
          "base_uri": "https://localhost:8080/"
        },
        "id": "Z04lrN-1SfKK",
        "outputId": "3f3842ed-e0be-402a-8615-8786ea37faa3"
      },
      "source": [
        "print(set1)"
      ],
      "execution_count": null,
      "outputs": [
        {
          "output_type": "stream",
          "text": [
            "{1, 2, 'e', 4, 'a', 3, 5, 'o', 'u', 'i'}\n"
          ],
          "name": "stdout"
        }
      ]
    },
    {
      "cell_type": "markdown",
      "metadata": {
        "id": "W66XHIiKEtSw"
      },
      "source": [
        "### Subconjuntos\n",
        "\n",
        "**Subconjunto.** Un subconjunto $B$ de un conjunto $A$ es un conjunto que contiene algunos de los elementos de $A$ (o quizá todos). Se denota por $B\\subseteq A$\n",
        "\n",
        "**Subconjunto propio.** Un subconjunto propio $B$ de un conjunto $A$ es un conjunto que tiene algunos de los elementos de $A$, pero no todos. Se denota por $B\\subset A$\n",
        "\n",
        "Para saber si un conjunto $B$ es subconjunto del conjunto $A$, podemos utilizar el método `.issubset()` o el comparador `<=`. Para saber si se trata de un subconjunto propio, tenemos el comparador `<`."
      ]
    },
    {
      "cell_type": "code",
      "metadata": {
        "colab": {
          "base_uri": "https://localhost:8080/"
        },
        "id": "hYt-4Gd9HYtY",
        "outputId": "0e76836e-1a94-4c7b-8bbf-19282418a24c"
      },
      "source": [
        "A, B = {0, 3, 7, 2, 5}, {2, 3, 0}\n",
        "B.issubset(A)"
      ],
      "execution_count": null,
      "outputs": [
        {
          "output_type": "execute_result",
          "data": {
            "text/plain": [
              "True"
            ]
          },
          "metadata": {
            "tags": []
          },
          "execution_count": 12
        }
      ]
    },
    {
      "cell_type": "code",
      "metadata": {
        "colab": {
          "base_uri": "https://localhost:8080/"
        },
        "id": "RSSpvZKSHa3i",
        "outputId": "df63dde1-72aa-4125-939b-1f647f8ac9dd"
      },
      "source": [
        "B <= A"
      ],
      "execution_count": null,
      "outputs": [
        {
          "output_type": "execute_result",
          "data": {
            "text/plain": [
              "True"
            ]
          },
          "metadata": {
            "tags": []
          },
          "execution_count": 13
        }
      ]
    },
    {
      "cell_type": "code",
      "metadata": {
        "colab": {
          "base_uri": "https://localhost:8080/"
        },
        "id": "vb54HrpVHeHP",
        "outputId": "4276c681-0e38-4610-ec4c-7805d579cdb6"
      },
      "source": [
        "B < A"
      ],
      "execution_count": null,
      "outputs": [
        {
          "output_type": "execute_result",
          "data": {
            "text/plain": [
              "True"
            ]
          },
          "metadata": {
            "tags": []
          },
          "execution_count": 14
        }
      ]
    },
    {
      "cell_type": "markdown",
      "metadata": {
        "id": "cWDNHdldE1mn"
      },
      "source": [
        "## Tupla\n",
        "\n",
        "La última estructura que veremos son las tuplas. Éstas son un conjunto de elementos, que pueden ser de distintos tipos, separados por comas y escritos entre paréntesis, `()`.\n",
        "\n",
        "Las tuplas son:\n",
        "- hetereogéneas: los elementos pueden ser de distinto tipo en una misma tupla\n",
        "- no mutables: los elementos no pueden ser modifcados una vez la tupla ha sido creado\n",
        "\n",
        "Un ejemplo de tupla sería"
      ]
    },
    {
      "cell_type": "code",
      "metadata": {
        "colab": {
          "base_uri": "https://localhost:8080/"
        },
        "id": "ZBKXsn2jm4lc",
        "outputId": "82cb9983-0248-4c77-c89b-f43acb8ce622"
      },
      "source": [
        "t = (\"Juan\", 32, \"profesor\", True)\n",
        "print(t)"
      ],
      "execution_count": null,
      "outputs": [
        {
          "output_type": "stream",
          "text": [
            "('Juan', 32, 'profesor', True)\n"
          ],
          "name": "stdout"
        }
      ]
    },
    {
      "cell_type": "markdown",
      "metadata": {
        "id": "azkG1SyH1qFd"
      },
      "source": [
        "Podemos declarar una tupla sin necesidad indicar sus elementos entre paréntesis"
      ]
    },
    {
      "cell_type": "code",
      "metadata": {
        "colab": {
          "base_uri": "https://localhost:8080/"
        },
        "id": "EgV8V1qPoKHH",
        "outputId": "2c1f7ee5-7bcd-4177-aa73-4eb3a0384a60"
      },
      "source": [
        "t = \"Juan\", 32, \"profesor\", True\n",
        "type(t)"
      ],
      "execution_count": null,
      "outputs": [
        {
          "output_type": "execute_result",
          "data": {
            "text/plain": [
              "tuple"
            ]
          },
          "metadata": {
            "tags": []
          },
          "execution_count": 2
        }
      ]
    },
    {
      "cell_type": "markdown",
      "metadata": {
        "id": "qUOdgOhTv1si"
      },
      "source": [
        "# Funciones\n",
        "\n"
      ]
    },
    {
      "cell_type": "markdown",
      "metadata": {
        "id": "r55MQssxE_7o"
      },
      "source": [
        "## Función\n",
        "\n",
        "**Función.** Una función en `Python` es una pieza de código reutilizable que solo se ejecuta cuando es llamada.\n",
        "\n",
        "Se define usando la palabra reservada `def` y estructura general es la siguiente:"
      ]
    },
    {
      "cell_type": "code",
      "metadata": {
        "id": "8dlBOgqCwDC-"
      },
      "source": [
        "def nombre_funcion(input1, input2, ..., inputn):\n",
        "  cuerpo de la función\n",
        "  return output"
      ],
      "execution_count": null,
      "outputs": []
    },
    {
      "cell_type": "markdown",
      "metadata": {
        "id": "JakkE-fEwODq"
      },
      "source": [
        "**Observación.** La instrucción `return` finaliza la ejecución de la función y devuelve el resultado que se indica a continuación. Si no se indicase nada, la función finalizaría, pero no retornaría nada.\n",
        "\n",
        "Como hemos visto, en general, las funciones constan de 3 partes:\n",
        "\n",
        "- **Inputs (parámetros o argumentos).** Son los valores que le pasamos como entrada a la función.\n",
        "- **Cuerpo.** Son todas las operaciones que lleva a cabo la función.\n",
        "- **Output.** Es el resultado que devuelve la función.\n",
        "\n",
        "**Observación.** Los parámetros son variables internas de la función. Si probásemos a ejecutar una de dichas variables en el entorno global, nos saltaría un error. Este tema lo trataremos más en detalle más adelante.\n",
        "\n",
        "Con lo visto anteriormente, a la hora de construir una función hau que hacerse las siguientes preguntas:\n",
        "\n",
        "- ¿Qué datos necesita conocer la función? (inputs)\n",
        "- ¿Qué hace la función? (cuerpo)\n",
        "- ¿Qué devuelve? (output)\n",
        "\n",
        "**Observación.** Los inputs y el output son opcionales: podemos definir una función sin necesidad de proporcionarle inputs y sin que nos devuelva nada.\n",
        "\n",
        "Una vez definida una función, para llamarla utilizamos su nombre seguido de paréntesis:"
      ]
    },
    {
      "cell_type": "code",
      "metadata": {
        "id": "x8uWQGoyunpo"
      },
      "source": [
        "def my_first_function():\n",
        "    print(\"Tu primera función te saluda\")"
      ],
      "execution_count": null,
      "outputs": []
    },
    {
      "cell_type": "code",
      "metadata": {
        "colab": {
          "base_uri": "https://localhost:8080/"
        },
        "id": "NBmMdkWou0W4",
        "outputId": "5bf5546e-21f4-47d4-9de5-86c7d5b4f428"
      },
      "source": [
        "my_first_function()"
      ],
      "execution_count": null,
      "outputs": [
        {
          "output_type": "stream",
          "text": [
            "Tu primera función te saluda\n"
          ],
          "name": "stdout"
        }
      ]
    },
    {
      "cell_type": "markdown",
      "metadata": {
        "id": "NZXpjzpn7Qwv"
      },
      "source": [
        "---\n",
        "\n",
        "#### Ejemplo 3\n",
        "\n",
        "Veamos ahora un ejemplo de función que no nos devuelva nada, pero que sí toma algún parámetro"
      ]
    },
    {
      "cell_type": "code",
      "metadata": {
        "id": "fdiBL0Ug7J3n"
      },
      "source": [
        "def good_morning(name):\n",
        "  print(\"¡Buenos días, {}!\".format(name))"
      ],
      "execution_count": null,
      "outputs": []
    },
    {
      "cell_type": "code",
      "metadata": {
        "colab": {
          "base_uri": "https://localhost:8080/"
        },
        "id": "O0_9BaI_8zyN",
        "outputId": "5613e8f3-b069-4442-b67a-a2c3fc79fdf5"
      },
      "source": [
        "good_morning(\"Christopher\")\n",
        "good_morning(name = \"Don José\")"
      ],
      "execution_count": null,
      "outputs": [
        {
          "output_type": "stream",
          "text": [
            "¡Buenos días, Christopher!\n",
            "¡Buenos días, Don José!\n"
          ],
          "name": "stdout"
        }
      ]
    },
    {
      "cell_type": "code",
      "metadata": {
        "colab": {
          "base_uri": "https://localhost:8080/"
        },
        "id": "Oot-dCJQn9Xq",
        "outputId": "5bba4b87-6240-4920-8d35-c7e831a56492"
      },
      "source": [
        "good_morning(\"María\")"
      ],
      "execution_count": null,
      "outputs": [
        {
          "output_type": "stream",
          "text": [
            "¡Buenos días, María!\n"
          ],
          "name": "stdout"
        }
      ]
    },
    {
      "cell_type": "markdown",
      "metadata": {
        "id": "t9QrO9P3uYVG"
      },
      "source": [
        "---\n",
        "\n",
        "#### Ejemplo 4\n",
        "\n",
        "Por último, vamos a crear una función que nos calcule la división entera de dos números y nos retorne el cociente y el resto."
      ]
    },
    {
      "cell_type": "code",
      "metadata": {
        "id": "q4RI-bwXxZw8"
      },
      "source": [
        "def euclidean_division(x, y):\n",
        "  q = x // y\n",
        "  r = x % y\n",
        "  return q, r"
      ],
      "execution_count": null,
      "outputs": []
    },
    {
      "cell_type": "markdown",
      "metadata": {
        "id": "v4HSy360xmT_"
      },
      "source": [
        "Esta función, a la que hemos llamado `euclidean_division`, calcula el cociente y el resto de dos números cualesquiera y devuelve como resultado esos dos números calculados.\n",
        "\n",
        "Utilicemos ahora nuestra función para calcular el cociente y el resto de la división $41 \\div 7$"
      ]
    },
    {
      "cell_type": "code",
      "metadata": {
        "colab": {
          "base_uri": "https://localhost:8080/"
        },
        "id": "ibju6rm2x4XQ",
        "outputId": "d88c1053-8fa7-4d36-d825-16dc609d594e"
      },
      "source": [
        "euclidean_division(x = 41, y = 7)"
      ],
      "execution_count": null,
      "outputs": [
        {
          "output_type": "execute_result",
          "data": {
            "text/plain": [
              "(5, 6)"
            ]
          },
          "metadata": {
            "tags": []
          },
          "execution_count": 32
        }
      ]
    },
    {
      "cell_type": "code",
      "metadata": {
        "colab": {
          "base_uri": "https://localhost:8080/"
        },
        "id": "NyofiVRWp_vo",
        "outputId": "2fff0f55-9a2e-4daa-be90-3eb3e9972f6d"
      },
      "source": [
        "euclidean_division(41, 7)"
      ],
      "execution_count": null,
      "outputs": [
        {
          "output_type": "execute_result",
          "data": {
            "text/plain": [
              "(5, 6)"
            ]
          },
          "metadata": {
            "tags": []
          },
          "execution_count": 34
        }
      ]
    },
    {
      "cell_type": "markdown",
      "metadata": {
        "id": "871_CMggyClo"
      },
      "source": [
        "Al llamar a la función e indicarle por parámetros `x = 41` e `y = 7`, hemos obtenido como resultado la tupla `(5, 6)`. El significado de dicho resulatdo es que el cociente entero de $41\\div 7$ es 5, mientras que el resto es $6$. Efectivamente\n",
        "\n",
        "$$41 = 7\\cdot 5 + 6$$\n",
        "\n",
        "También podríamos guardar en variables diferentes los resultados que nos devuelve nuestra función, para poder trabajar con ellos en el entorno global"
      ]
    },
    {
      "cell_type": "code",
      "metadata": {
        "colab": {
          "base_uri": "https://localhost:8080/"
        },
        "id": "Rd8L122dx60o",
        "outputId": "f06e8d04-45da-43e8-880d-999a9c92647c"
      },
      "source": [
        "quotient, remainder = euclidean_division(x = 41, y = 7)\n",
        "print(quotient)\n",
        "print(remainder)\n",
        "print(41 == 7 * quotient + remainder)"
      ],
      "execution_count": null,
      "outputs": [
        {
          "output_type": "stream",
          "text": [
            "5\n",
            "6\n",
            "True\n"
          ],
          "name": "stdout"
        }
      ]
    },
    {
      "cell_type": "markdown",
      "metadata": {
        "id": "IFTMxwvJcNSE"
      },
      "source": [
        "## Parámetros\n",
        "\n",
        "Por defecto, una función debe ser llamada con el número correcto de argumentos. Esto es, si la función espera 2 argumentos, tenemos que llamar a la función con esos 2 argumentos. Ni más, ni menos.\n",
        "\n"
      ]
    },
    {
      "cell_type": "code",
      "metadata": {
        "id": "BAqrsky_yugk"
      },
      "source": [
        "def complete_name(name, surname):\n",
        "  print(\"El nombre completo es\", name, surname)"
      ],
      "execution_count": null,
      "outputs": []
    },
    {
      "cell_type": "markdown",
      "metadata": {
        "id": "zcKikKOdzIBZ"
      },
      "source": [
        "Si intentamos llamar a la función `complete_name()` pasando 1 solo parámetro o 3 parámetros, entonces la función devuelve error."
      ]
    },
    {
      "cell_type": "code",
      "metadata": {
        "id": "SMtZKeWjzOZb",
        "colab": {
          "base_uri": "https://localhost:8080/",
          "height": 164
        },
        "outputId": "19516faf-e879-4427-a24d-8c5bbb5f9f26"
      },
      "source": [
        "complete_name(name = \"María\")"
      ],
      "execution_count": null,
      "outputs": [
        {
          "output_type": "error",
          "ename": "TypeError",
          "evalue": "ignored",
          "traceback": [
            "\u001b[0;31m---------------------------------------------------------------------------\u001b[0m",
            "\u001b[0;31mTypeError\u001b[0m                                 Traceback (most recent call last)",
            "\u001b[0;32m<ipython-input-4-34fae0960c67>\u001b[0m in \u001b[0;36m<module>\u001b[0;34m()\u001b[0m\n\u001b[0;32m----> 1\u001b[0;31m \u001b[0mcomplete_name\u001b[0m\u001b[0;34m(\u001b[0m\u001b[0mname\u001b[0m \u001b[0;34m=\u001b[0m \u001b[0;34m\"María\"\u001b[0m\u001b[0;34m)\u001b[0m\u001b[0;34m\u001b[0m\u001b[0;34m\u001b[0m\u001b[0m\n\u001b[0m",
            "\u001b[0;31mTypeError\u001b[0m: complete_name() missing 1 required positional argument: 'surname'"
          ]
        }
      ]
    },
    {
      "cell_type": "markdown",
      "metadata": {
        "id": "0RcJ96fHzVj9"
      },
      "source": [
        "### Número arbitrario de argumentos\n",
        "\n",
        "Si no sabemos el número de parámetros que van a ser introducidos, entonces añadimos un asterisco `*` previo al nombre del parámetro en la definición de la función. Los valores introducidos serán guardados en una tupla."
      ]
    },
    {
      "cell_type": "code",
      "metadata": {
        "id": "R08ZvAN1zrPl"
      },
      "source": [
        "def sum_numbers(*numbers):\n",
        "  sum = 0\n",
        "  for n in numbers:\n",
        "    sum += n\n",
        "  \n",
        "  return sum\n"
      ],
      "execution_count": null,
      "outputs": []
    },
    {
      "cell_type": "code",
      "metadata": {
        "colab": {
          "base_uri": "https://localhost:8080/"
        },
        "id": "9-cPxa9az3ii",
        "outputId": "caec878e-e7d4-4bce-cb61-b217ff86bf16"
      },
      "source": [
        "sum_numbers(1, 2, 3)"
      ],
      "execution_count": null,
      "outputs": [
        {
          "output_type": "execute_result",
          "data": {
            "text/plain": [
              "6"
            ]
          },
          "metadata": {
            "tags": []
          },
          "execution_count": 7
        }
      ]
    },
    {
      "cell_type": "markdown",
      "metadata": {
        "id": "oLUVGV0a2JJ3"
      },
      "source": [
        "En realidad, los nombres completos pueden tener dos o incluso más apellidos, pero no sabemos si el usuario tiene 1 o 2 o más. Entones, podemos añadir dos asteriscos `**` antes del nombre del parámetro para así poder introducir tantos como queramos sin que salte error"
      ]
    },
    {
      "cell_type": "code",
      "metadata": {
        "id": "1AIX5W-Z2Iea"
      },
      "source": [
        "def complete_name(name, **surname):\n",
        "    print(\"El nombre completo es {}\".format(name), end = \" \")\n",
        "    for i in surname.items():\n",
        "      print(\"{}\".format(i[1]), end = \" \")"
      ],
      "execution_count": null,
      "outputs": []
    },
    {
      "cell_type": "code",
      "metadata": {
        "colab": {
          "base_uri": "https://localhost:8080/"
        },
        "id": "Qx1K7Ogr2qu_",
        "outputId": "b51a9e11-4dab-4ea4-d664-e17d4c6e6fa1"
      },
      "source": [
        "complete_name(name = \"María\", surname1 = \"Santos\", surname2 = \"Fernández\")"
      ],
      "execution_count": null,
      "outputs": [
        {
          "output_type": "stream",
          "text": [
            "El nombre completo es María Santos Fernández "
          ],
          "name": "stdout"
        }
      ]
    },
    {
      "cell_type": "code",
      "metadata": {
        "colab": {
          "base_uri": "https://localhost:8080/"
        },
        "id": "fi9tLbR52z4m",
        "outputId": "7e24cc95-a69f-4522-ba85-2d5848851625"
      },
      "source": [
        "complete_name(name = \"María\", surname = \"Santos\")"
      ],
      "execution_count": null,
      "outputs": [
        {
          "output_type": "stream",
          "text": [
            "El nombre completo es María Santos "
          ],
          "name": "stdout"
        }
      ]
    },
    {
      "cell_type": "markdown",
      "metadata": {
        "id": "WAmAFPo2ycl-"
      },
      "source": [
        "### Parámetros por defecto\n",
        "\n",
        "Hemos visto que una función en `Python` puede tener o no parámetros.\n",
        "\n",
        "En caso de tener, podemos indicar que alguno tenga un valor por defecto.\n",
        "\n",
        "La función `diff()` calcula la diferencia entre los dos números que introducimos por parámetros. Podemos hacer que el sustraendo por defecto valga 1 del siguiente modo:"
      ]
    },
    {
      "cell_type": "code",
      "metadata": {
        "id": "UVIKXoejc2GF"
      },
      "source": [
        "def diff(x, y = 1):\n",
        "  return x - y"
      ],
      "execution_count": null,
      "outputs": []
    },
    {
      "cell_type": "code",
      "metadata": {
        "colab": {
          "base_uri": "https://localhost:8080/"
        },
        "id": "G72rMbaUVWDp",
        "outputId": "e537e17e-51e3-4db8-8b2d-49a0484a209e"
      },
      "source": [
        "diff(65, 18)"
      ],
      "execution_count": null,
      "outputs": [
        {
          "output_type": "execute_result",
          "data": {
            "text/plain": [
              "47"
            ]
          },
          "metadata": {
            "tags": []
          },
          "execution_count": 23
        }
      ]
    },
    {
      "cell_type": "markdown",
      "metadata": {
        "id": "yxif30gkdtLG"
      },
      "source": [
        "Si ahora llamamos a la función indicando únicamente el valor del parámetro `x`, ocurre lo siguiente:"
      ]
    },
    {
      "cell_type": "code",
      "metadata": {
        "colab": {
          "base_uri": "https://localhost:8080/"
        },
        "id": "9RUmhlc0d0Dk",
        "outputId": "4902d95a-9f26-41d0-ed2b-0f33d352eb3b"
      },
      "source": [
        "diff(x = 20)"
      ],
      "execution_count": null,
      "outputs": [
        {
          "output_type": "execute_result",
          "data": {
            "text/plain": [
              "19"
            ]
          },
          "metadata": {
            "tags": []
          },
          "execution_count": 24
        }
      ]
    },
    {
      "cell_type": "markdown",
      "metadata": {
        "id": "TKl7Kes2egTS"
      },
      "source": [
        "## Docstring\n",
        "\n",
        "**Docstring.** Son comentarios explicativos que ayudan a comprender el funcionamiento de una función.\n",
        "\n",
        "- Van entre triple comilla doble\n",
        "- Pueden ser multilínea\n",
        "- Se sitúan al principio de la definición de la función\n",
        "\n",
        "Retomando el ejemplo de la división entera, podríamos utilizar docstring del siguiente modo:"
      ]
    },
    {
      "cell_type": "code",
      "metadata": {
        "id": "ajyjkuSSd2Fq"
      },
      "source": [
        "def euclidean_division(x, y):\n",
        "  \"\"\"\n",
        "  Esta función calcula el cociente y el resto de la\n",
        "  división entera de x entre y.\n",
        "\n",
        "  Args:\n",
        "    x (int): dividendo\n",
        "    y (int): divisor (que no puede ser cero)\n",
        "\n",
        "  Returns:\n",
        "    (q, r): tupla con el valor de (cociente, resto)\n",
        "  \"\"\"\n",
        "  q = x // y\n",
        "  r = x % y\n",
        "  return q, r"
      ],
      "execution_count": null,
      "outputs": []
    },
    {
      "cell_type": "markdown",
      "metadata": {
        "id": "M8c-vyXWfXL3"
      },
      "source": [
        "Con la ayuda del método `.__doc__` podemos acceder directamente a la información indicada en el docstring de una función"
      ]
    },
    {
      "cell_type": "code",
      "metadata": {
        "colab": {
          "base_uri": "https://localhost:8080/"
        },
        "id": "TDG2YLVgfeZO",
        "outputId": "8487260d-a8b5-43a4-9edb-3e7b07781e87"
      },
      "source": [
        "print(euclidean_division.__doc__)"
      ],
      "execution_count": null,
      "outputs": [
        {
          "output_type": "stream",
          "text": [
            "\n",
            "  Esta función calcula el cociente y el resto de la\n",
            "  división entera de x entre y.\n",
            "\n",
            "  Args:\n",
            "    x (int): dividendo\n",
            "    y (int): divisor (que no puede ser cero)\n",
            "\n",
            "  Returns:\n",
            "    (q, r): tupla con el valor de (cociente, resto)\n",
            "  \n"
          ],
          "name": "stdout"
        }
      ]
    },
    {
      "cell_type": "markdown",
      "metadata": {
        "id": "x4hH0f43fp4q"
      },
      "source": [
        "## Variables de una función\n",
        "\n",
        "Dentro de una función en `Python` existen dos tipos de variables:\n",
        "\n",
        "- **Variable local.** Aquella que es creada y solamente existe dentro de la función.\n",
        "- **Variable global.** Aquella que es creada en el entorno global.\n",
        "\n",
        "Dada la siguiente función:"
      ]
    },
    {
      "cell_type": "code",
      "metadata": {
        "id": "Sq0f6N0dfijw"
      },
      "source": [
        "def arithmetic_operations(x, y):\n",
        "  sum = x + y\n",
        "  diff = x - y\n",
        "  prod = x * y\n",
        "  div = x / y\n",
        "  return {\"sum\": sum,\n",
        "          \"difference\": diff,\n",
        "          \"product\": prod,\n",
        "          \"division\": div}"
      ],
      "execution_count": null,
      "outputs": []
    },
    {
      "cell_type": "markdown",
      "metadata": {
        "id": "7OilEVxgglpi"
      },
      "source": [
        "Si nosotros queremos imprimir por ejemplo el valor que toma la variable `prod` en el entorno global nos saltará un error, pues esta variable no existe a nivel global porque no ha sido declarada en dicho entorno ya que solamente ha sido declarada a nivel local, dentro de la función `arithmetic_operations()`."
      ]
    },
    {
      "cell_type": "code",
      "metadata": {
        "colab": {
          "base_uri": "https://localhost:8080/"
        },
        "id": "rqM-OG8jglAk",
        "outputId": "fd36e8d2-6122-49df-cfd0-c838b4648cc5"
      },
      "source": [
        "print(arithmetic_operations(x = 5, y = 3))"
      ],
      "execution_count": null,
      "outputs": [
        {
          "output_type": "stream",
          "text": [
            "{'sum': 8, 'difference': 2, 'product': 15, 'division': 1.6666666666666667}\n"
          ],
          "name": "stdout"
        }
      ]
    },
    {
      "cell_type": "code",
      "metadata": {
        "id": "eFhWzCT3gevd",
        "colab": {
          "base_uri": "https://localhost:8080/",
          "height": 164
        },
        "outputId": "c2cb0f35-26a5-40d4-dfa3-1fcd1818db6c"
      },
      "source": [
        "print(prod)"
      ],
      "execution_count": null,
      "outputs": [
        {
          "output_type": "error",
          "ename": "NameError",
          "evalue": "ignored",
          "traceback": [
            "\u001b[0;31m---------------------------------------------------------------------------\u001b[0m",
            "\u001b[0;31mNameError\u001b[0m                                 Traceback (most recent call last)",
            "\u001b[0;32m<ipython-input-34-9e0a762e5f10>\u001b[0m in \u001b[0;36m<module>\u001b[0;34m()\u001b[0m\n\u001b[0;32m----> 1\u001b[0;31m \u001b[0mprint\u001b[0m\u001b[0;34m(\u001b[0m\u001b[0mprod\u001b[0m\u001b[0;34m)\u001b[0m\u001b[0;34m\u001b[0m\u001b[0;34m\u001b[0m\u001b[0m\n\u001b[0m",
            "\u001b[0;31mNameError\u001b[0m: name 'prod' is not defined"
          ]
        }
      ]
    },
    {
      "cell_type": "markdown",
      "metadata": {
        "id": "X7h_mZNeiLJ4"
      },
      "source": [
        "Si dentro de una función utilizamos la palabra reservada `global` a una variable local, ésta automáticamente pasa a ser una variable global previamente definida.\n",
        "\n",
        "Veamos un ejemplo de función que nos devuelve el siguiente número del entero `n` definido en el entorno global:"
      ]
    },
    {
      "cell_type": "code",
      "metadata": {
        "colab": {
          "base_uri": "https://localhost:8080/"
        },
        "id": "hK1kS1AuiHp8",
        "outputId": "f3800f65-0a90-4916-cec9-8789d31cf12e"
      },
      "source": [
        "n = 7\n",
        "\n",
        "def next_n():\n",
        "  global n\n",
        "  return n + 1\n",
        "\n",
        "next_n()"
      ],
      "execution_count": null,
      "outputs": [
        {
          "output_type": "execute_result",
          "data": {
            "text/plain": [
              "8"
            ]
          },
          "metadata": {
            "tags": []
          },
          "execution_count": 36
        }
      ]
    },
    {
      "cell_type": "markdown",
      "metadata": {
        "id": "AKYIJ-Uj5iOg"
      },
      "source": [
        "### Paso por copia vs. paso por referencia\n",
        "\n",
        "Dependiendo del tipo de dato que pasemos por parámetro a la función, podemos diferenciar entre\n",
        "\n",
        "- **Paso por copia.** Se crea una copia local de la variable dentro de la función.\n",
        "- **Paso por referencia.** Se maneja directamnete la variable y los cambios realizados dentro de la función afectan también a nivel global.\n",
        "\n",
        "En general, los tipos de datos básicos como enteros, en coma flotante, strings o booleanos se pasan por copia, mientras que estructuras de datos como listas, diccionarios, conjuntos o tuplas u otros objetos se pasan por referencia.\n",
        "\n",
        "Un ejemplo de paso por copia sería"
      ]
    },
    {
      "cell_type": "code",
      "metadata": {
        "id": "mL27Pg_p5xNZ"
      },
      "source": [
        "def double_value(n):\n",
        "    n = n*2\n",
        "    return n"
      ],
      "execution_count": null,
      "outputs": []
    },
    {
      "cell_type": "code",
      "metadata": {
        "colab": {
          "base_uri": "https://localhost:8080/"
        },
        "id": "pmw6xMZA52Xa",
        "outputId": "8c6c2e7b-6cbd-47c3-8acc-6f525f70bc81"
      },
      "source": [
        "num = 5\n",
        "print(double_value(num))\n",
        "print(num)"
      ],
      "execution_count": null,
      "outputs": [
        {
          "output_type": "stream",
          "text": [
            "10\n",
            "5\n"
          ],
          "name": "stdout"
        }
      ]
    },
    {
      "cell_type": "markdown",
      "metadata": {
        "id": "CO1OLE_U5_p7"
      },
      "source": [
        "Un ejemplo de paso por referencia sería"
      ]
    },
    {
      "cell_type": "code",
      "metadata": {
        "id": "V8eGf2qD6B44"
      },
      "source": [
        "def double_values(ns):\n",
        "  for i, n in enumerate(ns):\n",
        "    ns[i] *= 2\n",
        "\n",
        "  return ns"
      ],
      "execution_count": null,
      "outputs": []
    },
    {
      "cell_type": "code",
      "metadata": {
        "colab": {
          "base_uri": "https://localhost:8080/"
        },
        "id": "WFuevE1T6beZ",
        "outputId": "c82e319c-2e0e-4f55-f32f-3d1215687c51"
      },
      "source": [
        "nums = [1, 2, 3, 4, 5]\n",
        "print(double_values(nums))\n",
        "print(nums)"
      ],
      "execution_count": null,
      "outputs": [
        {
          "output_type": "stream",
          "text": [
            "[2, 4, 6, 8, 10]\n",
            "[2, 4, 6, 8, 10]\n"
          ],
          "name": "stdout"
        }
      ]
    },
    {
      "cell_type": "markdown",
      "metadata": {
        "id": "dgiLR9QQjwlu"
      },
      "source": [
        "---\n",
        "\n",
        "#### Ejemplo 6\n",
        "\n",
        "Veamos ahora una función que contiene un bucle `for` y que dado un número entero, nos imprime su tabla de multiplicar con sus 10 primeros múltiplos y nos devuelve una lista con todos esos múltiplos:"
      ]
    },
    {
      "cell_type": "code",
      "metadata": {
        "id": "HBhmElsujqRQ"
      },
      "source": [
        "def multiplication_table10(num):\n",
        "  \"\"\"\n",
        "  Dado un número entero, imprimimos su tabla de multiplicar con\n",
        "  los 10 primeros múltiplos y devolvemos una lista de los múltiplos. \n",
        "\n",
        "  Args:\n",
        "    num (int): valor del cual vamos a calcular sus tabla de multiplicar\n",
        "\n",
        "  Returns: \n",
        "    multiples (list): lista con los 10 primeros múltiplos de num\n",
        "  \"\"\"\n",
        "  multiples = []\n",
        "  print(\"La tabla de multiplicar del {}:\".format(num))\n",
        "  \n",
        "  for i in range(1, 11):\n",
        "    multiple = num * i\n",
        "    print(\"{} x {} = {}\".format(num, i, multiple))\n",
        "    multiples.append(multiple)\n",
        "  \n",
        "  return multiples"
      ],
      "execution_count": null,
      "outputs": []
    },
    {
      "cell_type": "code",
      "metadata": {
        "colab": {
          "base_uri": "https://localhost:8080/"
        },
        "id": "efIribXxVJzL",
        "outputId": "daac4c57-6b36-49e9-9346-039cab437647"
      },
      "source": [
        "multiples7 = multiplication_table10(num = 7)\n",
        "print(multiples7)"
      ],
      "execution_count": null,
      "outputs": [
        {
          "output_type": "stream",
          "text": [
            "La tabla de multiplicar del 7:\n",
            "7 x 1 = 7\n",
            "7 x 2 = 14\n",
            "7 x 3 = 21\n",
            "7 x 4 = 28\n",
            "7 x 5 = 35\n",
            "7 x 6 = 42\n",
            "7 x 7 = 49\n",
            "7 x 8 = 56\n",
            "7 x 9 = 63\n",
            "7 x 10 = 70\n",
            "[7, 14, 21, 28, 35, 42, 49, 56, 63, 70]\n"
          ],
          "name": "stdout"
        }
      ]
    },
    {
      "cell_type": "markdown",
      "metadata": {
        "id": "P0oNlzpCFR3a"
      },
      "source": [
        "## Funciones recursivas\n",
        "\n",
        "**Función recursiva.** Es una función que se llama a sí misma.\n",
        "\n",
        "**¡Cuidado!** Hay que tener mucho cuidado con este tipo de funciones porque podemos caer en un bucle infinito. Es decir, que la función no acabara nunca de ejecutarse.\n",
        "\n",
        "Una función recursiva que entraría en bucle infinito sería la siguiente."
      ]
    },
    {
      "cell_type": "code",
      "metadata": {
        "id": "Plx_wkdjoSiq"
      },
      "source": [
        "def powers(x, n):\n",
        "  print(x ** n)\n",
        "  powers(x, n + 1)"
      ],
      "execution_count": null,
      "outputs": []
    },
    {
      "cell_type": "markdown",
      "metadata": {
        "id": "MYnhAmr6FfEN"
      },
      "source": [
        "## Funciones helper\n",
        "\n",
        "Al igual que las funciones pueden llamarse a sí mismas, también pueden llamar a otras funciones.\n",
        "\n",
        "**Función helper.** Es una función cuyo propósito es evitar la repetición de código.\n",
        "\n",
        "Si nos dan la siguiente función"
      ]
    },
    {
      "cell_type": "code",
      "metadata": {
        "id": "sfKPqma1quEa"
      },
      "source": [
        "def sign_sum(x, y):\n",
        "  if x + y > 0:\n",
        "    print(\"El resultado de sumar {} más {} es positivo\".format(x, y))\n",
        "  elif x + y == 0:\n",
        "    print(\"El resultado de sumar {} más {} es cero\".format(x, y))\n",
        "  else:\n",
        "    print(\"El resultado de sumar {} más {} es negativo\".format(x, y))"
      ],
      "execution_count": null,
      "outputs": []
    },
    {
      "cell_type": "code",
      "metadata": {
        "colab": {
          "base_uri": "https://localhost:8080/"
        },
        "id": "phZKuwq_rywC",
        "outputId": "d44ce0a3-81d5-4fd9-970a-8d6a2a9d17dd"
      },
      "source": [
        "sign_sum(5, 4)\n",
        "sign_sum(3, -3)\n",
        "sign_sum(1, -8)"
      ],
      "execution_count": null,
      "outputs": [
        {
          "output_type": "stream",
          "text": [
            "El resultado de sumar 5 más 4 es positivo\n",
            "El resultado de sumar 3 más -3 es cero\n",
            "El resultado de sumar 1 más -8 es negativo\n"
          ],
          "name": "stdout"
        }
      ]
    },
    {
      "cell_type": "markdown",
      "metadata": {
        "id": "kx3GlWT7rNcw"
      },
      "source": [
        "Vemos que el `print` se repite salvo por la última palabra.\n",
        "\n",
        "Podríamos pensar en crear la función helper siguiente:"
      ]
    },
    {
      "cell_type": "code",
      "metadata": {
        "id": "TPFYDAbarS77"
      },
      "source": [
        "def helper_print(x, y, sign):\n",
        "  print(\"El resultado de sumar {} más {} es {}.\".format(x, y, sign))"
      ],
      "execution_count": null,
      "outputs": []
    },
    {
      "cell_type": "markdown",
      "metadata": {
        "id": "7Owq3ZANrZCX"
      },
      "source": [
        "Si utilizamos la función helper, la función `sign_sum()` quedaría modificada del siguiente modo:"
      ]
    },
    {
      "cell_type": "code",
      "metadata": {
        "id": "oeE2MImqrej7"
      },
      "source": [
        "def sign_sum(x, y):\n",
        "  if x + y > 0:\n",
        "    helper_print(x, y, \"positivo\")\n",
        "  elif x + y == 0:\n",
        "    helper_print(x, y, \"cero\")\n",
        "  else:\n",
        "    helper_print(x, y, \"negativo\")"
      ],
      "execution_count": null,
      "outputs": []
    },
    {
      "cell_type": "code",
      "metadata": {
        "colab": {
          "base_uri": "https://localhost:8080/"
        },
        "id": "hpqbKSx1sEqv",
        "outputId": "349a50f0-b810-4909-9061-8d7d52b608c4"
      },
      "source": [
        "sign_sum(5, 4)\n",
        "sign_sum(3, -3)\n",
        "sign_sum(1, -8)"
      ],
      "execution_count": null,
      "outputs": [
        {
          "output_type": "stream",
          "text": [
            "El resultado de sumar 5 más 4 es positivo.\n",
            "El resultado de sumar 3 más -3 es cero.\n",
            "El resultado de sumar 1 más -8 es negativo.\n"
          ],
          "name": "stdout"
        }
      ]
    },
    {
      "cell_type": "markdown",
      "metadata": {
        "id": "yTMl_zvpvZQ5"
      },
      "source": [
        "# Funciones `lambda`\n",
        "\n"
      ]
    },
    {
      "cell_type": "markdown",
      "metadata": {
        "id": "dOVM-A5-FiFm"
      },
      "source": [
        "## Funciones `lambda`\n",
        "\n",
        "Son un tipo especial de funciones de `Python` que tienen la sintaxis siguiente"
      ]
    },
    {
      "cell_type": "code",
      "metadata": {
        "id": "uOfxSUmjvvUb"
      },
      "source": [
        "lambda parámetros: expresión"
      ],
      "execution_count": null,
      "outputs": []
    },
    {
      "cell_type": "markdown",
      "metadata": {
        "id": "UZF6R7zFvzzK"
      },
      "source": [
        "- Son útiles para ejecutar funciones en una sola línea\n",
        "- Pueden tomar cualquier número de argumentos\n",
        "- Tienen una limitación: solamente pueden contener una expresión\n",
        "\n",
        "Veamos algunos ejemplos\n",
        "\n"
      ]
    },
    {
      "cell_type": "markdown",
      "metadata": {
        "id": "lvnBReyPFltn"
      },
      "source": [
        "---\n",
        "\n",
        "#### Ejemplo 1\n",
        "\n",
        "Función que dado un número, le suma 10 puntos más:"
      ]
    },
    {
      "cell_type": "code",
      "metadata": {
        "colab": {
          "base_uri": "https://localhost:8080/"
        },
        "id": "MRnWT4-Dz8yJ",
        "outputId": "ef2f5890-849e-47ba-883d-68a8e73ee170"
      },
      "source": [
        "plus10 = lambda x: x + 10\n",
        "plus10(5)"
      ],
      "execution_count": null,
      "outputs": [
        {
          "output_type": "execute_result",
          "data": {
            "text/plain": [
              "15"
            ]
          },
          "metadata": {
            "tags": []
          },
          "execution_count": 1
        }
      ]
    },
    {
      "cell_type": "markdown",
      "metadata": {
        "id": "npUEMWbu0Dd7"
      },
      "source": [
        "---\n",
        "\n",
        "#### Ejemplo 2\n",
        "\n",
        "Función que calcula el producto de dos números:"
      ]
    },
    {
      "cell_type": "code",
      "metadata": {
        "id": "EM19vCokv_Lp"
      },
      "source": [
        "prod = lambda x, y: x * y"
      ],
      "execution_count": null,
      "outputs": []
    },
    {
      "cell_type": "code",
      "metadata": {
        "colab": {
          "base_uri": "https://localhost:8080/"
        },
        "id": "enxD7WvLwCtl",
        "outputId": "23ef2e3d-d1ec-45af-f6e6-233377ed1751"
      },
      "source": [
        "prod(5, 10)"
      ],
      "execution_count": null,
      "outputs": [
        {
          "output_type": "execute_result",
          "data": {
            "text/plain": [
              "50"
            ]
          },
          "metadata": {
            "tags": []
          },
          "execution_count": 3
        }
      ]
    },
    {
      "cell_type": "markdown",
      "metadata": {
        "id": "xe1Ttp5ZwGKe"
      },
      "source": [
        "## La función `filter()`\n",
        "\n",
        "- Aplica una función a todos los elementos de un objeto iterable\n",
        "- Devuelve un objeto generador, de ahí que usemos la función `list()` para convertirlo a lista\n",
        "- Como output, devuelve los elementos para los cuales el aplicar la función ha devuelto `True`\n",
        "\n",
        "Con la ayuda de las funciones `lambda`, apliquemos `filter()` para quedarnos con los números múltiplos de 7 de la siguiente lista llamada `nums`"
      ]
    },
    {
      "cell_type": "code",
      "metadata": {
        "colab": {
          "base_uri": "https://localhost:8080/"
        },
        "id": "T5cjAfOkwizf",
        "outputId": "b3cc632f-03d7-47d7-9b45-4689e35ad5ac"
      },
      "source": [
        "nums = [49, 57, 62, 147, 2101, 22]\n",
        "list(filter(lambda x: (x % 7 == 0), nums))"
      ],
      "execution_count": null,
      "outputs": [
        {
          "output_type": "execute_result",
          "data": {
            "text/plain": [
              "[49, 147]"
            ]
          },
          "metadata": {
            "tags": []
          },
          "execution_count": 5
        }
      ]
    },
    {
      "cell_type": "markdown",
      "metadata": {
        "id": "AeH0WM_666HK"
      },
      "source": [
        "La función proporcionada a `filter()` no tiene por qué ser `lambda`, sino que puede ser una ya existente, o bien una creada por nosotros mismos.\n",
        "\n",
        "Con las siguientes líneas de código vamos a obtener todas las palabras cuya tercera letra sea `s` haciendo uso de `filter()` y la función creada `third_letter_is_s()`:"
      ]
    },
    {
      "cell_type": "code",
      "metadata": {
        "id": "AjVNskBe7vAD"
      },
      "source": [
        "def third_letter_is_s(word):\n",
        "  return word[2] == \"s\""
      ],
      "execution_count": null,
      "outputs": []
    },
    {
      "cell_type": "code",
      "metadata": {
        "colab": {
          "base_uri": "https://localhost:8080/"
        },
        "id": "k1C7-JWf76Lp",
        "outputId": "75667494-1ef6-4f3a-b569-90f253706b00"
      },
      "source": [
        "words = [\"castaña\", \"astronomía\", \"masa\", \"bolígrafo\", \"mando\", \"tostada\"]\n",
        "list(filter(third_letter_is_s, words))"
      ],
      "execution_count": null,
      "outputs": [
        {
          "output_type": "execute_result",
          "data": {
            "text/plain": [
              "['castaña', 'masa', 'tostada']"
            ]
          },
          "metadata": {
            "tags": []
          },
          "execution_count": 7
        }
      ]
    },
    {
      "cell_type": "markdown",
      "metadata": {
        "id": "c0kYiYJ0x0lH"
      },
      "source": [
        "## La función `map()`\n",
        "\n",
        "- Aplica una misma función a todos los elementos de un objeto iterable\n",
        "- Devuelve un objeto generador, de ahí que usemos la función `list()` para convertirlo a lista\n",
        "- Como output, devuelve el resultado de aplicar la función a cada elemento\n",
        "\n",
        "Con la ayuda de las funciones `lambda`, apliquemos `map()` para calcular las longitudes de las siguientes palabras"
      ]
    },
    {
      "cell_type": "code",
      "metadata": {
        "colab": {
          "base_uri": "https://localhost:8080/"
        },
        "id": "3D4MNmF9xp_V",
        "outputId": "2cc49aa4-e0b1-4b19-9ef7-172a4c7e000c"
      },
      "source": [
        "words = [\"zapato\", \"amigo\", \"yoyo\", \"barco\", \"xilófono\", \"césped\"]\n",
        "list(map(lambda w: len(w), words))"
      ],
      "execution_count": null,
      "outputs": [
        {
          "output_type": "execute_result",
          "data": {
            "text/plain": [
              "[6, 5, 4, 5, 8, 6]"
            ]
          },
          "metadata": {
            "tags": []
          },
          "execution_count": 14
        }
      ]
    },
    {
      "cell_type": "markdown",
      "metadata": {
        "id": "YTk0daHbyWJS"
      },
      "source": [
        "Sin embargo, para este caso en concreto no haría falta usar funciones `lambda`, pues podríamos hacer directamente"
      ]
    },
    {
      "cell_type": "code",
      "metadata": {
        "colab": {
          "base_uri": "https://localhost:8080/"
        },
        "id": "aldFAJFkyfCk",
        "outputId": "2e426103-83b9-4874-b90f-fd0043fe1398"
      },
      "source": [
        "list(map(len, words))"
      ],
      "execution_count": null,
      "outputs": [
        {
          "output_type": "execute_result",
          "data": {
            "text/plain": [
              "[6, 5, 4, 5, 8, 6]"
            ]
          },
          "metadata": {
            "tags": []
          },
          "execution_count": 9
        }
      ]
    },
    {
      "cell_type": "markdown",
      "metadata": {
        "id": "jRr0Ik-m0vG2"
      },
      "source": [
        "# Dataframes con el módulo `pandas`"
      ]
    },
    {
      "cell_type": "markdown",
      "metadata": {
        "id": "oRm92QuMzLgP"
      },
      "source": [
        "## Introducción\n",
        "\n",
        "**Dataframe.** Es una estructura bidimensional mutable de datos con los ejes etiquetados donde\n",
        "\n",
        "- cada fila representa una observación diferente\n",
        "- cada columna representa una variable diferente\n",
        "\n",
        "En `Python`, para definir un dataframe, en primer lugar necesitamos importar el módulo `pandas`."
      ]
    },
    {
      "cell_type": "code",
      "metadata": {
        "id": "vkv8i5UWzObk"
      },
      "source": [
        "import pandas as pd"
      ],
      "execution_count": null,
      "outputs": []
    },
    {
      "cell_type": "markdown",
      "metadata": {
        "id": "CzE9DYo1z7as"
      },
      "source": [
        "A continuación, si queremos un dataframe de 5 filas y 2 columnas, podemos hacerlo a partir de un diccionario, una lista de listas, una lista de diccionarios, etc.\n",
        "\n"
      ]
    },
    {
      "cell_type": "markdown",
      "metadata": {
        "id": "AvNvzjXMFvZj"
      },
      "source": [
        "---\n",
        "\n",
        "#### Ejemplo 1\n",
        "\n",
        "Vamos a crear un dataframe de 5 filas y 2 columnas a partir de un diccionario.\n",
        "\n",
        "Para ello, primero creamos un diccionario donde las claves serán los nombres de las columnas y los valores serán listas, con tantos elementos como número de filas queramos.\n",
        "\n",
        "Finalmente, convertimos ese diccionario a dataframe con la función `DataFrame()` de `pandas`:"
      ]
    },
    {
      "cell_type": "code",
      "metadata": {
        "colab": {
          "base_uri": "https://localhost:8080/"
        },
        "id": "m_EKIBvn0VJY",
        "outputId": "0792d451-1cf2-485f-bb8c-2593db1ec78d"
      },
      "source": [
        "data = {\"x\": [1, 2, 3, 4, 5], \"y\": [2, 4, 6, 8, 10]}\n",
        "df1 = pd.DataFrame(data = data)\n",
        "print(df1)"
      ],
      "execution_count": null,
      "outputs": [
        {
          "output_type": "stream",
          "text": [
            "   x   y\n",
            "0  1   2\n",
            "1  2   4\n",
            "2  3   6\n",
            "3  4   8\n",
            "4  5  10\n"
          ],
          "name": "stdout"
        }
      ]
    },
    {
      "cell_type": "markdown",
      "metadata": {
        "id": "6DnwlUzv_A_W"
      },
      "source": [
        "## Subdataframes\n",
        "\n",
        "**Subdataframe.** Dado un dataframe, un subdataframe no es más que la selección de unas filas y columnas en particular.\n",
        "\n",
        "\n"
      ]
    },
    {
      "cell_type": "markdown",
      "metadata": {
        "id": "IpLxwABND5ck"
      },
      "source": [
        "### Columnas\n",
        "\n",
        "Dado un dataframe, podemos seleccionar una columna en particular de diversas formas:\n",
        "\n",
        "- Indicando el nombre de la columna entre claudators, `[]`\n",
        "- Con el método `.columns[]`\n",
        "- Con el método `.loc[]` (por nombre o etiqueta)\n",
        "- Con el método `.iloc[]` (por posición)"
      ]
    },
    {
      "cell_type": "code",
      "metadata": {
        "id": "pAbva67f5l8x"
      },
      "source": [
        "fdata = {\"Name\": [\"Alicia\", \"Bill\", \"Carlos\", \"Diana\"],\n",
        "        \"Age\": [22, 28, 19, 34],\n",
        "        \"Pet\": [True, False, False, True],\n",
        "        \"Height\": [157, 190, 175, 164],\n",
        "        \"Birthday\": [\"Mayo\", \"Junio\", \"Agosto\", \"Diciembre\"]}\n",
        "df = pd.DataFrame(data = fdata, index = [\"obs1\", \"obs2\", \"obs3\", \"obs4\"])"
      ],
      "execution_count": null,
      "outputs": []
    },
    {
      "cell_type": "code",
      "metadata": {
        "colab": {
          "base_uri": "https://localhost:8080/",
          "height": 173
        },
        "id": "JcS8AClbttzJ",
        "outputId": "b8ce28bd-4d3b-4f34-b6aa-780ceae2b3ff"
      },
      "source": [
        "df"
      ],
      "execution_count": null,
      "outputs": [
        {
          "output_type": "execute_result",
          "data": {
            "text/html": [
              "<div>\n",
              "<style scoped>\n",
              "    .dataframe tbody tr th:only-of-type {\n",
              "        vertical-align: middle;\n",
              "    }\n",
              "\n",
              "    .dataframe tbody tr th {\n",
              "        vertical-align: top;\n",
              "    }\n",
              "\n",
              "    .dataframe thead th {\n",
              "        text-align: right;\n",
              "    }\n",
              "</style>\n",
              "<table border=\"1\" class=\"dataframe\">\n",
              "  <thead>\n",
              "    <tr style=\"text-align: right;\">\n",
              "      <th></th>\n",
              "      <th>Name</th>\n",
              "      <th>Age</th>\n",
              "      <th>Pet</th>\n",
              "      <th>Height</th>\n",
              "      <th>Birthday</th>\n",
              "    </tr>\n",
              "  </thead>\n",
              "  <tbody>\n",
              "    <tr>\n",
              "      <th>obs1</th>\n",
              "      <td>Alicia</td>\n",
              "      <td>22</td>\n",
              "      <td>True</td>\n",
              "      <td>157</td>\n",
              "      <td>Mayo</td>\n",
              "    </tr>\n",
              "    <tr>\n",
              "      <th>obs2</th>\n",
              "      <td>Bill</td>\n",
              "      <td>28</td>\n",
              "      <td>False</td>\n",
              "      <td>190</td>\n",
              "      <td>Junio</td>\n",
              "    </tr>\n",
              "    <tr>\n",
              "      <th>obs3</th>\n",
              "      <td>Carlos</td>\n",
              "      <td>19</td>\n",
              "      <td>False</td>\n",
              "      <td>175</td>\n",
              "      <td>Agosto</td>\n",
              "    </tr>\n",
              "    <tr>\n",
              "      <th>obs4</th>\n",
              "      <td>Diana</td>\n",
              "      <td>34</td>\n",
              "      <td>True</td>\n",
              "      <td>164</td>\n",
              "      <td>Diciembre</td>\n",
              "    </tr>\n",
              "  </tbody>\n",
              "</table>\n",
              "</div>"
            ],
            "text/plain": [
              "        Name  Age    Pet  Height   Birthday\n",
              "obs1  Alicia   22   True     157       Mayo\n",
              "obs2    Bill   28  False     190      Junio\n",
              "obs3  Carlos   19  False     175     Agosto\n",
              "obs4   Diana   34   True     164  Diciembre"
            ]
          },
          "metadata": {
            "tags": []
          },
          "execution_count": 29
        }
      ]
    },
    {
      "cell_type": "code",
      "metadata": {
        "colab": {
          "base_uri": "https://localhost:8080/"
        },
        "id": "Qr9shpSqBnwl",
        "outputId": "ffe81104-9a59-4807-d2ec-88e6e713b8c3"
      },
      "source": [
        "# Seleccionamos la columna Birthday por nombre\n",
        "print(df[\"Birthday\"])"
      ],
      "execution_count": null,
      "outputs": [
        {
          "output_type": "stream",
          "text": [
            "obs1         Mayo\n",
            "obs2        Junio\n",
            "obs3       Agosto\n",
            "obs4    Diciembre\n",
            "Name: Birthday, dtype: object\n"
          ],
          "name": "stdout"
        }
      ]
    },
    {
      "cell_type": "code",
      "metadata": {
        "colab": {
          "base_uri": "https://localhost:8080/"
        },
        "id": "V5MuhltaiUhI",
        "outputId": "e7d05db4-3eb0-4b84-f1ae-6c479b447250"
      },
      "source": [
        "# Seleccionamos la columna Birthday con el método .columns[]\n",
        "print(df[df.columns[4]])"
      ],
      "execution_count": null,
      "outputs": [
        {
          "output_type": "stream",
          "text": [
            "obs1         Mayo\n",
            "obs2        Junio\n",
            "obs3       Agosto\n",
            "obs4    Diciembre\n",
            "Name: Birthday, dtype: object\n"
          ],
          "name": "stdout"
        }
      ]
    },
    {
      "cell_type": "code",
      "metadata": {
        "colab": {
          "base_uri": "https://localhost:8080/"
        },
        "id": "kdxXwOdhin38",
        "outputId": "e6b6fce2-22dd-43dc-c77b-8f6cfdd865f2"
      },
      "source": [
        "# Seleccionamos la columna Birthday con el método .loc[]\n",
        "print(df.loc[:, \"Birthday\"])"
      ],
      "execution_count": null,
      "outputs": [
        {
          "output_type": "stream",
          "text": [
            "obs1         Mayo\n",
            "obs2        Junio\n",
            "obs3       Agosto\n",
            "obs4    Diciembre\n",
            "Name: Birthday, dtype: object\n"
          ],
          "name": "stdout"
        }
      ]
    },
    {
      "cell_type": "markdown",
      "metadata": {
        "id": "kVE4Fzt6i0tc"
      },
      "source": [
        "**Observación.** Al método `.loc[]` le hemos indicado que tome todas las filas con `:` en la primera posición y la columna `\"Birthday\"` directamente indicando su nommbre en la segunda posición. "
      ]
    },
    {
      "cell_type": "code",
      "metadata": {
        "colab": {
          "base_uri": "https://localhost:8080/"
        },
        "id": "b_eJaoFTjcLe",
        "outputId": "5337c42f-e380-443d-8dc9-730c766477f3"
      },
      "source": [
        "# Seleccionamos la columna Birthday con el método .iloc[]\n",
        "print(df.iloc[:, 4])"
      ],
      "execution_count": null,
      "outputs": [
        {
          "output_type": "stream",
          "text": [
            "0         Mayo\n",
            "1        Junio\n",
            "2       Agosto\n",
            "3    Diciembre\n",
            "Name: Birthday, dtype: object\n"
          ],
          "name": "stdout"
        }
      ]
    },
    {
      "cell_type": "markdown",
      "metadata": {
        "id": "2zwhzm14juKv"
      },
      "source": [
        "**Observación.** Al método `.iloc[]` le hemos indicado que tome todas las filas con `:` en la primera posición y la columna `\"Birthday\"` indicando el índice que ocupa como columna."
      ]
    },
    {
      "cell_type": "markdown",
      "metadata": {
        "id": "W3lMDNFZCjJp"
      },
      "source": [
        "Si quisiésemos seleccionar más de una columna, podríamos hacerlo con todas las opciones enumeradas anteriormente, con ligeras modificaciones en algunos casos:"
      ]
    },
    {
      "cell_type": "code",
      "metadata": {
        "colab": {
          "base_uri": "https://localhost:8080/"
        },
        "id": "-9TEHYAb__2L",
        "outputId": "99c9d6d6-f525-4281-b615-1a68ecaaa7b7"
      },
      "source": [
        "# Seleccionamos las columnas Name y Age por nombre\n",
        "print(df[[\"Name\", \"Age\"]])"
      ],
      "execution_count": null,
      "outputs": [
        {
          "output_type": "stream",
          "text": [
            "        Name  Age\n",
            "obs1  Alicia   22\n",
            "obs2    Bill   28\n",
            "obs3  Carlos   19\n",
            "obs4   Diana   34\n"
          ],
          "name": "stdout"
        }
      ]
    },
    {
      "cell_type": "code",
      "metadata": {
        "colab": {
          "base_uri": "https://localhost:8080/"
        },
        "id": "ySYYe4Q1kq_c",
        "outputId": "726b24ab-cf13-4481-81f0-2434a68639a4"
      },
      "source": [
        "# Seleccionamos las columnas Name y Age con el método .columns[]\n",
        "print(df[df.columns[[0, 1]]])"
      ],
      "execution_count": null,
      "outputs": [
        {
          "output_type": "stream",
          "text": [
            "        Name  Age\n",
            "obs1  Alicia   22\n",
            "obs2    Bill   28\n",
            "obs3  Carlos   19\n",
            "obs4   Diana   34\n"
          ],
          "name": "stdout"
        }
      ]
    },
    {
      "cell_type": "markdown",
      "metadata": {
        "id": "Cgh2YNKx8S86"
      },
      "source": [
        "**Observación.** Además, como estas dos columnas están seguidas en nuestro dataframe, podríamos también usar la sintaxis siguiente no solo en esta opción, sino también en el resto de opciones que hemos visto."
      ]
    },
    {
      "cell_type": "code",
      "metadata": {
        "colab": {
          "base_uri": "https://localhost:8080/"
        },
        "id": "WyTEhpVD87UC",
        "outputId": "43644168-88b8-48bf-b402-e0155e20e6a6"
      },
      "source": [
        "print(df[df.columns[0:2]])"
      ],
      "execution_count": null,
      "outputs": [
        {
          "output_type": "stream",
          "text": [
            "        Name  Age\n",
            "obs1  Alicia   22\n",
            "obs2    Bill   28\n",
            "obs3  Carlos   19\n",
            "obs4   Diana   34\n"
          ],
          "name": "stdout"
        }
      ]
    },
    {
      "cell_type": "code",
      "metadata": {
        "colab": {
          "base_uri": "https://localhost:8080/"
        },
        "id": "HNgNTg3xk3Dm",
        "outputId": "183d23c6-bcdd-4d8a-e37f-8ce1ffe557c4"
      },
      "source": [
        "# Seleccionamos las columnas Name y Age con el método .loc[]\n",
        "print(df.loc[:, [\"Name\", \"Age\"]])"
      ],
      "execution_count": null,
      "outputs": [
        {
          "output_type": "stream",
          "text": [
            "        Name  Age\n",
            "obs1  Alicia   22\n",
            "obs2    Bill   28\n",
            "obs3  Carlos   19\n",
            "obs4   Diana   34\n"
          ],
          "name": "stdout"
        }
      ]
    },
    {
      "cell_type": "code",
      "metadata": {
        "colab": {
          "base_uri": "https://localhost:8080/"
        },
        "id": "avF57fxC9Eow",
        "outputId": "69b5a4b1-3d30-4924-a001-34d3327752c6"
      },
      "source": [
        "print(df.loc[:, \"Name\":\"Age\"])"
      ],
      "execution_count": null,
      "outputs": [
        {
          "output_type": "stream",
          "text": [
            "        Name  Age\n",
            "obs1  Alicia   22\n",
            "obs2    Bill   28\n",
            "obs3  Carlos   19\n",
            "obs4   Diana   34\n"
          ],
          "name": "stdout"
        }
      ]
    },
    {
      "cell_type": "markdown",
      "metadata": {
        "id": "pMs1hrzkAZDy"
      },
      "source": [
        "### Filas\n",
        "\n",
        "Dado un dataframe, podemos seleccionar una fila en particular de diversas formas:\n",
        "\n",
        "- Con el método `.loc[]` (por nombre o etiqueta)\n",
        "- Con el método `.iloc[]` (por posición)\n"
      ]
    },
    {
      "cell_type": "code",
      "metadata": {
        "colab": {
          "base_uri": "https://localhost:8080/"
        },
        "id": "fiF6cG_YANvS",
        "outputId": "03cffb7b-ce35-431f-b294-8c3def6bcad1"
      },
      "source": [
        "# Seleccionamos la primera observación (obs1) con el método .loc[]\n",
        "print(df.loc[\"obs1\"])"
      ],
      "execution_count": null,
      "outputs": [
        {
          "output_type": "stream",
          "text": [
            "Name        Alicia\n",
            "Age             22\n",
            "Pet           True\n",
            "Height         157\n",
            "Birthday      Mayo\n",
            "Name: obs1, dtype: object\n"
          ],
          "name": "stdout"
        }
      ]
    },
    {
      "cell_type": "code",
      "metadata": {
        "colab": {
          "base_uri": "https://localhost:8080/"
        },
        "id": "y7bMo_h4zXUv",
        "outputId": "03ca39a1-19f9-46f6-cabb-5a7ace98772b"
      },
      "source": [
        "type(df.loc[\"obs1\"])"
      ],
      "execution_count": null,
      "outputs": [
        {
          "output_type": "execute_result",
          "data": {
            "text/plain": [
              "pandas.core.series.Series"
            ]
          },
          "metadata": {
            "tags": []
          },
          "execution_count": 45
        }
      ]
    },
    {
      "cell_type": "markdown",
      "metadata": {
        "id": "WZUgKnO2GouS"
      },
      "source": [
        "### Filas y columnas\n",
        "\n",
        "Para seleccionar un elemento en concreto, hay que indicar la fila y la columna y lo podemos hacer de dos formas:\n",
        "\n",
        "- Con el método `.loc[]` (por nombre o etiqueta)\n",
        "- Con el método `.iloc[]` (por índice)"
      ]
    },
    {
      "cell_type": "code",
      "metadata": {
        "colab": {
          "base_uri": "https://localhost:8080/"
        },
        "id": "9fyuXkNqG7q1",
        "outputId": "f87e29a7-55f5-4f81-b23e-0641dea1776a"
      },
      "source": [
        "# Seleccionamos la edad de la segunda observación con el método .loc[]\n",
        "print(df.loc[\"obs2\", \"Age\"])"
      ],
      "execution_count": null,
      "outputs": [
        {
          "output_type": "stream",
          "text": [
            "28\n"
          ],
          "name": "stdout"
        }
      ]
    },
    {
      "cell_type": "code",
      "metadata": {
        "colab": {
          "base_uri": "https://localhost:8080/"
        },
        "id": "ygBCSbl8HGXR",
        "outputId": "c95388a2-2563-4b43-e931-90f1cd5f03ba"
      },
      "source": [
        "# Seleccionamos la edad de la segunda observación con el método .iloc[]\n",
        "print(df.iloc[1, 1])"
      ],
      "execution_count": null,
      "outputs": [
        {
          "output_type": "stream",
          "text": [
            "28\n"
          ],
          "name": "stdout"
        }
      ]
    },
    {
      "cell_type": "markdown",
      "metadata": {
        "id": "H0r-SDLNHQEp"
      },
      "source": [
        "Si queremos seleccionar un subconjunto de filas y columnas, podemos utilizar los dos métodos anteriores"
      ]
    },
    {
      "cell_type": "code",
      "metadata": {
        "colab": {
          "base_uri": "https://localhost:8080/"
        },
        "id": "XMhhTmUBHV7N",
        "outputId": "e9f9000d-6aff-4a08-c547-cceacc5d12b7"
      },
      "source": [
        "# Seleccionamos la segunda y tercera fila y las columnas nombre y cumpleaños\n",
        "# Con el método .loc[]\n",
        "print(df.loc[\"obs2\":\"obs3\", [\"Name\", \"Birthday\"]])"
      ],
      "execution_count": null,
      "outputs": [
        {
          "output_type": "stream",
          "text": [
            "        Name Birthday\n",
            "obs2    Bill    Junio\n",
            "obs3  Carlos   Agosto\n"
          ],
          "name": "stdout"
        }
      ]
    },
    {
      "cell_type": "code",
      "metadata": {
        "colab": {
          "base_uri": "https://localhost:8080/"
        },
        "id": "BWnsPa3dHxYE",
        "outputId": "bec59956-a041-4669-99da-f563798b3d8a"
      },
      "source": [
        "# Con el método .iloc[]\n",
        "print(df.iloc[1:3, [0, 4]])"
      ],
      "execution_count": null,
      "outputs": [
        {
          "output_type": "stream",
          "text": [
            "        Name Birthday\n",
            "obs2    Bill    Junio\n",
            "obs3  Carlos   Agosto\n"
          ],
          "name": "stdout"
        }
      ]
    },
    {
      "cell_type": "markdown",
      "metadata": {
        "id": "W_TMN3KkCx9K"
      },
      "source": [
        "## Bucles y dataframes\n",
        "\n",
        "Para iterar sobre las filas de un dataframe, podemos utilizar los métodos:\n",
        "\n",
        "- `.iterrows()`\n",
        "- `.itertuples()`"
      ]
    },
    {
      "cell_type": "code",
      "metadata": {
        "id": "cYWyadM8Awgu",
        "colab": {
          "base_uri": "https://localhost:8080/",
          "height": 142
        },
        "outputId": "18886993-6312-4996-c6b3-7f68a339d520"
      },
      "source": [
        "d = {\"name\": [\"Juan Gabriel\", \"María\", \"Ricardo\"],\n",
        "     \"surname\": [\"Gomila\", \"Santos\", \"Alberich\"],\n",
        "     \"gender\": [\"m\", \"f\", \"m\"]}\n",
        "\n",
        "df = pd.DataFrame(d)\n",
        "df"
      ],
      "execution_count": null,
      "outputs": [
        {
          "output_type": "execute_result",
          "data": {
            "text/html": [
              "<div>\n",
              "<style scoped>\n",
              "    .dataframe tbody tr th:only-of-type {\n",
              "        vertical-align: middle;\n",
              "    }\n",
              "\n",
              "    .dataframe tbody tr th {\n",
              "        vertical-align: top;\n",
              "    }\n",
              "\n",
              "    .dataframe thead th {\n",
              "        text-align: right;\n",
              "    }\n",
              "</style>\n",
              "<table border=\"1\" class=\"dataframe\">\n",
              "  <thead>\n",
              "    <tr style=\"text-align: right;\">\n",
              "      <th></th>\n",
              "      <th>name</th>\n",
              "      <th>surname</th>\n",
              "      <th>gender</th>\n",
              "    </tr>\n",
              "  </thead>\n",
              "  <tbody>\n",
              "    <tr>\n",
              "      <th>0</th>\n",
              "      <td>Juan Gabriel</td>\n",
              "      <td>Gomila</td>\n",
              "      <td>m</td>\n",
              "    </tr>\n",
              "    <tr>\n",
              "      <th>1</th>\n",
              "      <td>María</td>\n",
              "      <td>Santos</td>\n",
              "      <td>f</td>\n",
              "    </tr>\n",
              "    <tr>\n",
              "      <th>2</th>\n",
              "      <td>Ricardo</td>\n",
              "      <td>Alberich</td>\n",
              "      <td>m</td>\n",
              "    </tr>\n",
              "  </tbody>\n",
              "</table>\n",
              "</div>"
            ],
            "text/plain": [
              "           name   surname gender\n",
              "0  Juan Gabriel    Gomila      m\n",
              "1         María    Santos      f\n",
              "2       Ricardo  Alberich      m"
            ]
          },
          "metadata": {
            "tags": []
          },
          "execution_count": 44
        }
      ]
    },
    {
      "cell_type": "markdown",
      "metadata": {
        "id": "9lxbougnwQrt"
      },
      "source": [
        "Usamos `.iterrows()` para obtener el índice de cada fila junto al contenido de cada una:"
      ]
    },
    {
      "cell_type": "code",
      "metadata": {
        "colab": {
          "base_uri": "https://localhost:8080/"
        },
        "id": "e7gxzJa1wYjx",
        "outputId": "437bc65e-faee-4ac5-fd12-e450c2314fed"
      },
      "source": [
        "for i, j in df.iterrows():\n",
        "  print(\"Índice de la fila: {},\\n\\nContenido de la fila:\\n{}\".format(i, j), end = \"\\n\\n\\n\")"
      ],
      "execution_count": null,
      "outputs": [
        {
          "output_type": "stream",
          "text": [
            "Índice de la fila: 0,\n",
            "\n",
            "Contenido de la fila:\n",
            "name       Juan Gabriel\n",
            "surname          Gomila\n",
            "gender                m\n",
            "Name: 0, dtype: object\n",
            "\n",
            "\n",
            "Índice de la fila: 1,\n",
            "\n",
            "Contenido de la fila:\n",
            "name        María\n",
            "surname    Santos\n",
            "gender          f\n",
            "Name: 1, dtype: object\n",
            "\n",
            "\n",
            "Índice de la fila: 2,\n",
            "\n",
            "Contenido de la fila:\n",
            "name        Ricardo\n",
            "surname    Alberich\n",
            "gender            m\n",
            "Name: 2, dtype: object\n",
            "\n",
            "\n"
          ],
          "name": "stdout"
        }
      ]
    },
    {
      "cell_type": "markdown",
      "metadata": {
        "id": "-Bp6m13WyL3b"
      },
      "source": [
        "Usamos `.itertuples()` para obtener una tupla con toda la información de cada fila:"
      ]
    },
    {
      "cell_type": "code",
      "metadata": {
        "colab": {
          "base_uri": "https://localhost:8080/"
        },
        "id": "6Ex5HXBqyNpy",
        "outputId": "78e01375-86f0-4394-9a55-14e62dbb14c9"
      },
      "source": [
        "for i in df.itertuples():\n",
        "  print(\"Contenido de la fila:\\n{}\".format(i), end = \"\\n\\n\")"
      ],
      "execution_count": null,
      "outputs": [
        {
          "output_type": "stream",
          "text": [
            "Contenido de la fila:\n",
            "Pandas(Index=0, name='Juan Gabriel', surname='Gomila', gender='m')\n",
            "\n",
            "Contenido de la fila:\n",
            "Pandas(Index=1, name='María', surname='Santos', gender='f')\n",
            "\n",
            "Contenido de la fila:\n",
            "Pandas(Index=2, name='Ricardo', surname='Alberich', gender='m')\n",
            "\n"
          ],
          "name": "stdout"
        }
      ]
    },
    {
      "cell_type": "markdown",
      "metadata": {
        "id": "8v3BFtGhGsNd"
      },
      "source": [
        "# Módulos de `Python`: `numpy`"
      ]
    },
    {
      "cell_type": "markdown",
      "metadata": {
        "id": "fRmok3PiUpg8"
      },
      "source": [
        "## `numpy`"
      ]
    },
    {
      "cell_type": "markdown",
      "metadata": {
        "id": "BC5RulfgbTfY"
      },
      "source": [
        "`numpy` es un módulo para trabajar con arrays, que son un tipo de lista, lo que mucho más rápidos de procesar.\n",
        "\n",
        "El objeto array de `numpy` recibe el nombre de `ndarray`. Este tipo de dato es muy usado en el mundo de la ciencia de datos, donde la velocidad y los recursos son de gran importancia."
      ]
    },
    {
      "cell_type": "markdown",
      "metadata": {
        "id": "2bOZgYz0ciRt"
      },
      "source": [
        "#### Creando arrays\n",
        "\n",
        "Para crear un `ndarray` usamos el método `.array()`.\n",
        "\n",
        "Lo podemos hacer a partir de una lista:"
      ]
    },
    {
      "cell_type": "code",
      "metadata": {
        "colab": {
          "base_uri": "https://localhost:8080/"
        },
        "id": "xGqHw0bNcrIv",
        "outputId": "e8b9c5bf-cfd0-464d-d5ff-f9f397532daa"
      },
      "source": [
        "a = np.array([1, 2, 3, 4, 5])\n",
        "print(a)"
      ],
      "execution_count": null,
      "outputs": [
        {
          "output_type": "stream",
          "text": [
            "[1 2 3 4 5]\n"
          ],
          "name": "stdout"
        }
      ]
    },
    {
      "cell_type": "code",
      "metadata": {
        "colab": {
          "base_uri": "https://localhost:8080/"
        },
        "id": "UeF1K8lx4mP-",
        "outputId": "f3e3f550-5cce-465a-e701-07d4dcf6f884"
      },
      "source": [
        "print(type(a))"
      ],
      "execution_count": null,
      "outputs": [
        {
          "output_type": "stream",
          "text": [
            "<class 'numpy.ndarray'>\n"
          ],
          "name": "stdout"
        }
      ]
    },
    {
      "cell_type": "markdown",
      "metadata": {
        "id": "I26AgRA04v4t"
      },
      "source": [
        "O bien, a partir de una tupla:"
      ]
    },
    {
      "cell_type": "code",
      "metadata": {
        "colab": {
          "base_uri": "https://localhost:8080/"
        },
        "id": "DUn7B-ns4y7Y",
        "outputId": "20702e36-303f-45c8-8550-9785c2467174"
      },
      "source": [
        "b = np.array((1, 2, 3, 4, 5, 6, 7))\n",
        "print(b)"
      ],
      "execution_count": null,
      "outputs": [
        {
          "output_type": "stream",
          "text": [
            "[1 2 3 4 5 6 7]\n"
          ],
          "name": "stdout"
        }
      ]
    },
    {
      "cell_type": "code",
      "metadata": {
        "colab": {
          "base_uri": "https://localhost:8080/"
        },
        "id": "IrTwXkOe43j-",
        "outputId": "190a9884-f5f8-4863-ac77-4b6db3861a21"
      },
      "source": [
        "print(type(b))"
      ],
      "execution_count": null,
      "outputs": [
        {
          "output_type": "stream",
          "text": [
            "<class 'numpy.ndarray'>\n"
          ],
          "name": "stdout"
        }
      ]
    },
    {
      "cell_type": "markdown",
      "metadata": {
        "id": "gGhrumGF479l"
      },
      "source": [
        "### Dimensiones de un array\n",
        "\n",
        "La dimensión de una array viene dada por el nivel de profundidad de éste.\n",
        "\n",
        "Para saber la dimensión de un array, podemos usar la propiedad `.ndim`\n",
        "\n",
        "**¡Cuidado!**. En las versiones actuales de `Python`, si creamos un array $n$-dimensional, entonces todos los arrays de dimensión fija $m < n$, deben contener el mismo número de elementos. Es decir, si creamos un array de 4 dimensiones, todos los arrays de 3 dimensiones deben tener el mismo número de elementos; por su parte, todos los arrays de 2 dimensiones, deben tener el mismo número de elementos; y lo mismo para los arrays 1-dimensionales. Esto se debe a que en caso contrario, el atributo `.shape` que veremos a continuación no tendría sentido."
      ]
    },
    {
      "cell_type": "markdown",
      "metadata": {
        "id": "Ggws-iAn5HSS"
      },
      "source": [
        "#### Arrays 0-dimensionales\n",
        "\n",
        "Son los arrays constantes:"
      ]
    }
  ]
}