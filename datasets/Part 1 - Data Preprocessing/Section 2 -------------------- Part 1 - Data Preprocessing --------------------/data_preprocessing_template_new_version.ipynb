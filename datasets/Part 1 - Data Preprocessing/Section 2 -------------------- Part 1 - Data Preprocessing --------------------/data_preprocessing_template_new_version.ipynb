{
  "nbformat": 4,
  "nbformat_minor": 0,
  "metadata": {
    "colab": {
      "name": "data_preprocessing_template-new_version.ipynb",
      "provenance": [],
      "toc_visible": true,
      "include_colab_link": true
    },
    "kernelspec": {
      "display_name": "Python 3",
      "language": "python",
      "name": "python3"
    },
    "language_info": {
      "codemirror_mode": {
        "name": "ipython",
        "version": 3
      },
      "file_extension": ".py",
      "mimetype": "text/x-python",
      "name": "python",
      "nbconvert_exporter": "python",
      "pygments_lexer": "ipython3",
      "version": "3.8.3"
    }
  },
  "cells": [
    {
      "cell_type": "markdown",
      "metadata": {
        "id": "view-in-github",
        "colab_type": "text"
      },
      "source": [
        "<a href=\"https://colab.research.google.com/github/christophergarcia89/machinelearning-az/blob/master/datasets/Part%201%20-%20Data%20Preprocessing/Section%202%20--------------------%20Part%201%20-%20Data%20Preprocessing%20--------------------/data_preprocessing_template_new_version.ipynb\" target=\"_parent\"><img src=\"https://colab.research.google.com/assets/colab-badge.svg\" alt=\"Open In Colab\"/></a>"
      ]
    },
    {
      "cell_type": "markdown",
      "metadata": {
        "id": "KdUFcDsdzRyw"
      },
      "source": [
        "# Clonamos el repositorio para obtener los dataSet"
      ]
    },
    {
      "cell_type": "code",
      "metadata": {
        "id": "mHReFf3_y9ms",
        "colab": {
          "base_uri": "https://localhost:8080/"
        },
        "outputId": "abb690f4-c50b-4746-89fb-6aa1371e6070"
      },
      "source": [
        "!git clone https://github.com/joanby/machinelearning-az.git"
      ],
      "execution_count": 1,
      "outputs": [
        {
          "output_type": "stream",
          "text": [
            "Cloning into 'machinelearning-az'...\n",
            "remote: Enumerating objects: 10497, done.\u001b[K\n",
            "remote: Total 10497 (delta 0), reused 0 (delta 0), pack-reused 10497\u001b[K\n",
            "Receiving objects: 100% (10497/10497), 310.48 MiB | 35.15 MiB/s, done.\n",
            "Resolving deltas: 100% (213/213), done.\n",
            "Checking out files: 100% (10250/10250), done.\n"
          ],
          "name": "stdout"
        }
      ]
    },
    {
      "cell_type": "markdown",
      "metadata": {
        "id": "vNKZXgtKzU2x"
      },
      "source": [
        "# Damos acceso a nuestro Drive"
      ]
    },
    {
      "cell_type": "code",
      "metadata": {
        "id": "5gu7KWnzzUQ0",
        "colab": {
          "base_uri": "https://localhost:8080/"
        },
        "outputId": "f42209ef-6e23-4231-8ec5-54f957ff9fa3"
      },
      "source": [
        "from google.colab import drive\n",
        "drive.mount('/content/drive')"
      ],
      "execution_count": 2,
      "outputs": [
        {
          "output_type": "stream",
          "text": [
            "Mounted at /content/drive\n"
          ],
          "name": "stdout"
        }
      ]
    },
    {
      "cell_type": "markdown",
      "metadata": {
        "id": "1gUxIkHWzfHV"
      },
      "source": [
        "# Test it"
      ]
    },
    {
      "cell_type": "code",
      "metadata": {
        "id": "mIQt3jBMzYRE",
        "colab": {
          "base_uri": "https://localhost:8080/"
        },
        "outputId": "b1b7c2ea-b0dc-480f-868e-9305597477e0"
      },
      "source": [
        "!ls '/content/drive/My Drive' "
      ],
      "execution_count": 3,
      "outputs": [
        {
          "output_type": "stream",
          "text": [
            " 20200716_171004.jpg\n",
            " 20200716_171009.jpg\n",
            " 20200716_171018.jpg\n",
            " aban17.rar\n",
            " All-App-Inventor-Projects.zip\n",
            "'Análisis de Algoritmo'\n",
            " Apuntes.gdoc\n",
            " borrado_carpetas_SAPG01.txt.gdoc\n",
            "'Captura y almacenamiento'\n",
            "'CHRISTOPHER ALEJADRO GARCIA CISTERNA_CV (10).pdf'\n",
            "'CHRISTOPHER ALEJADRO GARCIA CISTERNA_CV (11).pdf'\n",
            "'CHRISTOPHER ALEJADRO GARCIA CISTERNA_CV (1).pdf'\n",
            "'CHRISTOPHER ALEJADRO GARCIA CISTERNA_CV (2).pdf'\n",
            "'CHRISTOPHER ALEJADRO GARCIA CISTERNA_CV (3).pdf'\n",
            "'CHRISTOPHER ALEJADRO GARCIA CISTERNA_CV (4).pdf'\n",
            "'CHRISTOPHER ALEJADRO GARCIA CISTERNA_CV (5).pdf'\n",
            "'CHRISTOPHER ALEJADRO GARCIA CISTERNA_CV (6).pdf'\n",
            "'CHRISTOPHER ALEJADRO GARCIA CISTERNA_CV (7).pdf'\n",
            "'CHRISTOPHER ALEJADRO GARCIA CISTERNA_CV (8).pdf'\n",
            "'CHRISTOPHER ALEJADRO GARCIA CISTERNA_CV (9).pdf'\n",
            "'CHRISTOPHER ALEJADRO GARCIA CISTERNA_CV - Christopher Garcia (1).pdf'\n",
            "'CHRISTOPHER ALEJADRO GARCIA CISTERNA_CV - Christopher Garcia (2).pdf'\n",
            "'CHRISTOPHER ALEJADRO GARCIA CISTERNA_CV - Christopher Garcia (3).pdf'\n",
            "'CHRISTOPHER ALEJADRO GARCIA CISTERNA_CV - Christopher Garcia.pdf'\n",
            "'CHRISTOPHER ALEJADRO GARCIA CISTERNA_CV.docx'\n",
            "'CHRISTOPHER ALEJADRO GARCIA CISTERNA_CV.gdoc'\n",
            "'CHRISTOPHER ALEJADRO GARCIA CISTERNA_CV.pdf'\n",
            "'Christopher Garcia (1).vcf'\n",
            "'Christopher Garcia.vcf'\n",
            " Classroom\n",
            "'Colab Notebooks'\n",
            " Commuting.gform\n",
            "'configuraciónOYM (1).txt.gdoc'\n",
            "'configuraciónOYM (2).txt.gdoc'\n",
            " configuraciónOYM.txt.gdoc\n",
            "'Contactos (1).vcf'\n",
            " Contactos.vcf\n",
            " Cristianismo.gdoc\n",
            " CV\n",
            "'CV CHRISTOPHER GARCIA (1).pdf'\n",
            "'CV CHRISTOPHER GARCIA - Christopher Garcia (1).pdf'\n",
            "'CV CHRISTOPHER GARCIA - Christopher Garcia.pdf'\n",
            "'CV Christopher Garcia.docx'\n",
            "'CV CHRISTOPHER GARCIA.pdf'\n",
            " DATA\n",
            " DEPA\n",
            "'Detalle Cuentas'\n",
            "'Documento sin título.gdoc'\n",
            " EC1.xml\n",
            "'Ecos baby'\n",
            " EC.xml\n",
            " FOTOS\n",
            "'Gmail - TIENES MATRICULA GRATIS DESCUENTO EN EL ARANCEL!! DIPLOMADOS FACULTAD DE INGENIERIA 2020 ONLINE LIVE.pdf'\n",
            "'HLR FNR.html'\n",
            " INACAP\n",
            " LG-RDTT_1.0.5.4.rar\n",
            "'Noviembre 2018.gdoc'\n",
            "'Permiso 2019'\n",
            "'Preparación y Evaluación de Proyecto'\n",
            "'protokoll enero y febrero.gdoc'\n",
            " Screenshot_2014-11-29-20-43-15.png\n",
            " SCRUM\n",
            " seccion01.gsheet\n",
            " seccion02.gsheet\n",
            " SPLUNK\n",
            " splunk_ivr.gsheet\n",
            " splunk_ivr.xlsx\n",
            " Temas.gdoc\n",
            "'Untitled Diagram.xml'\n",
            "'Viaje Europa 2017.xlsx'\n",
            "'VMWARE[V6]'\n"
          ],
          "name": "stdout"
        }
      ]
    },
    {
      "cell_type": "markdown",
      "metadata": {
        "id": "mHsK36uN0XB-"
      },
      "source": [
        "#Google colab tools"
      ]
    },
    {
      "cell_type": "code",
      "metadata": {
        "id": "kTzwfUPWzrm4"
      },
      "source": [
        "from google.colab import files # Para manejar los archivos y, por ejemplo, exportar a su navegador\n",
        "import glob # Para manejar los archivos y, por ejemplo, exportar a su navegador\n",
        "from google.colab import drive # Montar tu Google drive"
      ],
      "execution_count": 4,
      "outputs": []
    },
    {
      "cell_type": "markdown",
      "metadata": {
        "id": "3yFpBwmNz70v"
      },
      "source": [
        "# Plantilla de Pre Procesado"
      ]
    },
    {
      "cell_type": "markdown",
      "metadata": {
        "id": "v8OxSXXSz-OP"
      },
      "source": [
        "# Cómo importar las librerías\n"
      ]
    },
    {
      "cell_type": "code",
      "metadata": {
        "id": "edZX51YLzs59"
      },
      "source": [
        "import numpy as np\n",
        "import matplotlib.pyplot as plt\n",
        "import pandas as pd"
      ],
      "execution_count": 5,
      "outputs": []
    },
    {
      "cell_type": "markdown",
      "metadata": {
        "id": "8XfXlqtF0B58"
      },
      "source": [
        "# Importar el data set\n"
      ]
    },
    {
      "cell_type": "code",
      "metadata": {
        "id": "-nnozsHsz_-N",
        "colab": {
          "base_uri": "https://localhost:8080/"
        },
        "outputId": "af0f40d9-179d-4734-b9da-644de5f3e330"
      },
      "source": [
        "dataset = pd.read_csv('/content/machinelearning-az/datasets/Part 1 - Data Preprocessing/Section 2 -------------------- Part 1 - Data Preprocessing --------------------/Data.csv')\n",
        "#Para extraer las variables independientes del dataset\n",
        "X = dataset.iloc[:, :-1].values\n",
        "#Para extraer la variable dependiente o variable a predecir\n",
        "y = dataset.iloc[:, 3].values\n",
        "print(dataset)\n",
        "print(X)\n",
        "print(y)\n"
      ],
      "execution_count": 11,
      "outputs": [
        {
          "output_type": "stream",
          "text": [
            "   Country   Age   Salary Purchased\n",
            "0   France  44.0  72000.0        No\n",
            "1    Spain  27.0  48000.0       Yes\n",
            "2  Germany  30.0  54000.0        No\n",
            "3    Spain  38.0  61000.0        No\n",
            "4  Germany  40.0      NaN       Yes\n",
            "5   France  35.0  58000.0       Yes\n",
            "6    Spain   NaN  52000.0        No\n",
            "7   France  48.0  79000.0       Yes\n",
            "8  Germany  50.0  83000.0        No\n",
            "9   France  37.0  67000.0       Yes\n",
            "[['France' 44.0 72000.0]\n",
            " ['Spain' 27.0 48000.0]\n",
            " ['Germany' 30.0 54000.0]\n",
            " ['Spain' 38.0 61000.0]\n",
            " ['Germany' 40.0 nan]\n",
            " ['France' 35.0 58000.0]\n",
            " ['Spain' nan 52000.0]\n",
            " ['France' 48.0 79000.0]\n",
            " ['Germany' 50.0 83000.0]\n",
            " ['France' 37.0 67000.0]]\n",
            "['No' 'Yes' 'No' 'No' 'Yes' 'Yes' 'No' 'Yes' 'No' 'Yes']\n"
          ],
          "name": "stdout"
        }
      ]
    },
    {
      "cell_type": "markdown",
      "metadata": {
        "id": "SsVEdPzf4XmV"
      },
      "source": [
        "# Tratamiento de los NAs"
      ]
    },
    {
      "cell_type": "code",
      "metadata": {
        "id": "v9CtwK834bjy"
      },
      "source": [
        "from sklearn.impute import SimpleImputer"
      ],
      "execution_count": 13,
      "outputs": []
    },
    {
      "cell_type": "code",
      "metadata": {
        "id": "6E8kYa1B4Y4D",
        "outputId": "543b784d-b6e3-4827-a230-e9d00b8e251a",
        "colab": {
          "base_uri": "https://localhost:8080/"
        }
      },
      "source": [
        "#Para reemplazar los valores NA y modificarlos por la media de los valores de las columnas\n",
        "imputer = SimpleImputer(missing_values = np.nan, strategy = \"mean\", verbose=0)\n",
        "#Al crear imputer, vamos a sustituir los valores de las variables independientes (X) de las columnas Age y Salary.\n",
        "imputer = imputer.fit(X[:,1:3]) \n",
        "X[:, 1:3] = imputer.transform(X[:,1:3])\n",
        "print(X[:, 1:3])"
      ],
      "execution_count": 16,
      "outputs": [
        {
          "output_type": "stream",
          "text": [
            "[[44.0 72000.0]\n",
            " [27.0 48000.0]\n",
            " [30.0 54000.0]\n",
            " [38.0 61000.0]\n",
            " [40.0 63777.77777777778]\n",
            " [35.0 58000.0]\n",
            " [38.77777777777778 52000.0]\n",
            " [48.0 79000.0]\n",
            " [50.0 83000.0]\n",
            " [37.0 67000.0]]\n"
          ],
          "name": "stdout"
        }
      ]
    },
    {
      "cell_type": "markdown",
      "metadata": {
        "id": "5p61cI0s4e4A"
      },
      "source": [
        "# Codificar datos categoricos"
      ]
    },
    {
      "cell_type": "code",
      "metadata": {
        "id": "1UJA5WJh4hAi"
      },
      "source": [
        "from sklearn.preprocessing import LabelEncoder, OneHotEncoder\n",
        "from sklearn.compose import ColumnTransformer"
      ],
      "execution_count": 18,
      "outputs": []
    },
    {
      "cell_type": "code",
      "metadata": {
        "id": "-Ixqi3AS4h1U",
        "outputId": "4c9e901e-d763-4e9b-b8a4-eb75be4f8cac",
        "colab": {
          "base_uri": "https://localhost:8080/"
        }
      },
      "source": [
        "#Crear un codificador de datos\n",
        "labelencoder_X = LabelEncoder()\n",
        "#Transforma y codifica las columnas\n",
        "#X[:, 0] -> trae todas las filas \":\" y la primera columna que serian los paises\n",
        "X[:, 0] = labelencoder_X.fit_transform(X[:, 0])\n",
        "#Reemplaza las variables a categoricas, en este caso para los paises\n",
        "print(X[:, 0])\n",
        "print(X)"
      ],
      "execution_count": 20,
      "outputs": [
        {
          "output_type": "stream",
          "text": [
            "[0 2 1 2 1 0 2 0 1 0]\n",
            "[[0 44.0 72000.0]\n",
            " [2 27.0 48000.0]\n",
            " [1 30.0 54000.0]\n",
            " [2 38.0 61000.0]\n",
            " [1 40.0 63777.77777777778]\n",
            " [0 35.0 58000.0]\n",
            " [2 38.77777777777778 52000.0]\n",
            " [0 48.0 79000.0]\n",
            " [1 50.0 83000.0]\n",
            " [0 37.0 67000.0]]\n"
          ],
          "name": "stdout"
        }
      ]
    },
    {
      "cell_type": "code",
      "metadata": {
        "id": "jeGjz-Hw4kc6"
      },
      "source": [
        "#Genera variables dummy para las variables del dataset original, reemplazando por 0 y 1\n",
        "ct = ColumnTransformer(\n",
        "    [('one_hot_encoder', OneHotEncoder(categories='auto'), [0])],   \n",
        "    remainder='passthrough'                        \n",
        ")"
      ],
      "execution_count": 26,
      "outputs": []
    },
    {
      "cell_type": "code",
      "metadata": {
        "id": "LUJTvVqn4mkJ",
        "outputId": "c520188d-ed85-4f30-e35d-d57d86ebe4a6",
        "colab": {
          "base_uri": "https://localhost:8080/"
        }
      },
      "source": [
        "#Generar variables dummy para las variables independientes\n",
        "X = np.array(ct.fit_transform(X), dtype=np.float)\n",
        "#Variables dummy para la variable dependiente. Los Yes y No, se reemplazan por 0 y 1\n",
        "labelencoder_y = LabelEncoder()\n",
        "y = labelencoder_y.fit_transform(y)\n",
        "print(X)\n",
        "print(y)\n"
      ],
      "execution_count": 24,
      "outputs": [
        {
          "output_type": "stream",
          "text": [
            "[[1.00000000e+00 0.00000000e+00 1.00000000e+00 0.00000000e+00\n",
            "  0.00000000e+00 4.40000000e+01 7.20000000e+04]\n",
            " [0.00000000e+00 1.00000000e+00 0.00000000e+00 0.00000000e+00\n",
            "  1.00000000e+00 2.70000000e+01 4.80000000e+04]\n",
            " [0.00000000e+00 1.00000000e+00 0.00000000e+00 1.00000000e+00\n",
            "  0.00000000e+00 3.00000000e+01 5.40000000e+04]\n",
            " [0.00000000e+00 1.00000000e+00 0.00000000e+00 0.00000000e+00\n",
            "  1.00000000e+00 3.80000000e+01 6.10000000e+04]\n",
            " [0.00000000e+00 1.00000000e+00 0.00000000e+00 1.00000000e+00\n",
            "  0.00000000e+00 4.00000000e+01 6.37777778e+04]\n",
            " [1.00000000e+00 0.00000000e+00 1.00000000e+00 0.00000000e+00\n",
            "  0.00000000e+00 3.50000000e+01 5.80000000e+04]\n",
            " [0.00000000e+00 1.00000000e+00 0.00000000e+00 0.00000000e+00\n",
            "  1.00000000e+00 3.87777778e+01 5.20000000e+04]\n",
            " [1.00000000e+00 0.00000000e+00 1.00000000e+00 0.00000000e+00\n",
            "  0.00000000e+00 4.80000000e+01 7.90000000e+04]\n",
            " [0.00000000e+00 1.00000000e+00 0.00000000e+00 1.00000000e+00\n",
            "  0.00000000e+00 5.00000000e+01 8.30000000e+04]\n",
            " [1.00000000e+00 0.00000000e+00 1.00000000e+00 0.00000000e+00\n",
            "  0.00000000e+00 3.70000000e+01 6.70000000e+04]]\n",
            "[0 1 0 0 1 1 0 1 0 1]\n"
          ],
          "name": "stdout"
        }
      ]
    },
    {
      "cell_type": "markdown",
      "metadata": {
        "id": "x8PABYut0i7y"
      },
      "source": [
        "# Dividir el data set en conjunto de entrenamiento y conjunto de testing\n"
      ]
    },
    {
      "cell_type": "code",
      "metadata": {
        "id": "oPVZUP870DoR"
      },
      "source": [
        "from sklearn.model_selection import train_test_split"
      ],
      "execution_count": 27,
      "outputs": []
    },
    {
      "cell_type": "code",
      "metadata": {
        "id": "3lajo7ye0lEs"
      },
      "source": [
        "#random_state es para generar la semilla\n",
        "X_train, X_test, y_train, y_test = train_test_split(X, y, test_size = 0.2, random_state = 0)"
      ],
      "execution_count": 29,
      "outputs": []
    },
    {
      "cell_type": "markdown",
      "metadata": {
        "id": "YRMD7_oq3J_f"
      },
      "source": [
        "# Escalado de variables"
      ]
    },
    {
      "cell_type": "code",
      "metadata": {
        "id": "BQ-MnRSO0md2"
      },
      "source": [
        "#Escalar, es la normalización de los datos para que sean comparables entre variables\n",
        "#La idea es que al comparar no sea por el rango de los valores, sino por la importancia\n",
        "from sklearn.preprocessing import StandardScaler"
      ],
      "execution_count": 32,
      "outputs": []
    },
    {
      "cell_type": "code",
      "metadata": {
        "id": "kt9uD3hE0nxd",
        "outputId": "dbf5b992-4852-43a6-acd5-297fb90ce7d9",
        "colab": {
          "base_uri": "https://localhost:8080/"
        }
      },
      "source": [
        "sc_X = StandardScaler()\n",
        "X_train = sc_X.fit_transform(X_train)\n",
        "#X_test, solo con transform. Ya que viene ya de\n",
        "X_test = sc_X.transform(X_test)\n",
        "print(X_train.shape)\n",
        "print(X_train)\n",
        "print(X_test.shape)\n",
        "print(X_test)"
      ],
      "execution_count": 36,
      "outputs": [
        {
          "output_type": "stream",
          "text": [
            "(8, 7)\n",
            "[[-1.          1.         -1.          2.64575131 -0.77459667  0.26306757\n",
            "   0.12381479]\n",
            " [ 1.         -1.          1.         -0.37796447 -0.77459667 -0.25350148\n",
            "   0.46175632]\n",
            " [-1.          1.         -1.         -0.37796447  1.29099445 -1.97539832\n",
            "  -1.53093341]\n",
            " [-1.          1.         -1.         -0.37796447  1.29099445  0.05261351\n",
            "  -1.11141978]\n",
            " [ 1.         -1.          1.         -0.37796447 -0.77459667  1.64058505\n",
            "   1.7202972 ]\n",
            " [-1.          1.         -1.         -0.37796447  1.29099445 -0.0813118\n",
            "  -0.16751412]\n",
            " [ 1.         -1.          1.         -0.37796447 -0.77459667  0.95182631\n",
            "   0.98614835]\n",
            " [ 1.         -1.          1.         -0.37796447 -0.77459667 -0.59788085\n",
            "  -0.48214934]]\n",
            "(2, 7)\n",
            "[[-1.          1.         -1.          2.64575131 -0.77459667 -1.45882927\n",
            "  -0.90166297]\n",
            " [-1.          1.         -1.          2.64575131 -0.77459667  1.98496442\n",
            "   2.13981082]]\n"
          ],
          "name": "stdout"
        }
      ]
    },
    {
      "cell_type": "code",
      "metadata": {
        "id": "RUvBzSVb43Ur"
      },
      "source": [
        "result_Xtrain = pd.DataFrame({'Column1': X_train[:, 0], 'Column2': X_train[:, 1],'Column3': X_train[:, 2], 'Column4': X_train[:, 3],'Column5': X_train[:, 4]})"
      ],
      "execution_count": 37,
      "outputs": []
    },
    {
      "cell_type": "code",
      "metadata": {
        "id": "eQqODyuS4r-N",
        "outputId": "192e67bb-130d-4162-aad8-9f4e496e7402",
        "colab": {
          "base_uri": "https://localhost:8080/",
          "height": 300
        }
      },
      "source": [
        "display(result_Xtrain)"
      ],
      "execution_count": 38,
      "outputs": [
        {
          "output_type": "display_data",
          "data": {
            "text/html": [
              "<div>\n",
              "<style scoped>\n",
              "    .dataframe tbody tr th:only-of-type {\n",
              "        vertical-align: middle;\n",
              "    }\n",
              "\n",
              "    .dataframe tbody tr th {\n",
              "        vertical-align: top;\n",
              "    }\n",
              "\n",
              "    .dataframe thead th {\n",
              "        text-align: right;\n",
              "    }\n",
              "</style>\n",
              "<table border=\"1\" class=\"dataframe\">\n",
              "  <thead>\n",
              "    <tr style=\"text-align: right;\">\n",
              "      <th></th>\n",
              "      <th>Column1</th>\n",
              "      <th>Column2</th>\n",
              "      <th>Column3</th>\n",
              "      <th>Column4</th>\n",
              "      <th>Column5</th>\n",
              "    </tr>\n",
              "  </thead>\n",
              "  <tbody>\n",
              "    <tr>\n",
              "      <th>0</th>\n",
              "      <td>-1.0</td>\n",
              "      <td>1.0</td>\n",
              "      <td>-1.0</td>\n",
              "      <td>2.645751</td>\n",
              "      <td>-0.774597</td>\n",
              "    </tr>\n",
              "    <tr>\n",
              "      <th>1</th>\n",
              "      <td>1.0</td>\n",
              "      <td>-1.0</td>\n",
              "      <td>1.0</td>\n",
              "      <td>-0.377964</td>\n",
              "      <td>-0.774597</td>\n",
              "    </tr>\n",
              "    <tr>\n",
              "      <th>2</th>\n",
              "      <td>-1.0</td>\n",
              "      <td>1.0</td>\n",
              "      <td>-1.0</td>\n",
              "      <td>-0.377964</td>\n",
              "      <td>1.290994</td>\n",
              "    </tr>\n",
              "    <tr>\n",
              "      <th>3</th>\n",
              "      <td>-1.0</td>\n",
              "      <td>1.0</td>\n",
              "      <td>-1.0</td>\n",
              "      <td>-0.377964</td>\n",
              "      <td>1.290994</td>\n",
              "    </tr>\n",
              "    <tr>\n",
              "      <th>4</th>\n",
              "      <td>1.0</td>\n",
              "      <td>-1.0</td>\n",
              "      <td>1.0</td>\n",
              "      <td>-0.377964</td>\n",
              "      <td>-0.774597</td>\n",
              "    </tr>\n",
              "    <tr>\n",
              "      <th>5</th>\n",
              "      <td>-1.0</td>\n",
              "      <td>1.0</td>\n",
              "      <td>-1.0</td>\n",
              "      <td>-0.377964</td>\n",
              "      <td>1.290994</td>\n",
              "    </tr>\n",
              "    <tr>\n",
              "      <th>6</th>\n",
              "      <td>1.0</td>\n",
              "      <td>-1.0</td>\n",
              "      <td>1.0</td>\n",
              "      <td>-0.377964</td>\n",
              "      <td>-0.774597</td>\n",
              "    </tr>\n",
              "    <tr>\n",
              "      <th>7</th>\n",
              "      <td>1.0</td>\n",
              "      <td>-1.0</td>\n",
              "      <td>1.0</td>\n",
              "      <td>-0.377964</td>\n",
              "      <td>-0.774597</td>\n",
              "    </tr>\n",
              "  </tbody>\n",
              "</table>\n",
              "</div>"
            ],
            "text/plain": [
              "   Column1  Column2  Column3   Column4   Column5\n",
              "0     -1.0      1.0     -1.0  2.645751 -0.774597\n",
              "1      1.0     -1.0      1.0 -0.377964 -0.774597\n",
              "2     -1.0      1.0     -1.0 -0.377964  1.290994\n",
              "3     -1.0      1.0     -1.0 -0.377964  1.290994\n",
              "4      1.0     -1.0      1.0 -0.377964 -0.774597\n",
              "5     -1.0      1.0     -1.0 -0.377964  1.290994\n",
              "6      1.0     -1.0      1.0 -0.377964 -0.774597\n",
              "7      1.0     -1.0      1.0 -0.377964 -0.774597"
            ]
          },
          "metadata": {
            "tags": []
          }
        }
      ]
    },
    {
      "cell_type": "code",
      "metadata": {
        "id": "m0Zv7jtR4ugk"
      },
      "source": [
        "result_X_test = pd.DataFrame({'Column1': X_test[:, 0], 'Column2': X_test[:, 1],'Column3': X_test[:, 2], 'Column4': X_test[:, 3],'Column5': X_test[:, 4]})"
      ],
      "execution_count": 39,
      "outputs": []
    },
    {
      "cell_type": "code",
      "metadata": {
        "id": "U8IM2FlS5dqO",
        "outputId": "c3379577-1971-4022-d244-e416e718cd3f",
        "colab": {
          "base_uri": "https://localhost:8080/",
          "height": 112
        }
      },
      "source": [
        "display(result_X_test)"
      ],
      "execution_count": 40,
      "outputs": [
        {
          "output_type": "display_data",
          "data": {
            "text/html": [
              "<div>\n",
              "<style scoped>\n",
              "    .dataframe tbody tr th:only-of-type {\n",
              "        vertical-align: middle;\n",
              "    }\n",
              "\n",
              "    .dataframe tbody tr th {\n",
              "        vertical-align: top;\n",
              "    }\n",
              "\n",
              "    .dataframe thead th {\n",
              "        text-align: right;\n",
              "    }\n",
              "</style>\n",
              "<table border=\"1\" class=\"dataframe\">\n",
              "  <thead>\n",
              "    <tr style=\"text-align: right;\">\n",
              "      <th></th>\n",
              "      <th>Column1</th>\n",
              "      <th>Column2</th>\n",
              "      <th>Column3</th>\n",
              "      <th>Column4</th>\n",
              "      <th>Column5</th>\n",
              "    </tr>\n",
              "  </thead>\n",
              "  <tbody>\n",
              "    <tr>\n",
              "      <th>0</th>\n",
              "      <td>-1.0</td>\n",
              "      <td>1.0</td>\n",
              "      <td>-1.0</td>\n",
              "      <td>2.645751</td>\n",
              "      <td>-0.774597</td>\n",
              "    </tr>\n",
              "    <tr>\n",
              "      <th>1</th>\n",
              "      <td>-1.0</td>\n",
              "      <td>1.0</td>\n",
              "      <td>-1.0</td>\n",
              "      <td>2.645751</td>\n",
              "      <td>-0.774597</td>\n",
              "    </tr>\n",
              "  </tbody>\n",
              "</table>\n",
              "</div>"
            ],
            "text/plain": [
              "   Column1  Column2  Column3   Column4   Column5\n",
              "0     -1.0      1.0     -1.0  2.645751 -0.774597\n",
              "1     -1.0      1.0     -1.0  2.645751 -0.774597"
            ]
          },
          "metadata": {
            "tags": []
          }
        }
      ]
    }
  ]
}