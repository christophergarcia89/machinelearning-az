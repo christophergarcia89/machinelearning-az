{
  "nbformat": 4,
  "nbformat_minor": 0,
  "metadata": {
    "colab": {
      "name": "data_preprocessing_template-new_version.ipynb",
      "provenance": [],
      "toc_visible": true
    },
    "kernelspec": {
      "display_name": "Python 3",
      "language": "python",
      "name": "python3"
    },
    "language_info": {
      "codemirror_mode": {
        "name": "ipython",
        "version": 3
      },
      "file_extension": ".py",
      "mimetype": "text/x-python",
      "name": "python",
      "nbconvert_exporter": "python",
      "pygments_lexer": "ipython3",
      "version": "3.8.3"
    }
  },
  "cells": [
    {
      "cell_type": "markdown",
      "metadata": {
        "id": "KdUFcDsdzRyw"
      },
      "source": [
        "# Clonamos el repositorio para obtener los dataSet"
      ]
    },
    {
      "cell_type": "code",
      "metadata": {
        "id": "mHReFf3_y9ms",
        "outputId": "d13c6ebf-aa65-4d90-cc47-765d1f6014f4",
        "colab": {
          "base_uri": "https://localhost:8080/"
        }
      },
      "source": [
        "!git clone https://github.com/joanby/machinelearning-az.git"
      ],
      "execution_count": 1,
      "outputs": [
        {
          "output_type": "stream",
          "text": [
            "Cloning into 'machinelearning-az'...\n",
            "remote: Enumerating objects: 10497, done.\u001b[K\n",
            "remote: Total 10497 (delta 0), reused 0 (delta 0), pack-reused 10497\u001b[K\n",
            "Receiving objects: 100% (10497/10497), 310.48 MiB | 32.26 MiB/s, done.\n",
            "Resolving deltas: 100% (213/213), done.\n",
            "Checking out files: 100% (10250/10250), done.\n"
          ],
          "name": "stdout"
        }
      ]
    },
    {
      "cell_type": "markdown",
      "metadata": {
        "id": "vNKZXgtKzU2x"
      },
      "source": [
        "# Damos acceso a nuestro Drive"
      ]
    },
    {
      "cell_type": "code",
      "metadata": {
        "id": "5gu7KWnzzUQ0",
        "outputId": "8dae56a3-a3b0-4bf9-bc3c-76256f44f5db",
        "colab": {
          "base_uri": "https://localhost:8080/"
        }
      },
      "source": [
        "from google.colab import drive\n",
        "drive.mount('/content/drive')"
      ],
      "execution_count": 2,
      "outputs": [
        {
          "output_type": "stream",
          "text": [
            "Mounted at /content/drive\n"
          ],
          "name": "stdout"
        }
      ]
    },
    {
      "cell_type": "markdown",
      "metadata": {
        "id": "1gUxIkHWzfHV"
      },
      "source": [
        "# Test it"
      ]
    },
    {
      "cell_type": "code",
      "metadata": {
        "id": "mIQt3jBMzYRE",
        "outputId": "7cf42aa0-d601-4acb-9f59-f30d2b29ceb1",
        "colab": {
          "base_uri": "https://localhost:8080/"
        }
      },
      "source": [
        "!ls '/content/drive/My Drive' "
      ],
      "execution_count": 3,
      "outputs": [
        {
          "output_type": "stream",
          "text": [
            " 20200716_171004.jpg\n",
            " 20200716_171009.jpg\n",
            " 20200716_171018.jpg\n",
            " aban17.rar\n",
            " All-App-Inventor-Projects.zip\n",
            "'Análisis de Algoritmo'\n",
            " Apuntes.gdoc\n",
            " borrado_carpetas_SAPG01.txt.gdoc\n",
            "'Captura y almacenamiento'\n",
            "'CHRISTOPHER ALEJADRO GARCIA CISTERNA_CV (10).pdf'\n",
            "'CHRISTOPHER ALEJADRO GARCIA CISTERNA_CV (11).pdf'\n",
            "'CHRISTOPHER ALEJADRO GARCIA CISTERNA_CV (1).pdf'\n",
            "'CHRISTOPHER ALEJADRO GARCIA CISTERNA_CV (2).pdf'\n",
            "'CHRISTOPHER ALEJADRO GARCIA CISTERNA_CV (3).pdf'\n",
            "'CHRISTOPHER ALEJADRO GARCIA CISTERNA_CV (4).pdf'\n",
            "'CHRISTOPHER ALEJADRO GARCIA CISTERNA_CV (5).pdf'\n",
            "'CHRISTOPHER ALEJADRO GARCIA CISTERNA_CV (6).pdf'\n",
            "'CHRISTOPHER ALEJADRO GARCIA CISTERNA_CV (7).pdf'\n",
            "'CHRISTOPHER ALEJADRO GARCIA CISTERNA_CV (8).pdf'\n",
            "'CHRISTOPHER ALEJADRO GARCIA CISTERNA_CV (9).pdf'\n",
            "'CHRISTOPHER ALEJADRO GARCIA CISTERNA_CV - Christopher Garcia (1).pdf'\n",
            "'CHRISTOPHER ALEJADRO GARCIA CISTERNA_CV - Christopher Garcia (2).pdf'\n",
            "'CHRISTOPHER ALEJADRO GARCIA CISTERNA_CV - Christopher Garcia (3).pdf'\n",
            "'CHRISTOPHER ALEJADRO GARCIA CISTERNA_CV - Christopher Garcia.pdf'\n",
            "'CHRISTOPHER ALEJADRO GARCIA CISTERNA_CV.docx'\n",
            "'CHRISTOPHER ALEJADRO GARCIA CISTERNA_CV.gdoc'\n",
            "'CHRISTOPHER ALEJADRO GARCIA CISTERNA_CV.pdf'\n",
            "'Christopher Garcia (1).vcf'\n",
            "'Christopher Garcia.vcf'\n",
            " Classroom\n",
            "'Colab Notebooks'\n",
            " Commuting.gform\n",
            "'configuraciónOYM (1).txt.gdoc'\n",
            "'configuraciónOYM (2).txt.gdoc'\n",
            " configuraciónOYM.txt.gdoc\n",
            "'Contactos (1).vcf'\n",
            " Contactos.vcf\n",
            " Cristianismo.gdoc\n",
            " CV\n",
            "'CV CHRISTOPHER GARCIA (1).pdf'\n",
            "'CV CHRISTOPHER GARCIA - Christopher Garcia (1).pdf'\n",
            "'CV CHRISTOPHER GARCIA - Christopher Garcia.pdf'\n",
            "'CV Christopher Garcia.docx'\n",
            "'CV CHRISTOPHER GARCIA.pdf'\n",
            " DATA\n",
            " DEPA\n",
            "'Detalle Cuentas'\n",
            "'Documento sin título.gdoc'\n",
            " EC1.xml\n",
            "'Ecos baby'\n",
            " EC.xml\n",
            " FOTOS\n",
            "'Gmail - TIENES MATRICULA GRATIS DESCUENTO EN EL ARANCEL!! DIPLOMADOS FACULTAD DE INGENIERIA 2020 ONLINE LIVE.pdf'\n",
            "'HLR FNR.html'\n",
            " INACAP\n",
            " LG-RDTT_1.0.5.4.rar\n",
            "'Noviembre 2018.gdoc'\n",
            "'Permiso 2019'\n",
            "'Preparación y Evaluación de Proyecto'\n",
            "'protokoll enero y febrero.gdoc'\n",
            " Screenshot_2014-11-29-20-43-15.png\n",
            " SCRUM\n",
            " seccion01.gsheet\n",
            " seccion02.gsheet\n",
            " SPLUNK\n",
            " splunk_ivr.gsheet\n",
            " splunk_ivr.xlsx\n",
            " Temas.gdoc\n",
            "'Untitled Diagram.xml'\n",
            "'Viaje Europa 2017.xlsx'\n",
            "'VMWARE[V6]'\n"
          ],
          "name": "stdout"
        }
      ]
    },
    {
      "cell_type": "markdown",
      "metadata": {
        "id": "mHsK36uN0XB-"
      },
      "source": [
        "#Google colab tools"
      ]
    },
    {
      "cell_type": "code",
      "metadata": {
        "id": "kTzwfUPWzrm4"
      },
      "source": [
        "from google.colab import files # Para manejar los archivos y, por ejemplo, exportar a su navegador\n",
        "import glob # Para manejar los archivos y, por ejemplo, exportar a su navegador\n",
        "from google.colab import drive # Montar tu Google drive"
      ],
      "execution_count": 4,
      "outputs": []
    },
    {
      "cell_type": "markdown",
      "metadata": {
        "id": "3yFpBwmNz70v"
      },
      "source": [
        "# Plantilla de Pre Procesado"
      ]
    },
    {
      "cell_type": "markdown",
      "metadata": {
        "id": "v8OxSXXSz-OP"
      },
      "source": [
        "# Cómo importar las librerías\n"
      ]
    },
    {
      "cell_type": "code",
      "metadata": {
        "id": "edZX51YLzs59"
      },
      "source": [
        "import numpy as np\n",
        "import matplotlib.pyplot as plt\n",
        "import pandas as pd"
      ],
      "execution_count": 5,
      "outputs": []
    },
    {
      "cell_type": "markdown",
      "metadata": {
        "id": "8XfXlqtF0B58"
      },
      "source": [
        "# Importar el data set\n"
      ]
    },
    {
      "cell_type": "code",
      "metadata": {
        "id": "-nnozsHsz_-N",
        "outputId": "55301612-12d6-4473-f943-c614746ed26d",
        "colab": {
          "base_uri": "https://localhost:8080/"
        }
      },
      "source": [
        "dataset = pd.read_csv('/content/machinelearning-az/datasets/Part 1 - Data Preprocessing/Section 2 -------------------- Part 1 - Data Preprocessing --------------------/Data.csv')\n",
        "#Para extraer las variables independientes del dataset\n",
        "X = dataset.iloc[:, :-1].values\n",
        "#Para extraer la variable dependiente o variable a predecir\n",
        "y = dataset.iloc[:, 3].values\n",
        "print(y)\n",
        "print(X)\n"
      ],
      "execution_count": 13,
      "outputs": [
        {
          "output_type": "stream",
          "text": [
            "['No' 'Yes' 'No' 'No' 'Yes' 'Yes' 'No' 'Yes' 'No' 'Yes']\n",
            "[['France' 44.0 72000.0]\n",
            " ['Spain' 27.0 48000.0]\n",
            " ['Germany' 30.0 54000.0]\n",
            " ['Spain' 38.0 61000.0]\n",
            " ['Germany' 40.0 nan]\n",
            " ['France' 35.0 58000.0]\n",
            " ['Spain' nan 52000.0]\n",
            " ['France' 48.0 79000.0]\n",
            " ['Germany' 50.0 83000.0]\n",
            " ['France' 37.0 67000.0]]\n"
          ],
          "name": "stdout"
        }
      ]
    },
    {
      "cell_type": "markdown",
      "metadata": {
        "id": "SsVEdPzf4XmV"
      },
      "source": [
        "# Tratamiento de los NAs"
      ]
    },
    {
      "cell_type": "code",
      "metadata": {
        "id": "v9CtwK834bjy"
      },
      "source": [
        "from sklearn.impute import SimpleImputer"
      ],
      "execution_count": 8,
      "outputs": []
    },
    {
      "cell_type": "code",
      "metadata": {
        "id": "6E8kYa1B4Y4D"
      },
      "source": [
        "#Para reemplazar los valores NA y modificarlos por la media de los valores de las columnas\n",
        "imputer = SimpleImputer(missing_values = np.nan, strategy = \"mean\", verbose=0)\n",
        "#Al crear imputer, vamos a sustituir los valores de las variables independientes (X) de las columnas Age y Salary.\n",
        "imputer = imputer.fit(X[:,1:3]) \n",
        "X[:, 1:3] = imputer.transform(X[:,1:3])"
      ],
      "execution_count": 9,
      "outputs": []
    },
    {
      "cell_type": "markdown",
      "metadata": {
        "id": "5p61cI0s4e4A"
      },
      "source": [
        "# Codificar datos categoricos"
      ]
    },
    {
      "cell_type": "code",
      "metadata": {
        "id": "1UJA5WJh4hAi"
      },
      "source": [
        "from sklearn.preprocessing import LabelEncoder, OneHotEncoder\n",
        "from sklearn.compose import ColumnTransformer"
      ],
      "execution_count": 10,
      "outputs": []
    },
    {
      "cell_type": "code",
      "metadata": {
        "id": "-Ixqi3AS4h1U"
      },
      "source": [
        "labelencoder_X = LabelEncoder()\n",
        "X[:, 0] = labelencoder_X.fit_transform(X[:, 0])"
      ],
      "execution_count": null,
      "outputs": []
    },
    {
      "cell_type": "code",
      "metadata": {
        "id": "jeGjz-Hw4kc6"
      },
      "source": [
        "ct = ColumnTransformer(\n",
        "    [('one_hot_encoder', OneHotEncoder(categories='auto'), [0])],   \n",
        "    remainder='passthrough'                        \n",
        ")"
      ],
      "execution_count": null,
      "outputs": []
    },
    {
      "cell_type": "code",
      "metadata": {
        "id": "LUJTvVqn4mkJ"
      },
      "source": [
        "X = np.array(ct.fit_transform(X), dtype=np.float)\n",
        "labelencoder_y = LabelEncoder()\n",
        "y = labelencoder_y.fit_transform(y)\n"
      ],
      "execution_count": null,
      "outputs": []
    },
    {
      "cell_type": "markdown",
      "metadata": {
        "id": "x8PABYut0i7y"
      },
      "source": [
        "# Dividir el data set en conjunto de entrenamiento y conjunto de testing\n"
      ]
    },
    {
      "cell_type": "code",
      "metadata": {
        "id": "oPVZUP870DoR"
      },
      "source": [
        "from sklearn.model_selection import train_test_split"
      ],
      "execution_count": null,
      "outputs": []
    },
    {
      "cell_type": "code",
      "metadata": {
        "id": "3lajo7ye0lEs"
      },
      "source": [
        "X_train, X_test, y_train, y_test = train_test_split(X, y, test_size = 0.2, random_state = 0)"
      ],
      "execution_count": null,
      "outputs": []
    },
    {
      "cell_type": "markdown",
      "metadata": {
        "id": "YRMD7_oq3J_f"
      },
      "source": [
        "# Escalado de variables"
      ]
    },
    {
      "cell_type": "code",
      "metadata": {
        "id": "BQ-MnRSO0md2"
      },
      "source": [
        "from sklearn.preprocessing import StandardScaler"
      ],
      "execution_count": null,
      "outputs": []
    },
    {
      "cell_type": "code",
      "metadata": {
        "id": "kt9uD3hE0nxd"
      },
      "source": [
        "sc_X = StandardScaler()\n",
        "X_train = sc_X.fit_transform(X_train)\n",
        "X_test = sc_X.transform(X_test)\n",
        "print(X_train.shape)\n",
        "print(X_test.shape)"
      ],
      "execution_count": null,
      "outputs": []
    },
    {
      "cell_type": "code",
      "metadata": {
        "id": "RUvBzSVb43Ur"
      },
      "source": [
        "result_Xtrain = pd.DataFrame({'Column1': X_train[:, 0], 'Column2': X_train[:, 1],'Column3': X_train[:, 2], 'Column4': X_train[:, 3],'Column5': X_train[:, 4]})"
      ],
      "execution_count": null,
      "outputs": []
    },
    {
      "cell_type": "code",
      "metadata": {
        "id": "eQqODyuS4r-N"
      },
      "source": [
        "display(result_Xtrain)"
      ],
      "execution_count": null,
      "outputs": []
    },
    {
      "cell_type": "code",
      "metadata": {
        "id": "m0Zv7jtR4ugk"
      },
      "source": [
        "result_X_test = pd.DataFrame({'Column1': X_test[:, 0], 'Column2': X_test[:, 1],'Column3': X_test[:, 2], 'Column4': X_test[:, 3],'Column5': X_test[:, 4]})"
      ],
      "execution_count": null,
      "outputs": []
    },
    {
      "cell_type": "code",
      "metadata": {
        "id": "U8IM2FlS5dqO"
      },
      "source": [
        "display(result_X_test)"
      ],
      "execution_count": null,
      "outputs": []
    }
  ]
}