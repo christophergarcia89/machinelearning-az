{
  "nbformat": 4,
  "nbformat_minor": 0,
  "metadata": {
    "colab": {
      "name": "multiple_linear_regression_new_version.ipynb",
      "provenance": [],
      "collapsed_sections": [],
      "toc_visible": true
    },
    "kernelspec": {
      "display_name": "Python 3",
      "language": "python",
      "name": "python3"
    },
    "language_info": {
      "codemirror_mode": {
        "name": "ipython",
        "version": 3
      },
      "file_extension": ".py",
      "mimetype": "text/x-python",
      "name": "python",
      "nbconvert_exporter": "python",
      "pygments_lexer": "ipython3",
      "version": "3.8.3"
    }
  },
  "cells": [
    {
      "cell_type": "markdown",
      "metadata": {
        "id": "KdUFcDsdzRyw"
      },
      "source": [
        "# Clonamos el repositorio para obtener los dataSet"
      ]
    },
    {
      "cell_type": "code",
      "metadata": {
        "colab": {
          "base_uri": "https://localhost:8080/"
        },
        "id": "mHReFf3_y9ms",
        "outputId": "caf0bca5-c442-4a8e-e970-62243c81c6cf"
      },
      "source": [
        "!git clone https://github.com/joanby/machinelearning-az.git"
      ],
      "execution_count": 1,
      "outputs": [
        {
          "output_type": "stream",
          "text": [
            "Cloning into 'machinelearning-az'...\n",
            "remote: Enumerating objects: 10497, done.\u001b[K\n",
            "remote: Total 10497 (delta 0), reused 0 (delta 0), pack-reused 10497\u001b[K\n",
            "Receiving objects: 100% (10497/10497), 310.48 MiB | 34.36 MiB/s, done.\n",
            "Resolving deltas: 100% (213/213), done.\n",
            "Checking out files: 100% (10250/10250), done.\n"
          ],
          "name": "stdout"
        }
      ]
    },
    {
      "cell_type": "markdown",
      "metadata": {
        "id": "vNKZXgtKzU2x"
      },
      "source": [
        "# Damos acceso a nuestro Drive"
      ]
    },
    {
      "cell_type": "code",
      "metadata": {
        "id": "5gu7KWnzzUQ0"
      },
      "source": [
        "from google.colab import drive\n",
        "drive.mount('/content/drive')"
      ],
      "execution_count": null,
      "outputs": []
    },
    {
      "cell_type": "markdown",
      "metadata": {
        "id": "1gUxIkHWzfHV"
      },
      "source": [
        "# Test it"
      ]
    },
    {
      "cell_type": "code",
      "metadata": {
        "id": "mIQt3jBMzYRE"
      },
      "source": [
        "!ls '/content/drive/My Drive' "
      ],
      "execution_count": null,
      "outputs": []
    },
    {
      "cell_type": "markdown",
      "metadata": {
        "id": "mHsK36uN0XB-"
      },
      "source": [
        "# Google colab tools"
      ]
    },
    {
      "cell_type": "code",
      "metadata": {
        "id": "kTzwfUPWzrm4"
      },
      "source": [
        "from google.colab import files # Para manejar los archivos y, por ejemplo, exportar a su navegador\n",
        "import glob # Para manejar los archivos y, por ejemplo, exportar a su navegador\n",
        "from google.colab import drive # Montar tu Google drive"
      ],
      "execution_count": 2,
      "outputs": []
    },
    {
      "cell_type": "markdown",
      "metadata": {
        "id": "uab9OAbV8hYN"
      },
      "source": [
        "# Instalar dependendias"
      ]
    },
    {
      "cell_type": "code",
      "metadata": {
        "colab": {
          "base_uri": "https://localhost:8080/"
        },
        "id": "qukjDgj98kE4",
        "outputId": "24a7bf38-40c4-4173-9ec1-e0200725bedb"
      },
      "source": [
        "!pip install sklearn"
      ],
      "execution_count": 3,
      "outputs": [
        {
          "output_type": "stream",
          "text": [
            "Requirement already satisfied: sklearn in /usr/local/lib/python3.7/dist-packages (0.0)\n",
            "Requirement already satisfied: scikit-learn in /usr/local/lib/python3.7/dist-packages (from sklearn) (0.22.2.post1)\n",
            "Requirement already satisfied: scipy>=0.17.0 in /usr/local/lib/python3.7/dist-packages (from scikit-learn->sklearn) (1.4.1)\n",
            "Requirement already satisfied: joblib>=0.11 in /usr/local/lib/python3.7/dist-packages (from scikit-learn->sklearn) (1.0.1)\n",
            "Requirement already satisfied: numpy>=1.11.0 in /usr/local/lib/python3.7/dist-packages (from scikit-learn->sklearn) (1.19.5)\n"
          ],
          "name": "stdout"
        }
      ]
    },
    {
      "cell_type": "markdown",
      "metadata": {
        "id": "3yFpBwmNz70v"
      },
      "source": [
        "# Regresión Logística\n"
      ]
    },
    {
      "cell_type": "markdown",
      "metadata": {
        "id": "v8OxSXXSz-OP"
      },
      "source": [
        "# Cómo importar las librerías\n"
      ]
    },
    {
      "cell_type": "code",
      "metadata": {
        "id": "edZX51YLzs59"
      },
      "source": [
        "import numpy as np\n",
        "import matplotlib.pyplot as plt\n",
        "import pandas as pd"
      ],
      "execution_count": 4,
      "outputs": []
    },
    {
      "cell_type": "markdown",
      "metadata": {
        "id": "8XfXlqtF0B58"
      },
      "source": [
        "# Importar el data set\n"
      ]
    },
    {
      "cell_type": "code",
      "metadata": {
        "colab": {
          "base_uri": "https://localhost:8080/"
        },
        "id": "-nnozsHsz_-N",
        "outputId": "b618e209-c610-49e7-b143-1187b5931b97"
      },
      "source": [
        "dataset = pd.read_csv('/content/machinelearning-az/datasets/Part 3 - Classification/Section 14 - Logistic Regression/Social_Network_Ads.csv')\n",
        "#Permiten seleccionar solo ciertas columnas con ataset.iloc[:, [2,3]].values\n",
        "X = dataset.iloc[:, [2,3]].values\n",
        "y = dataset.iloc[:, 4].values\n",
        "print(dataset)\n",
        "print(X)"
      ],
      "execution_count": 5,
      "outputs": [
        {
          "output_type": "stream",
          "text": [
            "      User ID  Gender   Age  EstimatedSalary  Purchased\n",
            "0    15624510    Male  19.0          19000.0          0\n",
            "1    15810944    Male  35.0          20000.0          0\n",
            "2    15668575  Female  26.0          43000.0          0\n",
            "3    15603246  Female  27.0          57000.0          0\n",
            "4    15804002    Male  19.0          76000.0          0\n",
            "..        ...     ...   ...              ...        ...\n",
            "395  15691863  Female  46.0          41000.0          1\n",
            "396  15706071    Male  51.0          23000.0          1\n",
            "397  15654296  Female  50.0          20000.0          1\n",
            "398  15755018    Male  36.0          33000.0          0\n",
            "399  15594041  Female  49.0          36000.0          1\n",
            "\n",
            "[400 rows x 5 columns]\n",
            "[[1.90e+01 1.90e+04]\n",
            " [3.50e+01 2.00e+04]\n",
            " [2.60e+01 4.30e+04]\n",
            " [2.70e+01 5.70e+04]\n",
            " [1.90e+01 7.60e+04]\n",
            " [2.70e+01 5.80e+04]\n",
            " [2.70e+01 8.40e+04]\n",
            " [3.20e+01 1.50e+05]\n",
            " [2.50e+01 3.30e+04]\n",
            " [3.50e+01 6.50e+04]\n",
            " [2.60e+01 8.00e+04]\n",
            " [2.60e+01 5.20e+04]\n",
            " [2.00e+01 8.60e+04]\n",
            " [3.20e+01 1.80e+04]\n",
            " [1.80e+01 8.20e+04]\n",
            " [2.90e+01 8.00e+04]\n",
            " [4.70e+01 2.50e+04]\n",
            " [4.50e+01 2.60e+04]\n",
            " [4.60e+01 2.80e+04]\n",
            " [4.80e+01 2.90e+04]\n",
            " [4.50e+01 2.20e+04]\n",
            " [4.70e+01 4.90e+04]\n",
            " [4.80e+01 4.10e+04]\n",
            " [4.50e+01 2.20e+04]\n",
            " [4.60e+01 2.30e+04]\n",
            " [4.70e+01 2.00e+04]\n",
            " [4.90e+01 2.80e+04]\n",
            " [4.70e+01 3.00e+04]\n",
            " [2.90e+01 4.30e+04]\n",
            " [3.10e+01 1.80e+04]\n",
            " [3.10e+01 7.40e+04]\n",
            " [2.70e+01 1.37e+05]\n",
            " [2.10e+01 1.60e+04]\n",
            " [2.80e+01 4.40e+04]\n",
            " [2.70e+01 9.00e+04]\n",
            " [3.50e+01 2.70e+04]\n",
            " [3.30e+01 2.80e+04]\n",
            " [3.00e+01 4.90e+04]\n",
            " [2.60e+01 7.20e+04]\n",
            " [2.70e+01 3.10e+04]\n",
            " [2.70e+01 1.70e+04]\n",
            " [3.30e+01 5.10e+04]\n",
            " [3.50e+01 1.08e+05]\n",
            " [3.00e+01 1.50e+04]\n",
            " [2.80e+01 8.40e+04]\n",
            " [2.30e+01 2.00e+04]\n",
            " [2.50e+01 7.90e+04]\n",
            " [2.70e+01 5.40e+04]\n",
            " [3.00e+01 1.35e+05]\n",
            " [3.10e+01 8.90e+04]\n",
            " [2.40e+01 3.20e+04]\n",
            " [1.80e+01 4.40e+04]\n",
            " [2.90e+01 8.30e+04]\n",
            " [3.50e+01 2.30e+04]\n",
            " [2.70e+01 5.80e+04]\n",
            " [2.40e+01 5.50e+04]\n",
            " [2.30e+01 4.80e+04]\n",
            " [2.80e+01 7.90e+04]\n",
            " [2.20e+01 1.80e+04]\n",
            " [3.20e+01 1.17e+05]\n",
            " [2.70e+01 2.00e+04]\n",
            " [2.50e+01 8.70e+04]\n",
            " [2.30e+01 6.60e+04]\n",
            " [3.20e+01 1.20e+05]\n",
            " [5.90e+01 8.30e+04]\n",
            " [2.40e+01 5.80e+04]\n",
            " [2.40e+01 1.90e+04]\n",
            " [2.30e+01 8.20e+04]\n",
            " [2.20e+01 6.30e+04]\n",
            " [3.10e+01 6.80e+04]\n",
            " [2.50e+01 8.00e+04]\n",
            " [2.40e+01 2.70e+04]\n",
            " [2.00e+01 2.30e+04]\n",
            " [3.30e+01 1.13e+05]\n",
            " [3.20e+01 1.80e+04]\n",
            " [3.40e+01 1.12e+05]\n",
            " [1.80e+01 5.20e+04]\n",
            " [2.20e+01 2.70e+04]\n",
            " [2.80e+01 8.70e+04]\n",
            " [2.60e+01 1.70e+04]\n",
            " [3.00e+01 8.00e+04]\n",
            " [3.90e+01 4.20e+04]\n",
            " [2.00e+01 4.90e+04]\n",
            " [3.50e+01 8.80e+04]\n",
            " [3.00e+01 6.20e+04]\n",
            " [3.10e+01 1.18e+05]\n",
            " [2.40e+01 5.50e+04]\n",
            " [2.80e+01 8.50e+04]\n",
            " [2.60e+01 8.10e+04]\n",
            " [3.50e+01 5.00e+04]\n",
            " [2.20e+01 8.10e+04]\n",
            " [3.00e+01 1.16e+05]\n",
            " [2.60e+01 1.50e+04]\n",
            " [2.90e+01 2.80e+04]\n",
            " [2.90e+01 8.30e+04]\n",
            " [3.50e+01 4.40e+04]\n",
            " [3.50e+01 2.50e+04]\n",
            " [2.80e+01 1.23e+05]\n",
            " [3.50e+01 7.30e+04]\n",
            " [2.80e+01 3.70e+04]\n",
            " [2.70e+01 8.80e+04]\n",
            " [2.80e+01 5.90e+04]\n",
            " [3.20e+01 8.60e+04]\n",
            " [3.30e+01 1.49e+05]\n",
            " [1.90e+01 2.10e+04]\n",
            " [2.10e+01 7.20e+04]\n",
            " [2.60e+01 3.50e+04]\n",
            " [2.70e+01 8.90e+04]\n",
            " [2.60e+01 8.60e+04]\n",
            " [3.80e+01 8.00e+04]\n",
            " [3.90e+01 7.10e+04]\n",
            " [3.70e+01 7.10e+04]\n",
            " [3.80e+01 6.10e+04]\n",
            " [3.70e+01 5.50e+04]\n",
            " [4.20e+01 8.00e+04]\n",
            " [4.00e+01 5.70e+04]\n",
            " [3.50e+01 7.50e+04]\n",
            " [3.60e+01 5.20e+04]\n",
            " [4.00e+01 5.90e+04]\n",
            " [4.10e+01 5.90e+04]\n",
            " [3.60e+01 7.50e+04]\n",
            " [3.70e+01 7.20e+04]\n",
            " [4.00e+01 7.50e+04]\n",
            " [3.50e+01 5.30e+04]\n",
            " [4.10e+01 5.10e+04]\n",
            " [3.90e+01 6.10e+04]\n",
            " [4.20e+01 6.50e+04]\n",
            " [2.60e+01 3.20e+04]\n",
            " [3.00e+01 1.70e+04]\n",
            " [2.60e+01 8.40e+04]\n",
            " [3.10e+01 5.80e+04]\n",
            " [3.30e+01 3.10e+04]\n",
            " [3.00e+01 8.70e+04]\n",
            " [2.10e+01 6.80e+04]\n",
            " [2.80e+01 5.50e+04]\n",
            " [2.30e+01 6.30e+04]\n",
            " [2.00e+01 8.20e+04]\n",
            " [3.00e+01 1.07e+05]\n",
            " [2.80e+01 5.90e+04]\n",
            " [1.90e+01 2.50e+04]\n",
            " [1.90e+01 8.50e+04]\n",
            " [1.80e+01 6.80e+04]\n",
            " [3.50e+01 5.90e+04]\n",
            " [3.00e+01 8.90e+04]\n",
            " [3.40e+01 2.50e+04]\n",
            " [2.40e+01 8.90e+04]\n",
            " [2.70e+01 9.60e+04]\n",
            " [4.10e+01 3.00e+04]\n",
            " [2.90e+01 6.10e+04]\n",
            " [2.00e+01 7.40e+04]\n",
            " [2.60e+01 1.50e+04]\n",
            " [4.10e+01 4.50e+04]\n",
            " [3.10e+01 7.60e+04]\n",
            " [3.60e+01 5.00e+04]\n",
            " [4.00e+01 4.70e+04]\n",
            " [3.10e+01 1.50e+04]\n",
            " [4.60e+01 5.90e+04]\n",
            " [2.90e+01 7.50e+04]\n",
            " [2.60e+01 3.00e+04]\n",
            " [3.20e+01 1.35e+05]\n",
            " [3.20e+01 1.00e+05]\n",
            " [2.50e+01 9.00e+04]\n",
            " [3.70e+01 3.30e+04]\n",
            " [3.50e+01 3.80e+04]\n",
            " [3.30e+01 6.90e+04]\n",
            " [1.80e+01 8.60e+04]\n",
            " [2.20e+01 5.50e+04]\n",
            " [3.50e+01 7.10e+04]\n",
            " [2.90e+01 1.48e+05]\n",
            " [2.90e+01 4.70e+04]\n",
            " [2.10e+01 8.80e+04]\n",
            " [3.40e+01 1.15e+05]\n",
            " [2.60e+01 1.18e+05]\n",
            " [3.40e+01 4.30e+04]\n",
            " [3.40e+01 7.20e+04]\n",
            " [2.30e+01 2.80e+04]\n",
            " [3.50e+01 4.70e+04]\n",
            " [2.50e+01 2.20e+04]\n",
            " [2.40e+01 2.30e+04]\n",
            " [3.10e+01 3.40e+04]\n",
            " [2.60e+01 1.60e+04]\n",
            " [3.10e+01 7.10e+04]\n",
            " [3.20e+01 1.17e+05]\n",
            " [3.30e+01 4.30e+04]\n",
            " [3.30e+01 6.00e+04]\n",
            " [3.10e+01 6.60e+04]\n",
            " [2.00e+01 8.20e+04]\n",
            " [3.30e+01 4.10e+04]\n",
            " [3.50e+01 7.20e+04]\n",
            " [2.80e+01 3.20e+04]\n",
            " [2.40e+01 8.40e+04]\n",
            " [1.90e+01 2.60e+04]\n",
            " [2.90e+01 4.30e+04]\n",
            " [1.90e+01 7.00e+04]\n",
            " [2.80e+01 8.90e+04]\n",
            " [3.40e+01 4.30e+04]\n",
            " [3.00e+01 7.90e+04]\n",
            " [2.00e+01 3.60e+04]\n",
            " [2.60e+01 8.00e+04]\n",
            " [3.50e+01 2.20e+04]\n",
            " [3.50e+01 3.90e+04]\n",
            " [4.90e+01 7.40e+04]\n",
            " [3.90e+01 1.34e+05]\n",
            " [4.10e+01 7.10e+04]\n",
            " [5.80e+01 1.01e+05]\n",
            " [4.70e+01 4.70e+04]\n",
            " [5.50e+01 1.30e+05]\n",
            " [5.20e+01 1.14e+05]\n",
            " [4.00e+01 1.42e+05]\n",
            " [4.60e+01 2.20e+04]\n",
            " [4.80e+01 9.60e+04]\n",
            " [5.20e+01 1.50e+05]\n",
            " [5.90e+01 4.20e+04]\n",
            " [3.50e+01 5.80e+04]\n",
            " [4.70e+01 4.30e+04]\n",
            " [6.00e+01 1.08e+05]\n",
            " [4.90e+01 6.50e+04]\n",
            " [4.00e+01 7.80e+04]\n",
            " [4.60e+01 9.60e+04]\n",
            " [5.90e+01 1.43e+05]\n",
            " [4.10e+01 8.00e+04]\n",
            " [3.50e+01 9.10e+04]\n",
            " [3.70e+01 1.44e+05]\n",
            " [6.00e+01 1.02e+05]\n",
            " [3.50e+01 6.00e+04]\n",
            " [3.70e+01 5.30e+04]\n",
            " [3.60e+01 1.26e+05]\n",
            " [5.60e+01 1.33e+05]\n",
            " [4.00e+01 7.20e+04]\n",
            " [4.20e+01 8.00e+04]\n",
            " [3.50e+01 1.47e+05]\n",
            " [3.90e+01 4.20e+04]\n",
            " [4.00e+01 1.07e+05]\n",
            " [4.90e+01 8.60e+04]\n",
            " [3.80e+01 1.12e+05]\n",
            " [4.60e+01 7.90e+04]\n",
            " [4.00e+01 5.70e+04]\n",
            " [3.70e+01 8.00e+04]\n",
            " [4.60e+01 8.20e+04]\n",
            " [5.30e+01 1.43e+05]\n",
            " [4.20e+01 1.49e+05]\n",
            " [3.80e+01 5.90e+04]\n",
            " [5.00e+01 8.80e+04]\n",
            " [5.60e+01 1.04e+05]\n",
            " [4.10e+01 7.20e+04]\n",
            " [5.10e+01 1.46e+05]\n",
            " [3.50e+01 5.00e+04]\n",
            " [5.70e+01 1.22e+05]\n",
            " [4.10e+01 5.20e+04]\n",
            " [3.50e+01 9.70e+04]\n",
            " [4.40e+01 3.90e+04]\n",
            " [3.70e+01 5.20e+04]\n",
            " [4.80e+01 1.34e+05]\n",
            " [3.70e+01 1.46e+05]\n",
            " [5.00e+01 4.40e+04]\n",
            " [5.20e+01 9.00e+04]\n",
            " [4.10e+01 7.20e+04]\n",
            " [4.00e+01 5.70e+04]\n",
            " [5.80e+01 9.50e+04]\n",
            " [4.50e+01 1.31e+05]\n",
            " [3.50e+01 7.70e+04]\n",
            " [3.60e+01 1.44e+05]\n",
            " [5.50e+01 1.25e+05]\n",
            " [3.50e+01 7.20e+04]\n",
            " [4.80e+01 9.00e+04]\n",
            " [4.20e+01 1.08e+05]\n",
            " [4.00e+01 7.50e+04]\n",
            " [3.70e+01 7.40e+04]\n",
            " [4.70e+01 1.44e+05]\n",
            " [4.00e+01 6.10e+04]\n",
            " [4.30e+01 1.33e+05]\n",
            " [5.90e+01 7.60e+04]\n",
            " [6.00e+01 4.20e+04]\n",
            " [3.90e+01 1.06e+05]\n",
            " [5.70e+01 2.60e+04]\n",
            " [5.70e+01 7.40e+04]\n",
            " [3.80e+01 7.10e+04]\n",
            " [4.90e+01 8.80e+04]\n",
            " [5.20e+01 3.80e+04]\n",
            " [5.00e+01 3.60e+04]\n",
            " [5.90e+01 8.80e+04]\n",
            " [3.50e+01 6.10e+04]\n",
            " [3.70e+01 7.00e+04]\n",
            " [5.20e+01 2.10e+04]\n",
            " [4.80e+01 1.41e+05]\n",
            " [3.70e+01 9.30e+04]\n",
            " [3.70e+01 6.20e+04]\n",
            " [4.80e+01 1.38e+05]\n",
            " [4.10e+01 7.90e+04]\n",
            " [3.70e+01 7.80e+04]\n",
            " [3.90e+01 1.34e+05]\n",
            " [4.90e+01 8.90e+04]\n",
            " [5.50e+01 3.90e+04]\n",
            " [3.70e+01 7.70e+04]\n",
            " [3.50e+01 5.70e+04]\n",
            " [3.60e+01 6.30e+04]\n",
            " [4.20e+01 7.30e+04]\n",
            " [4.30e+01 1.12e+05]\n",
            " [4.50e+01 7.90e+04]\n",
            " [4.60e+01 1.17e+05]\n",
            " [5.80e+01 3.80e+04]\n",
            " [4.80e+01 7.40e+04]\n",
            " [3.70e+01 1.37e+05]\n",
            " [3.70e+01 7.90e+04]\n",
            " [4.00e+01 6.00e+04]\n",
            " [4.20e+01 5.40e+04]\n",
            " [5.10e+01 1.34e+05]\n",
            " [4.70e+01 1.13e+05]\n",
            " [3.60e+01 1.25e+05]\n",
            " [3.80e+01 5.00e+04]\n",
            " [4.20e+01 7.00e+04]\n",
            " [3.90e+01 9.60e+04]\n",
            " [3.80e+01 5.00e+04]\n",
            " [4.90e+01 1.41e+05]\n",
            " [3.90e+01 7.90e+04]\n",
            " [3.90e+01 7.50e+04]\n",
            " [5.40e+01 1.04e+05]\n",
            " [3.50e+01 5.50e+04]\n",
            " [4.50e+01 3.20e+04]\n",
            " [3.60e+01 6.00e+04]\n",
            " [5.20e+01 1.38e+05]\n",
            " [5.30e+01 8.20e+04]\n",
            " [4.10e+01 5.20e+04]\n",
            " [4.80e+01 3.00e+04]\n",
            " [4.80e+01 1.31e+05]\n",
            " [4.10e+01 6.00e+04]\n",
            " [4.10e+01 7.20e+04]\n",
            " [4.20e+01 7.50e+04]\n",
            " [3.60e+01 1.18e+05]\n",
            " [4.70e+01 1.07e+05]\n",
            " [3.80e+01 5.10e+04]\n",
            " [4.80e+01 1.19e+05]\n",
            " [4.20e+01 6.50e+04]\n",
            " [4.00e+01 6.50e+04]\n",
            " [5.70e+01 6.00e+04]\n",
            " [3.60e+01 5.40e+04]\n",
            " [5.80e+01 1.44e+05]\n",
            " [3.50e+01 7.90e+04]\n",
            " [3.80e+01 5.50e+04]\n",
            " [3.90e+01 1.22e+05]\n",
            " [5.30e+01 1.04e+05]\n",
            " [3.50e+01 7.50e+04]\n",
            " [3.80e+01 6.50e+04]\n",
            " [4.70e+01 5.10e+04]\n",
            " [4.70e+01 1.05e+05]\n",
            " [4.10e+01 6.30e+04]\n",
            " [5.30e+01 7.20e+04]\n",
            " [5.40e+01 1.08e+05]\n",
            " [3.90e+01 7.70e+04]\n",
            " [3.80e+01 6.10e+04]\n",
            " [3.80e+01 1.13e+05]\n",
            " [3.70e+01 7.50e+04]\n",
            " [4.20e+01 9.00e+04]\n",
            " [3.70e+01 5.70e+04]\n",
            " [3.60e+01 9.90e+04]\n",
            " [6.00e+01 3.40e+04]\n",
            " [5.40e+01 7.00e+04]\n",
            " [4.10e+01 7.20e+04]\n",
            " [4.00e+01 7.10e+04]\n",
            " [4.20e+01 5.40e+04]\n",
            " [4.30e+01 1.29e+05]\n",
            " [5.30e+01 3.40e+04]\n",
            " [4.70e+01 5.00e+04]\n",
            " [4.20e+01 7.90e+04]\n",
            " [4.20e+01 1.04e+05]\n",
            " [5.90e+01 2.90e+04]\n",
            " [5.80e+01 4.70e+04]\n",
            " [4.60e+01 8.80e+04]\n",
            " [3.80e+01 7.10e+04]\n",
            " [5.40e+01 2.60e+04]\n",
            " [6.00e+01 4.60e+04]\n",
            " [6.00e+01 8.30e+04]\n",
            " [3.90e+01 7.30e+04]\n",
            " [5.90e+01 1.30e+05]\n",
            " [3.70e+01 8.00e+04]\n",
            " [4.60e+01 3.20e+04]\n",
            " [4.60e+01 7.40e+04]\n",
            " [4.20e+01 5.30e+04]\n",
            " [4.10e+01 8.70e+04]\n",
            " [5.80e+01 2.30e+04]\n",
            " [4.20e+01 6.40e+04]\n",
            " [4.80e+01 3.30e+04]\n",
            " [4.40e+01 1.39e+05]\n",
            " [4.90e+01 2.80e+04]\n",
            " [5.70e+01 3.30e+04]\n",
            " [5.60e+01 6.00e+04]\n",
            " [4.90e+01 3.90e+04]\n",
            " [3.90e+01 7.10e+04]\n",
            " [4.70e+01 3.40e+04]\n",
            " [4.80e+01 3.50e+04]\n",
            " [4.80e+01 3.30e+04]\n",
            " [4.70e+01 2.30e+04]\n",
            " [4.50e+01 4.50e+04]\n",
            " [6.00e+01 4.20e+04]\n",
            " [3.90e+01 5.90e+04]\n",
            " [4.60e+01 4.10e+04]\n",
            " [5.10e+01 2.30e+04]\n",
            " [5.00e+01 2.00e+04]\n",
            " [3.60e+01 3.30e+04]\n",
            " [4.90e+01 3.60e+04]]\n"
          ],
          "name": "stdout"
        }
      ]
    },
    {
      "cell_type": "markdown",
      "metadata": {
        "id": "SsVEdPzf4XmV"
      },
      "source": [
        "# Dividir el data set en conjunto de entrenamiento y conjunto de testing\n"
      ]
    },
    {
      "cell_type": "code",
      "metadata": {
        "id": "v9CtwK834bjy"
      },
      "source": [
        "from sklearn.model_selection import train_test_split\n",
        "#Al 400 casos, dividimos los datos en 300 y 100\n",
        "X_train, X_test, y_train, y_test = train_test_split(X, y, test_size = 0.25, random_state = 0)"
      ],
      "execution_count": 6,
      "outputs": []
    },
    {
      "cell_type": "markdown",
      "metadata": {
        "id": "5AH_uCEz68rb"
      },
      "source": [
        "# Escalado de variables"
      ]
    },
    {
      "cell_type": "code",
      "metadata": {
        "id": "oeuAy8LI69vi"
      },
      "source": [
        "from sklearn.preprocessing import StandardScaler\n",
        "sc_X = StandardScaler()\n",
        "X_train = sc_X.fit_transform(X_train)\n",
        "X_test = sc_X.transform(X_test)"
      ],
      "execution_count": 7,
      "outputs": []
    },
    {
      "cell_type": "markdown",
      "metadata": {
        "id": "cgweTaJ67BOB"
      },
      "source": [
        "# Ajustar el modelo de Regresión Logística en el Conjunto de Entrenamiento"
      ]
    },
    {
      "cell_type": "code",
      "metadata": {
        "id": "4IV8iRddgHUq"
      },
      "source": [
        "from sklearn.linear_model import LogisticRegression"
      ],
      "execution_count": 8,
      "outputs": []
    },
    {
      "cell_type": "code",
      "metadata": {
        "colab": {
          "base_uri": "https://localhost:8080/"
        },
        "id": "2AwTWELX7DZQ",
        "outputId": "c1fbaae9-6589-4ac2-fd65-ae233d0eea56"
      },
      "source": [
        "classifier = LogisticRegression(random_state = 0)\n",
        "classifier.fit(X_train, y_train)"
      ],
      "execution_count": 9,
      "outputs": [
        {
          "output_type": "execute_result",
          "data": {
            "text/plain": [
              "LogisticRegression(C=1.0, class_weight=None, dual=False, fit_intercept=True,\n",
              "                   intercept_scaling=1, l1_ratio=None, max_iter=100,\n",
              "                   multi_class='auto', n_jobs=None, penalty='l2',\n",
              "                   random_state=0, solver='lbfgs', tol=0.0001, verbose=0,\n",
              "                   warm_start=False)"
            ]
          },
          "metadata": {
            "tags": []
          },
          "execution_count": 9
        }
      ]
    },
    {
      "cell_type": "markdown",
      "metadata": {
        "id": "je3kcRlG7JV5"
      },
      "source": [
        "# Predicción de los resultados con el Conjunto de Testing\n"
      ]
    },
    {
      "cell_type": "code",
      "metadata": {
        "colab": {
          "base_uri": "https://localhost:8080/"
        },
        "id": "HS-M9s587Kj3",
        "outputId": "ec575da2-f089-4895-97ab-d2e88cebd64c"
      },
      "source": [
        "y_pred  = classifier.predict(X_test)\n",
        "print(y_pred)"
      ],
      "execution_count": 11,
      "outputs": [
        {
          "output_type": "stream",
          "text": [
            "[0 0 0 0 0 0 0 1 0 1 0 0 0 0 0 0 0 0 1 0 0 1 0 1 0 1 0 0 0 0 0 0 1 0 0 0 0\n",
            " 0 0 1 0 0 0 0 1 0 0 1 0 1 1 0 0 0 1 0 0 0 0 0 0 1 0 0 0 1 0 0 0 0 1 0 0 0\n",
            " 0 0 1 0 1 1 1 1 0 0 1 1 0 1 0 0 0 1 0 0 0 0 0 0 1 1]\n"
          ],
          "name": "stdout"
        }
      ]
    },
    {
      "cell_type": "markdown",
      "metadata": {
        "id": "oQRoejZUgHUr"
      },
      "source": [
        "# Elaborar una matriz de confusión"
      ]
    },
    {
      "cell_type": "code",
      "metadata": {
        "id": "HnLgVX_QgHUr"
      },
      "source": [
        "from sklearn.metrics import confusion_matrix"
      ],
      "execution_count": 12,
      "outputs": []
    },
    {
      "cell_type": "code",
      "metadata": {
        "id": "I0N9gwxSgHUs",
        "outputId": "1565299e-a1ee-4ba0-f9b5-323b637b54a9",
        "colab": {
          "base_uri": "https://localhost:8080/"
        }
      },
      "source": [
        "cm = confusion_matrix(y_test, y_pred)\n",
        "print(cm)"
      ],
      "execution_count": 17,
      "outputs": [
        {
          "output_type": "stream",
          "text": [
            "[[65  3]\n",
            " [ 8 24]]\n"
          ],
          "name": "stdout"
        }
      ]
    },
    {
      "cell_type": "markdown",
      "metadata": {
        "id": "JnMLSqzW8NH7"
      },
      "source": [
        "# Representación gráfica de los resultados del algoritmo en el Conjunto de Entrenamiento"
      ]
    },
    {
      "cell_type": "code",
      "metadata": {
        "id": "EjBUw4ZmgHUs"
      },
      "source": [
        "from matplotlib.colors import ListedColormap"
      ],
      "execution_count": 14,
      "outputs": []
    },
    {
      "cell_type": "code",
      "metadata": {
        "colab": {
          "base_uri": "https://localhost:8080/",
          "height": 352
        },
        "id": "1qZ3wRR08Oar",
        "outputId": "5d659454-f8df-40cd-d07c-675b6b2c3747"
      },
      "source": [
        "X_set, y_set = X_train, y_train\n",
        "X1, X2 = np.meshgrid(np.arange(start = X_set[:, 0].min() - 1, stop = X_set[:, 0].max() + 1, step = 0.01),\n",
        "                     np.arange(start = X_set[:, 1].min() - 1, stop = X_set[:, 1].max() + 1, step = 0.01))\n",
        "plt.contourf(X1, X2, classifier.predict(np.array([X1.ravel(), X2.ravel()]).T).reshape(X1.shape),\n",
        "             alpha = 0.75, cmap = ListedColormap(('red', 'green')))\n",
        "plt.xlim(X1.min(), X1.max())\n",
        "plt.ylim(X2.min(), X2.max())\n",
        "for i, j in enumerate(np.unique(y_set)):\n",
        "    plt.scatter(X_set[y_set == j, 0], X_set[y_set == j, 1],\n",
        "                c = ListedColormap(('red', 'green'))(i), label = j)\n",
        "plt.title('Clasificador (Conjunto de Entrenamiento)')\n",
        "plt.xlabel('Edad')\n",
        "plt.ylabel('Sueldo Estimado')\n",
        "plt.legend()\n",
        "plt.show()"
      ],
      "execution_count": 15,
      "outputs": [
        {
          "output_type": "stream",
          "text": [
            "*c* argument looks like a single numeric RGB or RGBA sequence, which should be avoided as value-mapping will have precedence in case its length matches with *x* & *y*.  Please use the *color* keyword-argument or provide a 2-D array with a single row if you intend to specify the same RGB or RGBA value for all points.\n",
            "*c* argument looks like a single numeric RGB or RGBA sequence, which should be avoided as value-mapping will have precedence in case its length matches with *x* & *y*.  Please use the *color* keyword-argument or provide a 2-D array with a single row if you intend to specify the same RGB or RGBA value for all points.\n"
          ],
          "name": "stderr"
        },
        {
          "output_type": "display_data",
          "data": {
            "image/png": "[encoded data removed]",
            "text/plain": [
              "<Figure size 432x288 with 1 Axes>"
            ]
          },
          "metadata": {
            "tags": [],
            "needs_background": "light"
          }
        }
      ]
    },
    {
      "cell_type": "markdown",
      "metadata": {
        "id": "-pkiz-aEgHUs"
      },
      "source": [
        "# Representación gráfica de los resultados del algoritmo en el Conjunto de Testing"
      ]
    },
    {
      "cell_type": "code",
      "metadata": {
        "id": "fXf6vX09gHUs",
        "outputId": "54344d5f-c55c-40ed-e201-e235c6076509",
        "colab": {
          "base_uri": "https://localhost:8080/",
          "height": 352
        }
      },
      "source": [
        "X_set, y_set = X_test, y_test\n",
        "X1, X2 = np.meshgrid(np.arange(start = X_set[:, 0].min() - 1, stop = X_set[:, 0].max() + 1, step = 0.01),\n",
        "                     np.arange(start = X_set[:, 1].min() - 1, stop = X_set[:, 1].max() + 1, step = 0.01))\n",
        "plt.contourf(X1, X2, classifier.predict(np.array([X1.ravel(), X2.ravel()]).T).reshape(X1.shape),\n",
        "             alpha = 0.75, cmap = ListedColormap(('red', 'green')))\n",
        "plt.xlim(X1.min(), X1.max())\n",
        "plt.ylim(X2.min(), X2.max())\n",
        "for i, j in enumerate(np.unique(y_set)):\n",
        "    plt.scatter(X_set[y_set == j, 0], X_set[y_set == j, 1],\n",
        "                c = ListedColormap(('red', 'green'))(i), label = j)\n",
        "plt.title('Clasificador (Conjunto de Test)')\n",
        "plt.xlabel('Edad')\n",
        "plt.ylabel('Sueldo Estimado')\n",
        "plt.legend()\n",
        "plt.show()"
      ],
      "execution_count": 16,
      "outputs": [
        {
          "output_type": "stream",
          "text": [
            "*c* argument looks like a single numeric RGB or RGBA sequence, which should be avoided as value-mapping will have precedence in case its length matches with *x* & *y*.  Please use the *color* keyword-argument or provide a 2-D array with a single row if you intend to specify the same RGB or RGBA value for all points.\n",
            "*c* argument looks like a single numeric RGB or RGBA sequence, which should be avoided as value-mapping will have precedence in case its length matches with *x* & *y*.  Please use the *color* keyword-argument or provide a 2-D array with a single row if you intend to specify the same RGB or RGBA value for all points.\n"
          ],
          "name": "stderr"
        },
        {
          "output_type": "display_data",
          "data": {
            "image/png": "[encoded data removed]",
            "text/plain": [
              "<Figure size 432x288 with 1 Axes>"
            ]
          },
          "metadata": {
            "tags": [],
            "needs_background": "light"
          }
        }
      ]
    },
    {
      "cell_type": "code",
      "metadata": {
        "id": "bevPSB_ep9Ss",
        "outputId": "dc9f8764-e503-406f-ff78-b6211c67ba96",
        "colab": {
          "base_uri": "https://localhost:8080/"
        }
      },
      "source": [
        "#De acuerdo a la prob. de comprar o no. Compra = 1 | No compra = 0\n",
        "#65 casos (rojos) no compran y 24 casos (verdes) me dice que si compran\n",
        "#3 casos que predecimos que compran, pero en realidad no compran\n",
        "#8 casos que predecimos que no compran, pero en realidad compran\n",
        "print(cm)"
      ],
      "execution_count": 19,
      "outputs": [
        {
          "output_type": "stream",
          "text": [
            "[[65  3]\n",
            " [ 8 24]]\n"
          ],
          "name": "stdout"
        }
      ]
    }
  ]
}